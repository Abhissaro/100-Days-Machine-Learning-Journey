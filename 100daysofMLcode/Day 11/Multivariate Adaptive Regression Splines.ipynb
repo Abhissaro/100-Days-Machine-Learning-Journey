{
 "cells": [
  {
   "cell_type": "code",
   "execution_count": 1,
   "metadata": {},
   "outputs": [],
   "source": [
    "import pandas as pd\n",
    "\n",
    "import numpy as np\n",
    "from pyearth import Earth\n",
    "import matplotlib.pyplot as plt \n",
    "import seaborn as sns\n",
    "from scipy.stats import skew, skewtest"
   ]
  },
  {
   "cell_type": "code",
   "execution_count": 2,
   "metadata": {},
   "outputs": [],
   "source": [
    "df = pd.read_csv('train.csv')\n"
   ]
  },
  {
   "cell_type": "code",
   "execution_count": 3,
   "metadata": {},
   "outputs": [
    {
     "data": {
      "text/html": [
       "<div>\n",
       "<style scoped>\n",
       "    .dataframe tbody tr th:only-of-type {\n",
       "        vertical-align: middle;\n",
       "    }\n",
       "\n",
       "    .dataframe tbody tr th {\n",
       "        vertical-align: top;\n",
       "    }\n",
       "\n",
       "    .dataframe thead th {\n",
       "        text-align: right;\n",
       "    }\n",
       "</style>\n",
       "<table border=\"1\" class=\"dataframe\">\n",
       "  <thead>\n",
       "    <tr style=\"text-align: right;\">\n",
       "      <th></th>\n",
       "      <th>Id</th>\n",
       "      <th>MSSubClass</th>\n",
       "      <th>MSZoning</th>\n",
       "      <th>LotFrontage</th>\n",
       "      <th>LotArea</th>\n",
       "      <th>Street</th>\n",
       "      <th>Alley</th>\n",
       "      <th>LotShape</th>\n",
       "      <th>LandContour</th>\n",
       "      <th>Utilities</th>\n",
       "      <th>...</th>\n",
       "      <th>PoolArea</th>\n",
       "      <th>PoolQC</th>\n",
       "      <th>Fence</th>\n",
       "      <th>MiscFeature</th>\n",
       "      <th>MiscVal</th>\n",
       "      <th>MoSold</th>\n",
       "      <th>YrSold</th>\n",
       "      <th>SaleType</th>\n",
       "      <th>SaleCondition</th>\n",
       "      <th>SalePrice</th>\n",
       "    </tr>\n",
       "  </thead>\n",
       "  <tbody>\n",
       "    <tr>\n",
       "      <th>0</th>\n",
       "      <td>1</td>\n",
       "      <td>60</td>\n",
       "      <td>RL</td>\n",
       "      <td>65.0</td>\n",
       "      <td>8450</td>\n",
       "      <td>Pave</td>\n",
       "      <td>NaN</td>\n",
       "      <td>Reg</td>\n",
       "      <td>Lvl</td>\n",
       "      <td>AllPub</td>\n",
       "      <td>...</td>\n",
       "      <td>0</td>\n",
       "      <td>NaN</td>\n",
       "      <td>NaN</td>\n",
       "      <td>NaN</td>\n",
       "      <td>0</td>\n",
       "      <td>2</td>\n",
       "      <td>2008</td>\n",
       "      <td>WD</td>\n",
       "      <td>Normal</td>\n",
       "      <td>208500</td>\n",
       "    </tr>\n",
       "    <tr>\n",
       "      <th>1</th>\n",
       "      <td>2</td>\n",
       "      <td>20</td>\n",
       "      <td>RL</td>\n",
       "      <td>80.0</td>\n",
       "      <td>9600</td>\n",
       "      <td>Pave</td>\n",
       "      <td>NaN</td>\n",
       "      <td>Reg</td>\n",
       "      <td>Lvl</td>\n",
       "      <td>AllPub</td>\n",
       "      <td>...</td>\n",
       "      <td>0</td>\n",
       "      <td>NaN</td>\n",
       "      <td>NaN</td>\n",
       "      <td>NaN</td>\n",
       "      <td>0</td>\n",
       "      <td>5</td>\n",
       "      <td>2007</td>\n",
       "      <td>WD</td>\n",
       "      <td>Normal</td>\n",
       "      <td>181500</td>\n",
       "    </tr>\n",
       "    <tr>\n",
       "      <th>2</th>\n",
       "      <td>3</td>\n",
       "      <td>60</td>\n",
       "      <td>RL</td>\n",
       "      <td>68.0</td>\n",
       "      <td>11250</td>\n",
       "      <td>Pave</td>\n",
       "      <td>NaN</td>\n",
       "      <td>IR1</td>\n",
       "      <td>Lvl</td>\n",
       "      <td>AllPub</td>\n",
       "      <td>...</td>\n",
       "      <td>0</td>\n",
       "      <td>NaN</td>\n",
       "      <td>NaN</td>\n",
       "      <td>NaN</td>\n",
       "      <td>0</td>\n",
       "      <td>9</td>\n",
       "      <td>2008</td>\n",
       "      <td>WD</td>\n",
       "      <td>Normal</td>\n",
       "      <td>223500</td>\n",
       "    </tr>\n",
       "    <tr>\n",
       "      <th>3</th>\n",
       "      <td>4</td>\n",
       "      <td>70</td>\n",
       "      <td>RL</td>\n",
       "      <td>60.0</td>\n",
       "      <td>9550</td>\n",
       "      <td>Pave</td>\n",
       "      <td>NaN</td>\n",
       "      <td>IR1</td>\n",
       "      <td>Lvl</td>\n",
       "      <td>AllPub</td>\n",
       "      <td>...</td>\n",
       "      <td>0</td>\n",
       "      <td>NaN</td>\n",
       "      <td>NaN</td>\n",
       "      <td>NaN</td>\n",
       "      <td>0</td>\n",
       "      <td>2</td>\n",
       "      <td>2006</td>\n",
       "      <td>WD</td>\n",
       "      <td>Abnorml</td>\n",
       "      <td>140000</td>\n",
       "    </tr>\n",
       "    <tr>\n",
       "      <th>4</th>\n",
       "      <td>5</td>\n",
       "      <td>60</td>\n",
       "      <td>RL</td>\n",
       "      <td>84.0</td>\n",
       "      <td>14260</td>\n",
       "      <td>Pave</td>\n",
       "      <td>NaN</td>\n",
       "      <td>IR1</td>\n",
       "      <td>Lvl</td>\n",
       "      <td>AllPub</td>\n",
       "      <td>...</td>\n",
       "      <td>0</td>\n",
       "      <td>NaN</td>\n",
       "      <td>NaN</td>\n",
       "      <td>NaN</td>\n",
       "      <td>0</td>\n",
       "      <td>12</td>\n",
       "      <td>2008</td>\n",
       "      <td>WD</td>\n",
       "      <td>Normal</td>\n",
       "      <td>250000</td>\n",
       "    </tr>\n",
       "  </tbody>\n",
       "</table>\n",
       "<p>5 rows × 81 columns</p>\n",
       "</div>"
      ],
      "text/plain": [
       "   Id  MSSubClass MSZoning  LotFrontage  LotArea Street Alley LotShape  \\\n",
       "0   1          60       RL         65.0     8450   Pave   NaN      Reg   \n",
       "1   2          20       RL         80.0     9600   Pave   NaN      Reg   \n",
       "2   3          60       RL         68.0    11250   Pave   NaN      IR1   \n",
       "3   4          70       RL         60.0     9550   Pave   NaN      IR1   \n",
       "4   5          60       RL         84.0    14260   Pave   NaN      IR1   \n",
       "\n",
       "  LandContour Utilities  ... PoolArea PoolQC Fence MiscFeature MiscVal MoSold  \\\n",
       "0         Lvl    AllPub  ...        0    NaN   NaN         NaN       0      2   \n",
       "1         Lvl    AllPub  ...        0    NaN   NaN         NaN       0      5   \n",
       "2         Lvl    AllPub  ...        0    NaN   NaN         NaN       0      9   \n",
       "3         Lvl    AllPub  ...        0    NaN   NaN         NaN       0      2   \n",
       "4         Lvl    AllPub  ...        0    NaN   NaN         NaN       0     12   \n",
       "\n",
       "  YrSold  SaleType  SaleCondition  SalePrice  \n",
       "0   2008        WD         Normal     208500  \n",
       "1   2007        WD         Normal     181500  \n",
       "2   2008        WD         Normal     223500  \n",
       "3   2006        WD        Abnorml     140000  \n",
       "4   2008        WD         Normal     250000  \n",
       "\n",
       "[5 rows x 81 columns]"
      ]
     },
     "execution_count": 3,
     "metadata": {},
     "output_type": "execute_result"
    }
   ],
   "source": [
    "df.head()"
   ]
  },
  {
   "cell_type": "code",
   "execution_count": 4,
   "metadata": {},
   "outputs": [
    {
     "data": {
      "text/plain": [
       "Id                 0\n",
       "MSSubClass         0\n",
       "MSZoning           0\n",
       "LotFrontage      259\n",
       "LotArea            0\n",
       "                ... \n",
       "MoSold             0\n",
       "YrSold             0\n",
       "SaleType           0\n",
       "SaleCondition      0\n",
       "SalePrice          0\n",
       "Length: 81, dtype: int64"
      ]
     },
     "execution_count": 4,
     "metadata": {},
     "output_type": "execute_result"
    }
   ],
   "source": [
    "df.isnull().sum()"
   ]
  },
  {
   "cell_type": "code",
   "execution_count": 5,
   "metadata": {},
   "outputs": [],
   "source": [
    "from sklearn.preprocessing import LabelEncoder\n",
    "for i in range(df.shape[1]):\n",
    "    if df.iloc[:,i].dtypes == object:\n",
    "        lbl = LabelEncoder()\n",
    "        lbl.fit(list(df.iloc[:,i].values))\n",
    "        df.iloc[:,i] = lbl.transform(list(df.iloc[:,i].values))"
   ]
  },
  {
   "cell_type": "code",
   "execution_count": 6,
   "metadata": {},
   "outputs": [],
   "source": [
    "X = df.drop(['Id','SalePrice'], axis=1)\n",
    "y = df['SalePrice']\n"
   ]
  },
  {
   "cell_type": "code",
   "execution_count": 7,
   "metadata": {},
   "outputs": [],
   "source": [
    "from sklearn.model_selection import train_test_split\n",
    "X_train,X_test,y_train,y_test = train_test_split(X,y,test_size=0.2)"
   ]
  },
  {
   "cell_type": "code",
   "execution_count": 8,
   "metadata": {
    "collapsed": true
   },
   "outputs": [
    {
     "name": "stderr",
     "output_type": "stream",
     "text": [
      "C:\\Users\\Saurabh\\AppData\\Roaming\\Python\\Python37\\site-packages\\ipykernel_launcher.py:2: SettingWithCopyWarning: \n",
      "A value is trying to be set on a copy of a slice from a DataFrame.\n",
      "Try using .loc[row_indexer,col_indexer] = value instead\n",
      "\n",
      "See the caveats in the documentation: https://pandas.pydata.org/pandas-docs/stable/user_guide/indexing.html#returning-a-view-versus-a-copy\n",
      "  \n",
      "C:\\Users\\Saurabh\\AppData\\Roaming\\Python\\Python37\\site-packages\\ipykernel_launcher.py:3: SettingWithCopyWarning: \n",
      "A value is trying to be set on a copy of a slice from a DataFrame.\n",
      "Try using .loc[row_indexer,col_indexer] = value instead\n",
      "\n",
      "See the caveats in the documentation: https://pandas.pydata.org/pandas-docs/stable/user_guide/indexing.html#returning-a-view-versus-a-copy\n",
      "  This is separate from the ipykernel package so we can avoid doing imports until\n"
     ]
    }
   ],
   "source": [
    "for col in ('GarageYrBlt', 'GarageArea', 'GarageCars', 'LotFrontage', 'MasVnrArea','BsmtFinSF1', 'BsmtFinSF2', 'BsmtUnfSF','TotalBsmtSF', 'BsmtFullBath', 'BsmtHalfBath'):\n",
    "    X_train[col] = X_train[col].fillna(0)\n",
    "    X_test[col] = X_test[col].fillna(0)"
   ]
  },
  {
   "cell_type": "code",
   "execution_count": 9,
   "metadata": {
    "collapsed": true
   },
   "outputs": [
    {
     "name": "stderr",
     "output_type": "stream",
     "text": [
      "C:\\Users\\Saurabh\\AppData\\Roaming\\Python\\Python37\\site-packages\\ipykernel_launcher.py:1: SettingWithCopyWarning: \n",
      "A value is trying to be set on a copy of a slice from a DataFrame.\n",
      "Try using .loc[row_indexer,col_indexer] = value instead\n",
      "\n",
      "See the caveats in the documentation: https://pandas.pydata.org/pandas-docs/stable/user_guide/indexing.html#returning-a-view-versus-a-copy\n",
      "  \"\"\"Entry point for launching an IPython kernel.\n",
      "C:\\Users\\Saurabh\\AppData\\Roaming\\Python\\Python37\\site-packages\\ipykernel_launcher.py:2: SettingWithCopyWarning: \n",
      "A value is trying to be set on a copy of a slice from a DataFrame.\n",
      "Try using .loc[row_indexer,col_indexer] = value instead\n",
      "\n",
      "See the caveats in the documentation: https://pandas.pydata.org/pandas-docs/stable/user_guide/indexing.html#returning-a-view-versus-a-copy\n",
      "  \n"
     ]
    }
   ],
   "source": [
    "X_train['TotalSF'] = X_train['TotalBsmtSF'] + X_train['1stFlrSF'] + X_train['2ndFlrSF']\n",
    "X_test['TotalSF'] = X_test['TotalBsmtSF'] + X_test['1stFlrSF'] + X_test['2ndFlrSF']        \n"
   ]
  },
  {
   "cell_type": "code",
   "execution_count": 10,
   "metadata": {},
   "outputs": [
    {
     "data": {
      "image/png": "[encoded data removed]",
      "text/plain": [
       "<Figure size 432x288 with 1 Axes>"
      ]
     },
     "metadata": {
      "needs_background": "light"
     },
     "output_type": "display_data"
    }
   ],
   "source": [
    "ax = sns.distplot(y_train)\n",
    "plt.show()"
   ]
  },
  {
   "cell_type": "code",
   "execution_count": 11,
   "metadata": {},
   "outputs": [
    {
     "data": {
      "image/png": "[encoded data removed]",
      "text/plain": [
       "<Figure size 432x288 with 1 Axes>"
      ]
     },
     "metadata": {
      "needs_background": "light"
     },
     "output_type": "display_data"
    }
   ],
   "source": [
    "y_train = np.log(y_train)\n",
    "ax = sns.distplot(y_train)\n",
    "plt.show()\n"
   ]
  },
  {
   "cell_type": "code",
   "execution_count": 12,
   "metadata": {},
   "outputs": [
    {
     "name": "stderr",
     "output_type": "stream",
     "text": [
      "C:\\Users\\Saurabh\\anaconda3\\lib\\site-packages\\pyearth\\earth.py:813: FutureWarning: `rcond` parameter will change to the default of machine precision times ``max(M, N)`` where M and N are the input matrix dimensions.\n",
      "To use the future default and silence this warning we advise to pass `rcond=None`, to keep using the old, explicitly pass `rcond=-1`.\n",
      "  pruning_passer.run()\n",
      "C:\\Users\\Saurabh\\anaconda3\\lib\\site-packages\\pyearth\\earth.py:1066: FutureWarning: `rcond` parameter will change to the default of machine precision times ``max(M, N)`` where M and N are the input matrix dimensions.\n",
      "To use the future default and silence this warning we advise to pass `rcond=None`, to keep using the old, explicitly pass `rcond=-1`.\n",
      "  coef, resid = np.linalg.lstsq(B, weighted_y[:, i])[0:2]\n"
     ]
    },
    {
     "data": {
      "text/plain": [
       "0.921960359846551"
      ]
     },
     "execution_count": 12,
     "metadata": {},
     "output_type": "execute_result"
    }
   ],
   "source": [
    "model = Earth()\n",
    "\n",
    "model = Earth(max_degree=2, penalty=1.0, minspan_alpha = 0.01, endspan_alpha = 0.01, endspan=5) #2nd degree formula is necessary to see interactions, penalty and alpha values for making model simple\n",
    "\n",
    "model.fit(X_train, y_train)\n",
    "model.score(X_train, y_train)"
   ]
  },
  {
   "cell_type": "code",
   "execution_count": 13,
   "metadata": {},
   "outputs": [
    {
     "name": "stdout",
     "output_type": "stream",
     "text": [
      "Forward Pass\n",
      "---------------------------------------------------------------\n",
      "iter  parent  var  knot  mse       terms  gcv    rsq    grsq   \n",
      "---------------------------------------------------------------\n",
      "0     -       -    -     0.157352  1      0.158  0.000  0.000  \n",
      "1     0       79   367   0.052122  3      0.052  0.669  0.667  \n",
      "2     0       16   -1    0.031894  4      0.032  0.797  0.796  \n",
      "3     2       18   -1    0.027661  5      0.028  0.824  0.822  \n",
      "4     0       17   -1    0.023624  6      0.024  0.850  0.848  \n",
      "5     2       3    20    0.020889  8      0.021  0.867  0.865  \n",
      "6     2       36   629   0.019285  10     0.020  0.877  0.875  \n",
      "7     3       60   -1    0.017802  11     0.018  0.887  0.884  \n",
      "8     3       78   -1    0.017069  12     0.018  0.892  0.888  \n",
      "9     1       43   1066  0.016420  14     0.017  0.896  0.892  \n",
      "10    2       66   984   0.015875  16     0.017  0.899  0.895  \n",
      "11    0       56   -1    0.015343  17     0.016  0.902  0.898  \n",
      "12    3       39   -1    0.014925  18     0.016  0.905  0.901  \n",
      "13    3       51   618   0.014617  20     0.015  0.907  0.902  \n",
      "14    3       28   847   0.014343  22     0.015  0.909  0.904  \n",
      "15    3       54   -1    0.014081  23     0.015  0.911  0.905  \n",
      "16    2       45   -1    0.013806  24     0.015  0.912  0.907  \n",
      "17    2       3    348   0.013592  26     0.015  0.914  0.908  \n",
      "18    0       3    855   0.013333  28     0.014  0.915  0.909  \n",
      "19    3       50   -1    0.013075  29     0.014  0.917  0.911  \n",
      "20    2       38   619   0.012888  31     0.014  0.918  0.911  \n",
      "21    3       52   -1    0.012700  32     0.014  0.919  0.912  \n",
      "22    16      69   -1    0.012532  33     0.014  0.920  0.913  \n",
      "23    27      3    309   0.012374  35     0.014  0.921  0.914  \n",
      "24    16      40   -1    0.012247  36     0.013  0.922  0.915  \n",
      "---------------------------------------------------------------\n",
      "Stopping Condition 2: Improvement below threshold\n",
      "\n",
      "Pruning Pass\n",
      "----------------------------------------------\n",
      "iter  bf  terms  mse   gcv    rsq     grsq    \n",
      "----------------------------------------------\n",
      "0     -   36     0.01  0.013  0.922   0.915   \n",
      "1     2   35     0.01  0.013  0.922   0.915   \n",
      "2     33  34     0.01  0.013  0.922   0.915   \n",
      "3     3   33     0.01  0.013  0.922   0.915   \n",
      "4     18  32     0.01  0.013  0.921   0.915   \n",
      "5     15  31     0.01  0.013  0.921   0.915   \n",
      "6     20  30     0.01  0.013  0.921   0.915   \n",
      "7     21  29     0.01  0.013  0.921   0.915   \n",
      "8     26  28     0.01  0.014  0.920   0.914   \n",
      "9     34  27     0.01  0.014  0.920   0.914   \n",
      "10    30  26     0.01  0.014  0.919   0.913   \n",
      "11    29  25     0.01  0.014  0.918   0.913   \n",
      "12    8   24     0.01  0.014  0.918   0.912   \n",
      "13    32  23     0.01  0.014  0.917   0.912   \n",
      "14    17  22     0.01  0.014  0.915   0.911   \n",
      "15    35  21     0.01  0.014  0.914   0.910   \n",
      "16    28  20     0.01  0.014  0.913   0.908   \n",
      "17    27  19     0.01  0.015  0.911   0.906   \n",
      "18    16  18     0.01  0.015  0.909   0.905   \n",
      "19    14  17     0.01  0.015  0.907   0.903   \n",
      "20    13  16     0.02  0.016  0.904   0.900   \n",
      "21    12  15     0.02  0.016  0.902   0.898   \n",
      "22    22  14     0.02  0.017  0.899   0.895   \n",
      "23    31  13     0.02  0.017  0.896   0.892   \n",
      "24    23  12     0.02  0.018  0.891   0.888   \n",
      "25    11  11     0.02  0.019  0.885   0.882   \n",
      "26    9   10     0.02  0.020  0.878   0.875   \n",
      "27    1   9      0.02  0.021  0.870   0.867   \n",
      "28    19  8      0.02  0.023  0.856   0.853   \n",
      "29    5   7      0.03  0.029  0.818   0.815   \n",
      "30    4   6      0.03  0.034  0.787   0.785   \n",
      "31    25  5      0.04  0.039  0.755   0.752   \n",
      "32    24  4      0.04  0.045  0.718   0.716   \n",
      "33    6   3      0.04  0.045  0.715   0.713   \n",
      "34    7   2      0.05  0.054  0.659   0.658   \n",
      "35    10  1      0.16  0.158  -0.000  -0.000  \n",
      "----------------------------------------------\n",
      "Selected iteration: 2\n",
      "\n",
      "Earth Model\n",
      "----------------------------------------------------------\n",
      "Basis Function                      Pruned  Coefficient   \n",
      "----------------------------------------------------------\n",
      "(Intercept)                         No      12.5746       \n",
      "h(TotalSF-5496)                     No      -0.000564535  \n",
      "h(5496-TotalSF)                     Yes     None          \n",
      "OverallQual                         No      0.0164507     \n",
      "YearBuilt*h(5496-TotalSF)           No      8.1626e-07    \n",
      "OverallCond                         No      0.0507944     \n",
      "h(LotArea-13265)*h(5496-TotalSF)    No      3.03369e-07   \n",
      "h(13265-LotArea)*h(5496-TotalSF)    No      -3.10568e-07  \n",
      "h(BsmtUnfSF-1063)*h(5496-TotalSF)   No      -5.15496e-08  \n",
      "h(1063-BsmtUnfSF)*h(5496-TotalSF)   No      3.28215e-08   \n",
      "GarageCars*OverallQual              No      0.00841068    \n",
      "SaleCondition*OverallQual           No      0.00397729    \n",
      "h(2ndFlrSF-1538)*h(TotalSF-5496)    No      2.39007e-06   \n",
      "h(1538-2ndFlrSF)*h(TotalSF-5496)    No      5.12513e-07   \n",
      "h(OpenPorchSF-260)*h(5496-TotalSF)  No      -5.29965e-07  \n",
      "h(260-OpenPorchSF)*h(5496-TotalSF)  No      -4.65599e-08  \n",
      "FireplaceQu                         No      -0.0249012    \n",
      "HeatingQC*OverallQual               No      -0.00154295   \n",
      "h(KitchenAbvGr-2)*OverallQual       No      0.0562131     \n",
      "h(2-KitchenAbvGr)*OverallQual       No      0.0199545     \n",
      "h(Foundation-4)*OverallQual         No      -0.0259276    \n",
      "h(4-Foundation)*OverallQual         No      -0.00322231   \n",
      "Functional*OverallQual              No      0.00420852    \n",
      "GrLivArea*h(5496-TotalSF)           No      3.71311e-08   \n",
      "h(LotArea-7032)*h(5496-TotalSF)     No      -3.05778e-07  \n",
      "h(7032-LotArea)*h(5496-TotalSF)     No      2.97462e-07   \n",
      "h(LotArea-63887)                    No      3.40327e-06   \n",
      "h(63887-LotArea)                    No      -1.10347e-05  \n",
      "BedroomAbvGr*OverallQual            No      -0.00330533   \n",
      "h(Heating-4)*h(5496-TotalSF)        No      7.20028e-05   \n",
      "h(4-Heating)*h(5496-TotalSF)        No      1.55567e-05   \n",
      "KitchenQual*OverallQual             No      -0.00370267   \n",
      "ScreenPorch*FireplaceQu             No      6.26056e-05   \n",
      "h(LotArea-12378)*h(63887-LotArea)   Yes     None          \n",
      "h(12378-LotArea)*h(63887-LotArea)   No      4.05005e-10   \n",
      "CentralAir*FireplaceQu              No      0.0124815     \n",
      "----------------------------------------------------------\n",
      "MSE: 0.0123, GCV: 0.0134, RSQ: 0.9220, GRSQ: 0.9149\n"
     ]
    }
   ],
   "source": [
    "print(model.trace())\n",
    "print(model.summary())"
   ]
  }
 ],
 "metadata": {
  "kernelspec": {
   "display_name": "Python 3",
   "language": "python",
   "name": "python3"
  },
  "language_info": {
   "codemirror_mode": {
    "name": "ipython",
    "version": 3
   },
   "file_extension": ".py",
   "mimetype": "text/x-python",
   "name": "python",
   "nbconvert_exporter": "python",
   "pygments_lexer": "ipython3",
   "version": "3.7.6"
  }
 },
 "nbformat": 4,
 "nbformat_minor": 4
}
