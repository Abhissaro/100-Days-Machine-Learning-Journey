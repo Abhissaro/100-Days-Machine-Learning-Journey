{
  "nbformat": 4,
  "nbformat_minor": 0,
  "metadata": {
    "colab": {
      "name": "OCR using Naive Bayes Classifier.ipynb",
      "provenance": []
    },
    "kernelspec": {
      "name": "python3",
      "display_name": "Python 3"
    },
    "accelerator": "GPU",
    "widgets": {
      "application/vnd.jupyter.widget-state+json": {
        "19f4d78b76e24707a7157bc1c633b2e1": {
          "model_module": "@jupyter-widgets/controls",
          "model_name": "HBoxModel",
          "state": {
            "_view_name": "HBoxView",
            "_dom_classes": [],
            "_model_name": "HBoxModel",
            "_view_module": "@jupyter-widgets/controls",
            "_model_module_version": "1.5.0",
            "_view_count": null,
            "_view_module_version": "1.5.0",
            "box_style": "",
            "layout": "IPY_MODEL_17c4437eed7f4d62a0aefa2aa4f98a0e",
            "_model_module": "@jupyter-widgets/controls",
            "children": [
              "IPY_MODEL_f120186d50cb40fa80a70495783eb39f",
              "IPY_MODEL_66576dfadae84ed7af19c49e87a83ca2"
            ]
          }
        },
        "17c4437eed7f4d62a0aefa2aa4f98a0e": {
          "model_module": "@jupyter-widgets/base",
          "model_name": "LayoutModel",
          "state": {
            "_view_name": "LayoutView",
            "grid_template_rows": null,
            "right": null,
            "justify_content": null,
            "_view_module": "@jupyter-widgets/base",
            "overflow": null,
            "_model_module_version": "1.2.0",
            "_view_count": null,
            "flex_flow": null,
            "width": null,
            "min_width": null,
            "border": null,
            "align_items": null,
            "bottom": null,
            "_model_module": "@jupyter-widgets/base",
            "top": null,
            "grid_column": null,
            "overflow_y": null,
            "overflow_x": null,
            "grid_auto_flow": null,
            "grid_area": null,
            "grid_template_columns": null,
            "flex": null,
            "_model_name": "LayoutModel",
            "justify_items": null,
            "grid_row": null,
            "max_height": null,
            "align_content": null,
            "visibility": null,
            "align_self": null,
            "height": null,
            "min_height": null,
            "padding": null,
            "grid_auto_rows": null,
            "grid_gap": null,
            "max_width": null,
            "order": null,
            "_view_module_version": "1.2.0",
            "grid_template_areas": null,
            "object_position": null,
            "object_fit": null,
            "grid_auto_columns": null,
            "margin": null,
            "display": null,
            "left": null
          }
        },
        "f120186d50cb40fa80a70495783eb39f": {
          "model_module": "@jupyter-widgets/controls",
          "model_name": "FloatProgressModel",
          "state": {
            "_view_name": "ProgressView",
            "style": "IPY_MODEL_9ea8c1ceb5c8441aa95d3944f76693f2",
            "_dom_classes": [],
            "description": "",
            "_model_name": "FloatProgressModel",
            "bar_style": "info",
            "max": 1,
            "_view_module": "@jupyter-widgets/controls",
            "_model_module_version": "1.5.0",
            "value": 1,
            "_view_count": null,
            "_view_module_version": "1.5.0",
            "orientation": "horizontal",
            "min": 0,
            "description_tooltip": null,
            "_model_module": "@jupyter-widgets/controls",
            "layout": "IPY_MODEL_bb28c068b7e048049f4a13bf2e6ea416"
          }
        },
        "66576dfadae84ed7af19c49e87a83ca2": {
          "model_module": "@jupyter-widgets/controls",
          "model_name": "HTMLModel",
          "state": {
            "_view_name": "HTMLView",
            "style": "IPY_MODEL_c0b2634fd0e442289380bbad3225f972",
            "_dom_classes": [],
            "description": "",
            "_model_name": "HTMLModel",
            "placeholder": "​",
            "_view_module": "@jupyter-widgets/controls",
            "_model_module_version": "1.5.0",
            "value": " 9920512/? [00:20&lt;00:00, 1558458.65it/s]",
            "_view_count": null,
            "_view_module_version": "1.5.0",
            "description_tooltip": null,
            "_model_module": "@jupyter-widgets/controls",
            "layout": "IPY_MODEL_8a0e36442c1448a394679ccb1942767b"
          }
        },
        "9ea8c1ceb5c8441aa95d3944f76693f2": {
          "model_module": "@jupyter-widgets/controls",
          "model_name": "ProgressStyleModel",
          "state": {
            "_view_name": "StyleView",
            "_model_name": "ProgressStyleModel",
            "description_width": "initial",
            "_view_module": "@jupyter-widgets/base",
            "_model_module_version": "1.5.0",
            "_view_count": null,
            "_view_module_version": "1.2.0",
            "bar_color": null,
            "_model_module": "@jupyter-widgets/controls"
          }
        },
        "bb28c068b7e048049f4a13bf2e6ea416": {
          "model_module": "@jupyter-widgets/base",
          "model_name": "LayoutModel",
          "state": {
            "_view_name": "LayoutView",
            "grid_template_rows": null,
            "right": null,
            "justify_content": null,
            "_view_module": "@jupyter-widgets/base",
            "overflow": null,
            "_model_module_version": "1.2.0",
            "_view_count": null,
            "flex_flow": null,
            "width": null,
            "min_width": null,
            "border": null,
            "align_items": null,
            "bottom": null,
            "_model_module": "@jupyter-widgets/base",
            "top": null,
            "grid_column": null,
            "overflow_y": null,
            "overflow_x": null,
            "grid_auto_flow": null,
            "grid_area": null,
            "grid_template_columns": null,
            "flex": null,
            "_model_name": "LayoutModel",
            "justify_items": null,
            "grid_row": null,
            "max_height": null,
            "align_content": null,
            "visibility": null,
            "align_self": null,
            "height": null,
            "min_height": null,
            "padding": null,
            "grid_auto_rows": null,
            "grid_gap": null,
            "max_width": null,
            "order": null,
            "_view_module_version": "1.2.0",
            "grid_template_areas": null,
            "object_position": null,
            "object_fit": null,
            "grid_auto_columns": null,
            "margin": null,
            "display": null,
            "left": null
          }
        },
        "c0b2634fd0e442289380bbad3225f972": {
          "model_module": "@jupyter-widgets/controls",
          "model_name": "DescriptionStyleModel",
          "state": {
            "_view_name": "StyleView",
            "_model_name": "DescriptionStyleModel",
            "description_width": "",
            "_view_module": "@jupyter-widgets/base",
            "_model_module_version": "1.5.0",
            "_view_count": null,
            "_view_module_version": "1.2.0",
            "_model_module": "@jupyter-widgets/controls"
          }
        },
        "8a0e36442c1448a394679ccb1942767b": {
          "model_module": "@jupyter-widgets/base",
          "model_name": "LayoutModel",
          "state": {
            "_view_name": "LayoutView",
            "grid_template_rows": null,
            "right": null,
            "justify_content": null,
            "_view_module": "@jupyter-widgets/base",
            "overflow": null,
            "_model_module_version": "1.2.0",
            "_view_count": null,
            "flex_flow": null,
            "width": null,
            "min_width": null,
            "border": null,
            "align_items": null,
            "bottom": null,
            "_model_module": "@jupyter-widgets/base",
            "top": null,
            "grid_column": null,
            "overflow_y": null,
            "overflow_x": null,
            "grid_auto_flow": null,
            "grid_area": null,
            "grid_template_columns": null,
            "flex": null,
            "_model_name": "LayoutModel",
            "justify_items": null,
            "grid_row": null,
            "max_height": null,
            "align_content": null,
            "visibility": null,
            "align_self": null,
            "height": null,
            "min_height": null,
            "padding": null,
            "grid_auto_rows": null,
            "grid_gap": null,
            "max_width": null,
            "order": null,
            "_view_module_version": "1.2.0",
            "grid_template_areas": null,
            "object_position": null,
            "object_fit": null,
            "grid_auto_columns": null,
            "margin": null,
            "display": null,
            "left": null
          }
        },
        "a3bab46e83ff4993901b8f70fc378baf": {
          "model_module": "@jupyter-widgets/controls",
          "model_name": "HBoxModel",
          "state": {
            "_view_name": "HBoxView",
            "_dom_classes": [],
            "_model_name": "HBoxModel",
            "_view_module": "@jupyter-widgets/controls",
            "_model_module_version": "1.5.0",
            "_view_count": null,
            "_view_module_version": "1.5.0",
            "box_style": "",
            "layout": "IPY_MODEL_6fc087eebd1a46578997a720c53273cc",
            "_model_module": "@jupyter-widgets/controls",
            "children": [
              "IPY_MODEL_1199cac462604421bc9c056125687caf",
              "IPY_MODEL_6c37bfa9c1ae43d181f29aac27584e51"
            ]
          }
        },
        "6fc087eebd1a46578997a720c53273cc": {
          "model_module": "@jupyter-widgets/base",
          "model_name": "LayoutModel",
          "state": {
            "_view_name": "LayoutView",
            "grid_template_rows": null,
            "right": null,
            "justify_content": null,
            "_view_module": "@jupyter-widgets/base",
            "overflow": null,
            "_model_module_version": "1.2.0",
            "_view_count": null,
            "flex_flow": null,
            "width": null,
            "min_width": null,
            "border": null,
            "align_items": null,
            "bottom": null,
            "_model_module": "@jupyter-widgets/base",
            "top": null,
            "grid_column": null,
            "overflow_y": null,
            "overflow_x": null,
            "grid_auto_flow": null,
            "grid_area": null,
            "grid_template_columns": null,
            "flex": null,
            "_model_name": "LayoutModel",
            "justify_items": null,
            "grid_row": null,
            "max_height": null,
            "align_content": null,
            "visibility": null,
            "align_self": null,
            "height": null,
            "min_height": null,
            "padding": null,
            "grid_auto_rows": null,
            "grid_gap": null,
            "max_width": null,
            "order": null,
            "_view_module_version": "1.2.0",
            "grid_template_areas": null,
            "object_position": null,
            "object_fit": null,
            "grid_auto_columns": null,
            "margin": null,
            "display": null,
            "left": null
          }
        },
        "1199cac462604421bc9c056125687caf": {
          "model_module": "@jupyter-widgets/controls",
          "model_name": "FloatProgressModel",
          "state": {
            "_view_name": "ProgressView",
            "style": "IPY_MODEL_60f3c8cc275a4e9695a2642b52011aef",
            "_dom_classes": [],
            "description": "",
            "_model_name": "FloatProgressModel",
            "bar_style": "info",
            "max": 1,
            "_view_module": "@jupyter-widgets/controls",
            "_model_module_version": "1.5.0",
            "value": 1,
            "_view_count": null,
            "_view_module_version": "1.5.0",
            "orientation": "horizontal",
            "min": 0,
            "description_tooltip": null,
            "_model_module": "@jupyter-widgets/controls",
            "layout": "IPY_MODEL_fb5198063acf4c268334e14700182deb"
          }
        },
        "6c37bfa9c1ae43d181f29aac27584e51": {
          "model_module": "@jupyter-widgets/controls",
          "model_name": "HTMLModel",
          "state": {
            "_view_name": "HTMLView",
            "style": "IPY_MODEL_d4e2522e1dbb4bec94b1bddcb0b90d77",
            "_dom_classes": [],
            "description": "",
            "_model_name": "HTMLModel",
            "placeholder": "​",
            "_view_module": "@jupyter-widgets/controls",
            "_model_module_version": "1.5.0",
            "value": " 32768/? [00:17&lt;00:00, 93473.76it/s]",
            "_view_count": null,
            "_view_module_version": "1.5.0",
            "description_tooltip": null,
            "_model_module": "@jupyter-widgets/controls",
            "layout": "IPY_MODEL_78fb6de673d04637b6654d39e57d16d5"
          }
        },
        "60f3c8cc275a4e9695a2642b52011aef": {
          "model_module": "@jupyter-widgets/controls",
          "model_name": "ProgressStyleModel",
          "state": {
            "_view_name": "StyleView",
            "_model_name": "ProgressStyleModel",
            "description_width": "initial",
            "_view_module": "@jupyter-widgets/base",
            "_model_module_version": "1.5.0",
            "_view_count": null,
            "_view_module_version": "1.2.0",
            "bar_color": null,
            "_model_module": "@jupyter-widgets/controls"
          }
        },
        "fb5198063acf4c268334e14700182deb": {
          "model_module": "@jupyter-widgets/base",
          "model_name": "LayoutModel",
          "state": {
            "_view_name": "LayoutView",
            "grid_template_rows": null,
            "right": null,
            "justify_content": null,
            "_view_module": "@jupyter-widgets/base",
            "overflow": null,
            "_model_module_version": "1.2.0",
            "_view_count": null,
            "flex_flow": null,
            "width": null,
            "min_width": null,
            "border": null,
            "align_items": null,
            "bottom": null,
            "_model_module": "@jupyter-widgets/base",
            "top": null,
            "grid_column": null,
            "overflow_y": null,
            "overflow_x": null,
            "grid_auto_flow": null,
            "grid_area": null,
            "grid_template_columns": null,
            "flex": null,
            "_model_name": "LayoutModel",
            "justify_items": null,
            "grid_row": null,
            "max_height": null,
            "align_content": null,
            "visibility": null,
            "align_self": null,
            "height": null,
            "min_height": null,
            "padding": null,
            "grid_auto_rows": null,
            "grid_gap": null,
            "max_width": null,
            "order": null,
            "_view_module_version": "1.2.0",
            "grid_template_areas": null,
            "object_position": null,
            "object_fit": null,
            "grid_auto_columns": null,
            "margin": null,
            "display": null,
            "left": null
          }
        },
        "d4e2522e1dbb4bec94b1bddcb0b90d77": {
          "model_module": "@jupyter-widgets/controls",
          "model_name": "DescriptionStyleModel",
          "state": {
            "_view_name": "StyleView",
            "_model_name": "DescriptionStyleModel",
            "description_width": "",
            "_view_module": "@jupyter-widgets/base",
            "_model_module_version": "1.5.0",
            "_view_count": null,
            "_view_module_version": "1.2.0",
            "_model_module": "@jupyter-widgets/controls"
          }
        },
        "78fb6de673d04637b6654d39e57d16d5": {
          "model_module": "@jupyter-widgets/base",
          "model_name": "LayoutModel",
          "state": {
            "_view_name": "LayoutView",
            "grid_template_rows": null,
            "right": null,
            "justify_content": null,
            "_view_module": "@jupyter-widgets/base",
            "overflow": null,
            "_model_module_version": "1.2.0",
            "_view_count": null,
            "flex_flow": null,
            "width": null,
            "min_width": null,
            "border": null,
            "align_items": null,
            "bottom": null,
            "_model_module": "@jupyter-widgets/base",
            "top": null,
            "grid_column": null,
            "overflow_y": null,
            "overflow_x": null,
            "grid_auto_flow": null,
            "grid_area": null,
            "grid_template_columns": null,
            "flex": null,
            "_model_name": "LayoutModel",
            "justify_items": null,
            "grid_row": null,
            "max_height": null,
            "align_content": null,
            "visibility": null,
            "align_self": null,
            "height": null,
            "min_height": null,
            "padding": null,
            "grid_auto_rows": null,
            "grid_gap": null,
            "max_width": null,
            "order": null,
            "_view_module_version": "1.2.0",
            "grid_template_areas": null,
            "object_position": null,
            "object_fit": null,
            "grid_auto_columns": null,
            "margin": null,
            "display": null,
            "left": null
          }
        },
        "5914edc0e73c43ab99e3a2cf51f27a6f": {
          "model_module": "@jupyter-widgets/controls",
          "model_name": "HBoxModel",
          "state": {
            "_view_name": "HBoxView",
            "_dom_classes": [],
            "_model_name": "HBoxModel",
            "_view_module": "@jupyter-widgets/controls",
            "_model_module_version": "1.5.0",
            "_view_count": null,
            "_view_module_version": "1.5.0",
            "box_style": "",
            "layout": "IPY_MODEL_8c9887be6b9145409bdf228e5d05b972",
            "_model_module": "@jupyter-widgets/controls",
            "children": [
              "IPY_MODEL_96f190491e424388b3788431334cce97",
              "IPY_MODEL_702c9363887144e790909aa2cc2ae979"
            ]
          }
        },
        "8c9887be6b9145409bdf228e5d05b972": {
          "model_module": "@jupyter-widgets/base",
          "model_name": "LayoutModel",
          "state": {
            "_view_name": "LayoutView",
            "grid_template_rows": null,
            "right": null,
            "justify_content": null,
            "_view_module": "@jupyter-widgets/base",
            "overflow": null,
            "_model_module_version": "1.2.0",
            "_view_count": null,
            "flex_flow": null,
            "width": null,
            "min_width": null,
            "border": null,
            "align_items": null,
            "bottom": null,
            "_model_module": "@jupyter-widgets/base",
            "top": null,
            "grid_column": null,
            "overflow_y": null,
            "overflow_x": null,
            "grid_auto_flow": null,
            "grid_area": null,
            "grid_template_columns": null,
            "flex": null,
            "_model_name": "LayoutModel",
            "justify_items": null,
            "grid_row": null,
            "max_height": null,
            "align_content": null,
            "visibility": null,
            "align_self": null,
            "height": null,
            "min_height": null,
            "padding": null,
            "grid_auto_rows": null,
            "grid_gap": null,
            "max_width": null,
            "order": null,
            "_view_module_version": "1.2.0",
            "grid_template_areas": null,
            "object_position": null,
            "object_fit": null,
            "grid_auto_columns": null,
            "margin": null,
            "display": null,
            "left": null
          }
        },
        "96f190491e424388b3788431334cce97": {
          "model_module": "@jupyter-widgets/controls",
          "model_name": "FloatProgressModel",
          "state": {
            "_view_name": "ProgressView",
            "style": "IPY_MODEL_f9f9ef923f5b472aa730ba9dd2ff9c82",
            "_dom_classes": [],
            "description": "",
            "_model_name": "FloatProgressModel",
            "bar_style": "info",
            "max": 1,
            "_view_module": "@jupyter-widgets/controls",
            "_model_module_version": "1.5.0",
            "value": 1,
            "_view_count": null,
            "_view_module_version": "1.5.0",
            "orientation": "horizontal",
            "min": 0,
            "description_tooltip": null,
            "_model_module": "@jupyter-widgets/controls",
            "layout": "IPY_MODEL_56d5b762f58140088067d2936129fcfb"
          }
        },
        "702c9363887144e790909aa2cc2ae979": {
          "model_module": "@jupyter-widgets/controls",
          "model_name": "HTMLModel",
          "state": {
            "_view_name": "HTMLView",
            "style": "IPY_MODEL_ebd4609f3cb046c788dbf06c40666e89",
            "_dom_classes": [],
            "description": "",
            "_model_name": "HTMLModel",
            "placeholder": "​",
            "_view_module": "@jupyter-widgets/controls",
            "_model_module_version": "1.5.0",
            "value": " 1654784/? [00:16&lt;00:00, 290379.99it/s]",
            "_view_count": null,
            "_view_module_version": "1.5.0",
            "description_tooltip": null,
            "_model_module": "@jupyter-widgets/controls",
            "layout": "IPY_MODEL_0e48b3994006453ba99d42187dc5a18f"
          }
        },
        "f9f9ef923f5b472aa730ba9dd2ff9c82": {
          "model_module": "@jupyter-widgets/controls",
          "model_name": "ProgressStyleModel",
          "state": {
            "_view_name": "StyleView",
            "_model_name": "ProgressStyleModel",
            "description_width": "initial",
            "_view_module": "@jupyter-widgets/base",
            "_model_module_version": "1.5.0",
            "_view_count": null,
            "_view_module_version": "1.2.0",
            "bar_color": null,
            "_model_module": "@jupyter-widgets/controls"
          }
        },
        "56d5b762f58140088067d2936129fcfb": {
          "model_module": "@jupyter-widgets/base",
          "model_name": "LayoutModel",
          "state": {
            "_view_name": "LayoutView",
            "grid_template_rows": null,
            "right": null,
            "justify_content": null,
            "_view_module": "@jupyter-widgets/base",
            "overflow": null,
            "_model_module_version": "1.2.0",
            "_view_count": null,
            "flex_flow": null,
            "width": null,
            "min_width": null,
            "border": null,
            "align_items": null,
            "bottom": null,
            "_model_module": "@jupyter-widgets/base",
            "top": null,
            "grid_column": null,
            "overflow_y": null,
            "overflow_x": null,
            "grid_auto_flow": null,
            "grid_area": null,
            "grid_template_columns": null,
            "flex": null,
            "_model_name": "LayoutModel",
            "justify_items": null,
            "grid_row": null,
            "max_height": null,
            "align_content": null,
            "visibility": null,
            "align_self": null,
            "height": null,
            "min_height": null,
            "padding": null,
            "grid_auto_rows": null,
            "grid_gap": null,
            "max_width": null,
            "order": null,
            "_view_module_version": "1.2.0",
            "grid_template_areas": null,
            "object_position": null,
            "object_fit": null,
            "grid_auto_columns": null,
            "margin": null,
            "display": null,
            "left": null
          }
        },
        "ebd4609f3cb046c788dbf06c40666e89": {
          "model_module": "@jupyter-widgets/controls",
          "model_name": "DescriptionStyleModel",
          "state": {
            "_view_name": "StyleView",
            "_model_name": "DescriptionStyleModel",
            "description_width": "",
            "_view_module": "@jupyter-widgets/base",
            "_model_module_version": "1.5.0",
            "_view_count": null,
            "_view_module_version": "1.2.0",
            "_model_module": "@jupyter-widgets/controls"
          }
        },
        "0e48b3994006453ba99d42187dc5a18f": {
          "model_module": "@jupyter-widgets/base",
          "model_name": "LayoutModel",
          "state": {
            "_view_name": "LayoutView",
            "grid_template_rows": null,
            "right": null,
            "justify_content": null,
            "_view_module": "@jupyter-widgets/base",
            "overflow": null,
            "_model_module_version": "1.2.0",
            "_view_count": null,
            "flex_flow": null,
            "width": null,
            "min_width": null,
            "border": null,
            "align_items": null,
            "bottom": null,
            "_model_module": "@jupyter-widgets/base",
            "top": null,
            "grid_column": null,
            "overflow_y": null,
            "overflow_x": null,
            "grid_auto_flow": null,
            "grid_area": null,
            "grid_template_columns": null,
            "flex": null,
            "_model_name": "LayoutModel",
            "justify_items": null,
            "grid_row": null,
            "max_height": null,
            "align_content": null,
            "visibility": null,
            "align_self": null,
            "height": null,
            "min_height": null,
            "padding": null,
            "grid_auto_rows": null,
            "grid_gap": null,
            "max_width": null,
            "order": null,
            "_view_module_version": "1.2.0",
            "grid_template_areas": null,
            "object_position": null,
            "object_fit": null,
            "grid_auto_columns": null,
            "margin": null,
            "display": null,
            "left": null
          }
        },
        "f04965ca7f1b4bf58540ad5fd65d69d0": {
          "model_module": "@jupyter-widgets/controls",
          "model_name": "HBoxModel",
          "state": {
            "_view_name": "HBoxView",
            "_dom_classes": [],
            "_model_name": "HBoxModel",
            "_view_module": "@jupyter-widgets/controls",
            "_model_module_version": "1.5.0",
            "_view_count": null,
            "_view_module_version": "1.5.0",
            "box_style": "",
            "layout": "IPY_MODEL_b33e340ab0f64b4d84a32d205ab525c0",
            "_model_module": "@jupyter-widgets/controls",
            "children": [
              "IPY_MODEL_7fcc6ea714cf4cbc9b1de7d96ca4e0dd",
              "IPY_MODEL_791c78e6c993487f81b54c60f0959574"
            ]
          }
        },
        "b33e340ab0f64b4d84a32d205ab525c0": {
          "model_module": "@jupyter-widgets/base",
          "model_name": "LayoutModel",
          "state": {
            "_view_name": "LayoutView",
            "grid_template_rows": null,
            "right": null,
            "justify_content": null,
            "_view_module": "@jupyter-widgets/base",
            "overflow": null,
            "_model_module_version": "1.2.0",
            "_view_count": null,
            "flex_flow": null,
            "width": null,
            "min_width": null,
            "border": null,
            "align_items": null,
            "bottom": null,
            "_model_module": "@jupyter-widgets/base",
            "top": null,
            "grid_column": null,
            "overflow_y": null,
            "overflow_x": null,
            "grid_auto_flow": null,
            "grid_area": null,
            "grid_template_columns": null,
            "flex": null,
            "_model_name": "LayoutModel",
            "justify_items": null,
            "grid_row": null,
            "max_height": null,
            "align_content": null,
            "visibility": null,
            "align_self": null,
            "height": null,
            "min_height": null,
            "padding": null,
            "grid_auto_rows": null,
            "grid_gap": null,
            "max_width": null,
            "order": null,
            "_view_module_version": "1.2.0",
            "grid_template_areas": null,
            "object_position": null,
            "object_fit": null,
            "grid_auto_columns": null,
            "margin": null,
            "display": null,
            "left": null
          }
        },
        "7fcc6ea714cf4cbc9b1de7d96ca4e0dd": {
          "model_module": "@jupyter-widgets/controls",
          "model_name": "FloatProgressModel",
          "state": {
            "_view_name": "ProgressView",
            "style": "IPY_MODEL_1e8232ce3ceb490883794efcd71a9d68",
            "_dom_classes": [],
            "description": "  0%",
            "_model_name": "FloatProgressModel",
            "bar_style": "info",
            "max": 1,
            "_view_module": "@jupyter-widgets/controls",
            "_model_module_version": "1.5.0",
            "value": 0,
            "_view_count": null,
            "_view_module_version": "1.5.0",
            "orientation": "horizontal",
            "min": 0,
            "description_tooltip": null,
            "_model_module": "@jupyter-widgets/controls",
            "layout": "IPY_MODEL_0e8b71a7c4b5490189a4935327a67bb9"
          }
        },
        "791c78e6c993487f81b54c60f0959574": {
          "model_module": "@jupyter-widgets/controls",
          "model_name": "HTMLModel",
          "state": {
            "_view_name": "HTMLView",
            "style": "IPY_MODEL_1a15fb581dab448c8fec9938a9db78ae",
            "_dom_classes": [],
            "description": "",
            "_model_name": "HTMLModel",
            "placeholder": "​",
            "_view_module": "@jupyter-widgets/controls",
            "_model_module_version": "1.5.0",
            "value": " 0/4542 [00:00&lt;?, ?it/s]",
            "_view_count": null,
            "_view_module_version": "1.5.0",
            "description_tooltip": null,
            "_model_module": "@jupyter-widgets/controls",
            "layout": "IPY_MODEL_662f7106d4244343baf02d6a68be1500"
          }
        },
        "1e8232ce3ceb490883794efcd71a9d68": {
          "model_module": "@jupyter-widgets/controls",
          "model_name": "ProgressStyleModel",
          "state": {
            "_view_name": "StyleView",
            "_model_name": "ProgressStyleModel",
            "description_width": "initial",
            "_view_module": "@jupyter-widgets/base",
            "_model_module_version": "1.5.0",
            "_view_count": null,
            "_view_module_version": "1.2.0",
            "bar_color": null,
            "_model_module": "@jupyter-widgets/controls"
          }
        },
        "0e8b71a7c4b5490189a4935327a67bb9": {
          "model_module": "@jupyter-widgets/base",
          "model_name": "LayoutModel",
          "state": {
            "_view_name": "LayoutView",
            "grid_template_rows": null,
            "right": null,
            "justify_content": null,
            "_view_module": "@jupyter-widgets/base",
            "overflow": null,
            "_model_module_version": "1.2.0",
            "_view_count": null,
            "flex_flow": null,
            "width": null,
            "min_width": null,
            "border": null,
            "align_items": null,
            "bottom": null,
            "_model_module": "@jupyter-widgets/base",
            "top": null,
            "grid_column": null,
            "overflow_y": null,
            "overflow_x": null,
            "grid_auto_flow": null,
            "grid_area": null,
            "grid_template_columns": null,
            "flex": null,
            "_model_name": "LayoutModel",
            "justify_items": null,
            "grid_row": null,
            "max_height": null,
            "align_content": null,
            "visibility": null,
            "align_self": null,
            "height": null,
            "min_height": null,
            "padding": null,
            "grid_auto_rows": null,
            "grid_gap": null,
            "max_width": null,
            "order": null,
            "_view_module_version": "1.2.0",
            "grid_template_areas": null,
            "object_position": null,
            "object_fit": null,
            "grid_auto_columns": null,
            "margin": null,
            "display": null,
            "left": null
          }
        },
        "1a15fb581dab448c8fec9938a9db78ae": {
          "model_module": "@jupyter-widgets/controls",
          "model_name": "DescriptionStyleModel",
          "state": {
            "_view_name": "StyleView",
            "_model_name": "DescriptionStyleModel",
            "description_width": "",
            "_view_module": "@jupyter-widgets/base",
            "_model_module_version": "1.5.0",
            "_view_count": null,
            "_view_module_version": "1.2.0",
            "_model_module": "@jupyter-widgets/controls"
          }
        },
        "662f7106d4244343baf02d6a68be1500": {
          "model_module": "@jupyter-widgets/base",
          "model_name": "LayoutModel",
          "state": {
            "_view_name": "LayoutView",
            "grid_template_rows": null,
            "right": null,
            "justify_content": null,
            "_view_module": "@jupyter-widgets/base",
            "overflow": null,
            "_model_module_version": "1.2.0",
            "_view_count": null,
            "flex_flow": null,
            "width": null,
            "min_width": null,
            "border": null,
            "align_items": null,
            "bottom": null,
            "_model_module": "@jupyter-widgets/base",
            "top": null,
            "grid_column": null,
            "overflow_y": null,
            "overflow_x": null,
            "grid_auto_flow": null,
            "grid_area": null,
            "grid_template_columns": null,
            "flex": null,
            "_model_name": "LayoutModel",
            "justify_items": null,
            "grid_row": null,
            "max_height": null,
            "align_content": null,
            "visibility": null,
            "align_self": null,
            "height": null,
            "min_height": null,
            "padding": null,
            "grid_auto_rows": null,
            "grid_gap": null,
            "max_width": null,
            "order": null,
            "_view_module_version": "1.2.0",
            "grid_template_areas": null,
            "object_position": null,
            "object_fit": null,
            "grid_auto_columns": null,
            "margin": null,
            "display": null,
            "left": null
          }
        }
      }
    }
  },
  "cells": [
    {
      "cell_type": "code",
      "metadata": {
        "id": "moPnzUg8WQ8Q",
        "colab_type": "code",
        "colab": {
          "base_uri": "https://localhost:8080/",
          "height": 369,
          "referenced_widgets": [
            "19f4d78b76e24707a7157bc1c633b2e1",
            "17c4437eed7f4d62a0aefa2aa4f98a0e",
            "f120186d50cb40fa80a70495783eb39f",
            "66576dfadae84ed7af19c49e87a83ca2",
            "9ea8c1ceb5c8441aa95d3944f76693f2",
            "bb28c068b7e048049f4a13bf2e6ea416",
            "c0b2634fd0e442289380bbad3225f972",
            "8a0e36442c1448a394679ccb1942767b",
            "a3bab46e83ff4993901b8f70fc378baf",
            "6fc087eebd1a46578997a720c53273cc",
            "1199cac462604421bc9c056125687caf",
            "6c37bfa9c1ae43d181f29aac27584e51",
            "60f3c8cc275a4e9695a2642b52011aef",
            "fb5198063acf4c268334e14700182deb",
            "d4e2522e1dbb4bec94b1bddcb0b90d77",
            "78fb6de673d04637b6654d39e57d16d5",
            "5914edc0e73c43ab99e3a2cf51f27a6f",
            "8c9887be6b9145409bdf228e5d05b972",
            "96f190491e424388b3788431334cce97",
            "702c9363887144e790909aa2cc2ae979",
            "f9f9ef923f5b472aa730ba9dd2ff9c82",
            "56d5b762f58140088067d2936129fcfb",
            "ebd4609f3cb046c788dbf06c40666e89",
            "0e48b3994006453ba99d42187dc5a18f",
            "f04965ca7f1b4bf58540ad5fd65d69d0",
            "b33e340ab0f64b4d84a32d205ab525c0",
            "7fcc6ea714cf4cbc9b1de7d96ca4e0dd",
            "791c78e6c993487f81b54c60f0959574",
            "1e8232ce3ceb490883794efcd71a9d68",
            "0e8b71a7c4b5490189a4935327a67bb9",
            "1a15fb581dab448c8fec9938a9db78ae",
            "662f7106d4244343baf02d6a68be1500"
          ]
        },
        "outputId": "067540a4-4aea-4288-b8bb-8a06110937a1"
      },
      "source": [
        "%matplotlib inline\n",
        "import tqdm\n",
        "import numpy as np\n",
        "from matplotlib import pyplot as plt\n",
        "from IPython import display\n",
        "display.set_matplotlib_formats('svg')\n",
        "import torch\n",
        "from torch import tensor\n",
        "from torchvision import transforms, datasets\n",
        "\n",
        "data_transform = transforms.Compose([transforms.Grayscale(), transforms.ToTensor(), transforms.Normalize(mean=[0],std=[1])])\n",
        "\n",
        "mnist_train = datasets.MNIST(root='./data', train=True, download=True, transform=data_transform)\n",
        "mnist_test  = datasets.MNIST(root='./data', train=False, download=True, transform=data_transform)\n",
        "\n",
        "# Initialize the counters\n",
        "xcount = torch.ones((784,10), dtype=torch.float32)\n",
        "ycount = torch.ones((10), dtype=torch.float32)\n",
        "\n",
        "for data, label in mnist_train:\n",
        "    y = int(label)\n",
        "    ycount[y] += 1\n",
        "    xcount[:,y] += data.reshape((784))\n",
        "\n",
        "# using broadcast again for division\n",
        "py = ycount / ycount.sum()\n",
        "px = (xcount / ycount.reshape(1,10))"
      ],
      "execution_count": 1,
      "outputs": [
        {
          "output_type": "stream",
          "text": [
            "Downloading http://yann.lecun.com/exdb/mnist/train-images-idx3-ubyte.gz to ./data/MNIST/raw/train-images-idx3-ubyte.gz\n"
          ],
          "name": "stdout"
        },
        {
          "output_type": "display_data",
          "data": {
            "application/vnd.jupyter.widget-view+json": {
              "model_id": "19f4d78b76e24707a7157bc1c633b2e1",
              "version_minor": 0,
              "version_major": 2
            },
            "text/plain": [
              "HBox(children=(FloatProgress(value=1.0, bar_style='info', max=1.0), HTML(value='')))"
            ]
          },
          "metadata": {
            "tags": []
          }
        },
        {
          "output_type": "stream",
          "text": [
            "Extracting ./data/MNIST/raw/train-images-idx3-ubyte.gz to ./data/MNIST/raw\n",
            "Downloading http://yann.lecun.com/exdb/mnist/train-labels-idx1-ubyte.gz to ./data/MNIST/raw/train-labels-idx1-ubyte.gz\n"
          ],
          "name": "stdout"
        },
        {
          "output_type": "display_data",
          "data": {
            "application/vnd.jupyter.widget-view+json": {
              "model_id": "a3bab46e83ff4993901b8f70fc378baf",
              "version_minor": 0,
              "version_major": 2
            },
            "text/plain": [
              "HBox(children=(FloatProgress(value=1.0, bar_style='info', max=1.0), HTML(value='')))"
            ]
          },
          "metadata": {
            "tags": []
          }
        },
        {
          "output_type": "stream",
          "text": [
            "Extracting ./data/MNIST/raw/train-labels-idx1-ubyte.gz to ./data/MNIST/raw\n",
            "Downloading http://yann.lecun.com/exdb/mnist/t10k-images-idx3-ubyte.gz to ./data/MNIST/raw/t10k-images-idx3-ubyte.gz\n"
          ],
          "name": "stdout"
        },
        {
          "output_type": "display_data",
          "data": {
            "application/vnd.jupyter.widget-view+json": {
              "model_id": "5914edc0e73c43ab99e3a2cf51f27a6f",
              "version_minor": 0,
              "version_major": 2
            },
            "text/plain": [
              "HBox(children=(FloatProgress(value=1.0, bar_style='info', max=1.0), HTML(value='')))"
            ]
          },
          "metadata": {
            "tags": []
          }
        },
        {
          "output_type": "stream",
          "text": [
            "Extracting ./data/MNIST/raw/t10k-images-idx3-ubyte.gz to ./data/MNIST/raw\n",
            "Downloading http://yann.lecun.com/exdb/mnist/t10k-labels-idx1-ubyte.gz to ./data/MNIST/raw/t10k-labels-idx1-ubyte.gz\n"
          ],
          "name": "stdout"
        },
        {
          "output_type": "display_data",
          "data": {
            "application/vnd.jupyter.widget-view+json": {
              "model_id": "f04965ca7f1b4bf58540ad5fd65d69d0",
              "version_minor": 0,
              "version_major": 2
            },
            "text/plain": [
              "HBox(children=(FloatProgress(value=1.0, bar_style='info', max=1.0), HTML(value='')))"
            ]
          },
          "metadata": {
            "tags": []
          }
        },
        {
          "output_type": "stream",
          "text": [
            "Extracting ./data/MNIST/raw/t10k-labels-idx1-ubyte.gz to ./data/MNIST/raw\n",
            "Processing...\n",
            "Done!\n"
          ],
          "name": "stdout"
        },
        {
          "output_type": "stream",
          "text": [
            "/usr/local/lib/python3.6/dist-packages/torchvision/datasets/mnist.py:469: UserWarning: The given NumPy array is not writeable, and PyTorch does not support non-writeable tensors. This means you can write to the underlying (supposedly non-writeable) NumPy array using the tensor. You may want to copy the array to protect its data or make it writeable before converting it to a tensor. This type of warning will be suppressed for the rest of this program. (Triggered internally at  /pytorch/torch/csrc/utils/tensor_numpy.cpp:141.)\n",
            "  return torch.from_numpy(parsed.astype(m[2], copy=False)).view(*s)\n"
          ],
          "name": "stderr"
        }
      ]
    },
    {
      "cell_type": "code",
      "metadata": {
        "id": "C8RClV_TWdVC",
        "colab_type": "code",
        "colab": {}
      },
      "source": [
        "\n",
        "for data, label in mnist_train:\n",
        "    y = int(label)\n",
        "    ycount[y] += 1\n",
        "    xcount[:,y] += data.reshape((784))"
      ],
      "execution_count": 2,
      "outputs": []
    },
    {
      "cell_type": "code",
      "metadata": {
        "id": "riVYIczuWlcA",
        "colab_type": "code",
        "colab": {
          "base_uri": "https://localhost:8080/",
          "height": 142
        },
        "outputId": "253745f3-ccbe-4237-9611-fe933d153515"
      },
      "source": [
        "\n",
        "import matplotlib.pyplot as plt\n",
        "fig, figarr = plt.subplots(1, 10, figsize=(10, 10))\n",
        "for i in range(10):\n",
        "    figarr[i].imshow(xcount[:, i].reshape((28, 28)).numpy(), cmap='hot')\n",
        "    figarr[i].axes.get_xaxis().set_visible(False)\n",
        "    figarr[i].axes.get_yaxis().set_visible(False)\n",
        "\n",
        "plt.show()\n",
        "print('Class probabilities', py)"
      ],
      "execution_count": 3,
      "outputs": [
        {
          "output_type": "display_data",
          "data": {
            "text/plain": [
              "<Figure size 720x720 with 10 Axes>"
            ],
            "image/svg+xml": "<?xml version=\"1.0\" encoding=\"utf-8\" standalone=\"no\"?>\n<!DOCTYPE svg PUBLIC \"-//W3C//DTD SVG 1.1//EN\"\n  \"http://www.w3.org/Graphics/SVG/1.1/DTD/svg11.dtd\">\n<!-- Created with matplotlib (https://matplotlib.org/) -->\n<svg height=\"65.188136pt\" version=\"1.1\" viewBox=\"0 0 575.9 65.188136\" width=\"575.9pt\" xmlns=\"http://www.w3.org/2000/svg\" xmlns:xlink=\"http://www.w3.org/1999/xlink\">\n <defs>\n  <style type=\"text/css\">\n*{stroke-linecap:butt;stroke-linejoin:round;}\n  </style>\n </defs>\n <g id=\"figure_1\">\n  <g id=\"patch_1\">\n   <path d=\"M 0 65.188136 \nL 575.9 65.188136 \nL 575.9 0 \nL 0 0 \nz\n\" style=\"fill:none;\"/>\n  </g>\n  <g id=\"axes_1\">\n   <g id=\"patch_2\">\n    <path d=\"M 10.7 54.488136 \nL 57.988136 54.488136 \nL 57.988136 7.2 \nL 10.7 7.2 \nz\n\" style=\"fill:#ffffff;\"/>\n   </g>\n   <g clip-path=\"url(#p2a94503d24)\">\n    <image height=\"48\" id=\"image6745dcd457\" transform=\"scale(1 -1)translate(0 -48)\" width=\"48\" x=\"10.7\" xlink:href=\"data:image/png;base64,\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\" y=\"-6.488136\"/>\n   </g>\n   <g id=\"patch_3\">\n    <path d=\"M 10.7 54.488136 \nL 10.7 7.2 \n\" style=\"fill:none;stroke:#000000;stroke-linecap:square;stroke-linejoin:miter;stroke-width:0.8;\"/>\n   </g>\n   <g id=\"patch_4\">\n    <path d=\"M 57.988136 54.488136 \nL 57.988136 7.2 \n\" style=\"fill:none;stroke:#000000;stroke-linecap:square;stroke-linejoin:miter;stroke-width:0.8;\"/>\n   </g>\n   <g id=\"patch_5\">\n    <path d=\"M 10.7 54.488136 \nL 57.988136 54.488136 \n\" style=\"fill:none;stroke:#000000;stroke-linecap:square;stroke-linejoin:miter;stroke-width:0.8;\"/>\n   </g>\n   <g id=\"patch_6\">\n    <path d=\"M 10.7 7.2 \nL 57.988136 7.2 \n\" style=\"fill:none;stroke:#000000;stroke-linecap:square;stroke-linejoin:miter;stroke-width:0.8;\"/>\n   </g>\n  </g>\n  <g id=\"axes_2\">\n   <g id=\"patch_7\">\n    <path d=\"M 67.445763 54.488136 \nL 114.733898 54.488136 \nL 114.733898 7.2 \nL 67.445763 7.2 \nz\n\" style=\"fill:#ffffff;\"/>\n   </g>\n   <g clip-path=\"url(#p0ae4c85ee5)\">\n    <image height=\"48\" id=\"imagebd9aee874c\" transform=\"scale(1 -1)translate(0 -48)\" width=\"48\" x=\"67.445763\" xlink:href=\"data:image/png;base64,\niVBORw0KGgoAAAANSUhEUgAAADAAAAAwCAYAAABXAvmHAAAABHNCSVQICAgIfAhkiAAABO9JREFUaIHtmW1rG0cQx3+RKkWRItmR6ti4NTFNQyBN2lIoLoR+jn7aUkqh9Im86QMxaUJcJ0aKYlfxIVXW9c59MTPZ1RVbJ906xpCB5Z72bue/M/vfmblLdTjmAkvpvBUoKm8BnLe8E+pD5RnPk1ADZSQ3AFOwoucVoOYdS16fMtOmjYERMPZaTBhQuQCYQmVP6aa2hh4rOHAGpASkqvAAOAAiPS/rfSgGZCYAU94UXwGWgQ1t68CmgljWPgY2AY5U4SfAI+ApsK1ADoBJQRBzuZA1cxtTehXo6LEKlD0EwxT2kdneVzANvfbdblEQuV3IB1HNAHgPsUz5fdWuri+k0NiHRg+iGLrIrF/GWdRXvMz8IHIBSLRNtPmLcYLOpPlXEzGHLYAKEEOtdzJT2f10TuVzA0i9FmcAHPkDm1naqniK+EzdLfBEb5800/NaYSYA+5gttkgH6SLu00B8ux1DtYJb4U19YSggykxbL8ZNShHJvYht1swCIxwlDvS8E+M4dkVf7Mi1uUnsfccm50xp1CQ7SBl4rufPgBbQifRGG/gAAdOXjuZRWQvYdxe1xFyhRIKszRjxjFcII+0ik36vj5imimwQy0BPOhgxxdomOHLwlT8TFvIlxa2HAQKoi0w6fRzBrwBXr8ONF7AOV0pQSqd9v6jysEA0aoNOEL/vI7vsNvB7Cuwosqst4D58fB0+BzZkwRsd+8qbJRaRhcJpG9wW9ECB9NCTCIRT3wU+EVZacW4E08oXkYXzgQTHRruIFX4AXuwBfwL8i+zRX8HNO7AlVzXv/RDRaOGExoAMEDbaAYnajg+0xybwEdyVdd1kdu4wjxQCYK40QgA8Bv4A+BXZ3UiA28AWfAGdJSEmP+QuKkFSSrNCD3gIPHyJIvkNIboP4dMWfAZ3gCUkoAsBIlhOnCJ7g7ESe+C2uiXgLmy4KKMaaNxCALKx/BjR+wHAt8BfPyG7RA24D1vw5WW4ieQOlsUVkaBVCQsVIpDV/AjECkOgIVpvugSoRnE3Cl5WGSNuxM+IFfgR4adluAVswT0kVGpSHESwsoqJ7dL/vIQr2wBfIxy1KhpvCI5dYA1R3jbENxJK5PlYiu7KT4Hj7xE2GkossQo3kNbGVTSy+fG8YxaW7OB9EDr6Djj8BvhFproDrXWh01vI5tZGsC0CIqgF/ILWGCTefoay6WO5WQGWJFht45SvsBi1Bl8DICAi4O8Yrj1AnLv1RBg1Adbg2h7cfiVGOWC6yGU5R96xgokfIkyQhJ8+sjns4iLVCtAQKm0j4YVV+bLVvVkS1ALZeugQRPkmsicMcQCa4kbWLBc61Pfz5stBAPi1U2tW0KWLBD5tpisCiSshrWq3iT4aMu1Cp4EIvgbMChZaECGLuacPJrwuSVQQbFYgNuP4NaRZEhSA77djPBeC6TpiFwGFME8dV6asa5eRdrf08yQJCsCvuh0hM3oYQ6uP+4mQ8nox2z8DSy99N8zLLoUAJPw/IjU/1ooiO0B7BGvbrs9A+zxH8h7z+fQE5U9zp8IWMN4GF4lWkU040uctJCOA6eKWseoA8bQIYaERrnJ3Wh01CABTChzzWNUuUkVrTCfzppw9HyGWsHJltmp3mlwK+aPbp1Njk6p3L1tG9CtzRpsT8isPgQFk5U38uTyTWMjkrH6t+nLhf3S/BXDecuEB/AfDgJ1gfINDZgAAAABJRU5ErkJggg==\" y=\"-6.488136\"/>\n   </g>\n   <g id=\"patch_8\">\n    <path d=\"M 67.445763 54.488136 \nL 67.445763 7.2 \n\" style=\"fill:none;stroke:#000000;stroke-linecap:square;stroke-linejoin:miter;stroke-width:0.8;\"/>\n   </g>\n   <g id=\"patch_9\">\n    <path d=\"M 114.733898 54.488136 \nL 114.733898 7.2 \n\" style=\"fill:none;stroke:#000000;stroke-linecap:square;stroke-linejoin:miter;stroke-width:0.8;\"/>\n   </g>\n   <g id=\"patch_10\">\n    <path d=\"M 67.445763 54.488136 \nL 114.733898 54.488136 \n\" style=\"fill:none;stroke:#000000;stroke-linecap:square;stroke-linejoin:miter;stroke-width:0.8;\"/>\n   </g>\n   <g id=\"patch_11\">\n    <path d=\"M 67.445763 7.2 \nL 114.733898 7.2 \n\" style=\"fill:none;stroke:#000000;stroke-linecap:square;stroke-linejoin:miter;stroke-width:0.8;\"/>\n   </g>\n  </g>\n  <g id=\"axes_3\">\n   <g id=\"patch_12\">\n    <path d=\"M 124.191525 54.488136 \nL 171.479661 54.488136 \nL 171.479661 7.2 \nL 124.191525 7.2 \nz\n\" style=\"fill:#ffffff;\"/>\n   </g>\n   <g clip-path=\"url(#p269583c389)\">\n    <image height=\"48\" id=\"image41f7ecb847\" transform=\"scale(1 -1)translate(0 -48)\" width=\"48\" x=\"124.191525\" xlink:href=\"data:image/png;base64,\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\" y=\"-6.488136\"/>\n   </g>\n   <g id=\"patch_13\">\n    <path d=\"M 124.191525 54.488136 \nL 124.191525 7.2 \n\" style=\"fill:none;stroke:#000000;stroke-linecap:square;stroke-linejoin:miter;stroke-width:0.8;\"/>\n   </g>\n   <g id=\"patch_14\">\n    <path d=\"M 171.479661 54.488136 \nL 171.479661 7.2 \n\" style=\"fill:none;stroke:#000000;stroke-linecap:square;stroke-linejoin:miter;stroke-width:0.8;\"/>\n   </g>\n   <g id=\"patch_15\">\n    <path d=\"M 124.191525 54.488136 \nL 171.479661 54.488136 \n\" style=\"fill:none;stroke:#000000;stroke-linecap:square;stroke-linejoin:miter;stroke-width:0.8;\"/>\n   </g>\n   <g id=\"patch_16\">\n    <path d=\"M 124.191525 7.2 \nL 171.479661 7.2 \n\" style=\"fill:none;stroke:#000000;stroke-linecap:square;stroke-linejoin:miter;stroke-width:0.8;\"/>\n   </g>\n  </g>\n  <g id=\"axes_4\">\n   <g id=\"patch_17\">\n    <path d=\"M 180.937288 54.488136 \nL 228.225424 54.488136 \nL 228.225424 7.2 \nL 180.937288 7.2 \nz\n\" style=\"fill:#ffffff;\"/>\n   </g>\n   <g clip-path=\"url(#p306bb8aa9b)\">\n    <image height=\"48\" id=\"image490d34fd32\" transform=\"scale(1 -1)translate(0 -48)\" width=\"48\" x=\"180.937288\" xlink:href=\"data:image/png;base64,\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\" y=\"-6.488136\"/>\n   </g>\n   <g id=\"patch_18\">\n    <path d=\"M 180.937288 54.488136 \nL 180.937288 7.2 \n\" style=\"fill:none;stroke:#000000;stroke-linecap:square;stroke-linejoin:miter;stroke-width:0.8;\"/>\n   </g>\n   <g id=\"patch_19\">\n    <path d=\"M 228.225424 54.488136 \nL 228.225424 7.2 \n\" style=\"fill:none;stroke:#000000;stroke-linecap:square;stroke-linejoin:miter;stroke-width:0.8;\"/>\n   </g>\n   <g id=\"patch_20\">\n    <path d=\"M 180.937288 54.488136 \nL 228.225424 54.488136 \n\" style=\"fill:none;stroke:#000000;stroke-linecap:square;stroke-linejoin:miter;stroke-width:0.8;\"/>\n   </g>\n   <g id=\"patch_21\">\n    <path d=\"M 180.937288 7.2 \nL 228.225424 7.2 \n\" style=\"fill:none;stroke:#000000;stroke-linecap:square;stroke-linejoin:miter;stroke-width:0.8;\"/>\n   </g>\n  </g>\n  <g id=\"axes_5\">\n   <g id=\"patch_22\">\n    <path d=\"M 237.683051 54.488136 \nL 284.971186 54.488136 \nL 284.971186 7.2 \nL 237.683051 7.2 \nz\n\" style=\"fill:#ffffff;\"/>\n   </g>\n   <g clip-path=\"url(#p3460bc446a)\">\n    <image height=\"48\" id=\"image2dc1242616\" transform=\"scale(1 -1)translate(0 -48)\" width=\"48\" x=\"237.683051\" xlink:href=\"data:image/png;base64,\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\" y=\"-6.488136\"/>\n   </g>\n   <g id=\"patch_23\">\n    <path d=\"M 237.683051 54.488136 \nL 237.683051 7.2 \n\" style=\"fill:none;stroke:#000000;stroke-linecap:square;stroke-linejoin:miter;stroke-width:0.8;\"/>\n   </g>\n   <g id=\"patch_24\">\n    <path d=\"M 284.971186 54.488136 \nL 284.971186 7.2 \n\" style=\"fill:none;stroke:#000000;stroke-linecap:square;stroke-linejoin:miter;stroke-width:0.8;\"/>\n   </g>\n   <g id=\"patch_25\">\n    <path d=\"M 237.683051 54.488136 \nL 284.971186 54.488136 \n\" style=\"fill:none;stroke:#000000;stroke-linecap:square;stroke-linejoin:miter;stroke-width:0.8;\"/>\n   </g>\n   <g id=\"patch_26\">\n    <path d=\"M 237.683051 7.2 \nL 284.971186 7.2 \n\" style=\"fill:none;stroke:#000000;stroke-linecap:square;stroke-linejoin:miter;stroke-width:0.8;\"/>\n   </g>\n  </g>\n  <g id=\"axes_6\">\n   <g id=\"patch_27\">\n    <path d=\"M 294.428814 54.488136 \nL 341.716949 54.488136 \nL 341.716949 7.2 \nL 294.428814 7.2 \nz\n\" style=\"fill:#ffffff;\"/>\n   </g>\n   <g clip-path=\"url(#p1e498ef244)\">\n    <image height=\"48\" id=\"imaged286d09966\" transform=\"scale(1 -1)translate(0 -48)\" width=\"48\" x=\"294.428814\" xlink:href=\"data:image/png;base64,\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\" y=\"-6.488136\"/>\n   </g>\n   <g id=\"patch_28\">\n    <path d=\"M 294.428814 54.488136 \nL 294.428814 7.2 \n\" style=\"fill:none;stroke:#000000;stroke-linecap:square;stroke-linejoin:miter;stroke-width:0.8;\"/>\n   </g>\n   <g id=\"patch_29\">\n    <path d=\"M 341.716949 54.488136 \nL 341.716949 7.2 \n\" style=\"fill:none;stroke:#000000;stroke-linecap:square;stroke-linejoin:miter;stroke-width:0.8;\"/>\n   </g>\n   <g id=\"patch_30\">\n    <path d=\"M 294.428814 54.488136 \nL 341.716949 54.488136 \n\" style=\"fill:none;stroke:#000000;stroke-linecap:square;stroke-linejoin:miter;stroke-width:0.8;\"/>\n   </g>\n   <g id=\"patch_31\">\n    <path d=\"M 294.428814 7.2 \nL 341.716949 7.2 \n\" style=\"fill:none;stroke:#000000;stroke-linecap:square;stroke-linejoin:miter;stroke-width:0.8;\"/>\n   </g>\n  </g>\n  <g id=\"axes_7\">\n   <g id=\"patch_32\">\n    <path d=\"M 351.174576 54.488136 \nL 398.462712 54.488136 \nL 398.462712 7.2 \nL 351.174576 7.2 \nz\n\" style=\"fill:#ffffff;\"/>\n   </g>\n   <g clip-path=\"url(#pfd554f0faf)\">\n    <image height=\"48\" id=\"imagefa5f41d74f\" transform=\"scale(1 -1)translate(0 -48)\" width=\"48\" x=\"351.174576\" xlink:href=\"data:image/png;base64,\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\" y=\"-6.488136\"/>\n   </g>\n   <g id=\"patch_33\">\n    <path d=\"M 351.174576 54.488136 \nL 351.174576 7.2 \n\" style=\"fill:none;stroke:#000000;stroke-linecap:square;stroke-linejoin:miter;stroke-width:0.8;\"/>\n   </g>\n   <g id=\"patch_34\">\n    <path d=\"M 398.462712 54.488136 \nL 398.462712 7.2 \n\" style=\"fill:none;stroke:#000000;stroke-linecap:square;stroke-linejoin:miter;stroke-width:0.8;\"/>\n   </g>\n   <g id=\"patch_35\">\n    <path d=\"M 351.174576 54.488136 \nL 398.462712 54.488136 \n\" style=\"fill:none;stroke:#000000;stroke-linecap:square;stroke-linejoin:miter;stroke-width:0.8;\"/>\n   </g>\n   <g id=\"patch_36\">\n    <path d=\"M 351.174576 7.2 \nL 398.462712 7.2 \n\" style=\"fill:none;stroke:#000000;stroke-linecap:square;stroke-linejoin:miter;stroke-width:0.8;\"/>\n   </g>\n  </g>\n  <g id=\"axes_8\">\n   <g id=\"patch_37\">\n    <path d=\"M 407.920339 54.488136 \nL 455.208475 54.488136 \nL 455.208475 7.2 \nL 407.920339 7.2 \nz\n\" style=\"fill:#ffffff;\"/>\n   </g>\n   <g clip-path=\"url(#pde9ccf5c73)\">\n    <image height=\"48\" id=\"image9f0befdb67\" transform=\"scale(1 -1)translate(0 -48)\" width=\"48\" x=\"407.920339\" xlink:href=\"data:image/png;base64,\niVBORw0KGgoAAAANSUhEUgAAADAAAAAwCAYAAABXAvmHAAAABHNCSVQICAgIfAhkiAAAB4tJREFUaIHtmVtPW0cQx3/mYGNsbIzB4Ji4JkASConaRkkTqVVf+1T1K/VbVWnVPPShUto0VVQlISWlEBKKw0XcDIZTQx9mhl0bA+YS5SUrrc5lj3fnP/cZRxKwzylG4N23ee+ChmdbD4CaPu/pvV39+7OO9lY/NAJjeo0DUX1O6HrcI5oGAqtAqLOi73b02nYOIC0BMOKiQEYJzul9CsjrtdsDGCpBa0rwIrAKbAArCmhVrzvArgf6QgEY56MKIgVkgSJQUCBXFUxBv48qYVVgQUHM6f2i7ruh63CY+6cBcSIAU4mozpTOnIIoAp/oc+QyTlRbQAXyS0K0vQ6UeBAJ7CkQ31b8+3MBCJq88zeOIurU34awfxxIKsKKgEhOQXIB2BQ1qSGAQkTdQu+cQAGdZrRsxL7XMGPc8w808WRwxlFF2F2D7Ka8XsFJs43zj2MB+NwO9bquBy/qTAHre5DeQliaQfSq5v0oDukVyK0JgJTiilHvct+ZFwLHeaNzFVhWYlYQAg/8o0kDpTQEcpBdE09l9tDG+aVwIgDjyi7CrYo+x4GygpkDEiH0m1+MC8FEvQ0K0DMLmVCW47gA2MzWLgyADwLEZ4OoTwcCrKDf9L9AVGgDKAG9iJUnEXGVofhC3PAq9ZJ4pwBsmL8OEUavIdxbQDRmvwyRFQUQKPEJ/eEgkIP0NKRCwWRuFb2GnH4EUfiulQ/3vVnTa4hIYB+RTBwo/YuweAy4BIzGIFtzsaEK1XlhwLwyoqL7mFezc1oZZ5aen+NsIBoyByyEerOsBNMH6YSE62Gg5CK4aVcH9cngaUbLErADGjNO45QFpBhwdR6YQGxg5ArwEaR7IFqGfUj+AUEFpoFtZYAFObO3CK1JoSXQjemxJWx+uryDuNM5YHIP+BOYAlhCeHwXPo3Bl8BtGOoWOx9A7Mc8k9mFn9WeC4BPvD1bchfz3tcQz7JgdE/rZAnxFRPAF3ALuAlcl3iXUwAJXGCLNjn/SPqOUyEjth0X/mO4GiCO8LZT10yX94FrbyGxBdyrQX4T+AbIQ+RjSP8KMSg+ENVbQczFPJzVBxGl4zh1almFfADRhmlAzahNlZgC/gY23+pKHzAhSd84BFfqpRDHSaFVFTpSAn4FZrVAHPEacRzXbd0/LEQ4th1CyYxmvAfxrXcgtgljkzBdI/sGttdF0XYRowbn5fb1vo3mUjhWAr7naQbCjA6c+DdwBcwUwC/AQ4D7wEtEEhPAPbghmEq4Cs+XaitpRlMJ+NExhui2EZ2ivg6OAP/p3FEQ23q/DQytQV8FuFeBfA/wmZLbCfEHUIbsb/BqT4C/VWZs6Z4nBbemAIzrHToTyp0kEmQzQI+3bqL2Cd9VItqBgTJ0p4G7k9BRAIbkhP4fYDmEGdh8I7bzGhedDYClGC2rUGMZadMk4NctGZwq+XmSRedp4BmIGj0DeKRfdAE3BEtRGJPisD2dVCMckkCAc5tJXIXYj3D9CpLimN7m9PsEwvl9Jc/UyoxvbBaSGWBkGrJXFTaQeQTL0PszbIXwl+6zqswwKRwFpC4b9XXf9D+uxFnbxFQojwv9VqFVEDUAVz+Yay0D/TOISEZmlDUZ6ErD5XUoQuGF7L2mZ1vX4rhRJwHTfd/bmL4PKtHjiNTHEB8+hJNQgLjX9oY90jqv7yH50VdVZcUIsAwds/AUsv/A81AksKhMqOKMuNmok4D5fTvcdNxaKANIUjkAdJY4iD4T2rUaXpMUeVoJqOqeOQV6UGayhCtpBmTzYdm8+ERWMogTiHJ8nXBIhcznm+s0g80haXARCArAdVwI3QI2YHAKBucckIqCyCA2Q0YPOGh7xYE+iBWgOC+p9hPJpxLUp9kn2oCv/2bA3cIfikpvCQhuK7fu6tX6iiBuZxF6y9A7L6BY181ywG0kkeNbpB2WR5RzVAAURVKL+vmaTlOjZiBONGILWglEj8nixDEEXAb6LLWrwu7WQf1LRUFYU3Uc6LymxA8psi6g48BbWJFjrtnPTJuNAwDmURp/YDEhDgQdiBHm9fxxIHYL+BqR1SjE2sXPXrIWRRVn1oNIQjek717r+/8OOGcZbmN94Bc7TQH4QPxgtKpzEUjtQM8cwqYpRMfGHkNkQImKIxzt0q27ENa3e2vtiBFXgafA78BDSZ7mXQfbutvGxKNGHYCaojXvsY749TIwi+jhnWf6gd+4+vw+MKoLptcWo7twMgTYBN4oiJ+A+/B8CyaBaWGU6X0rXYqI/w+NWbz/X4B5oGG9mundBIISYuHjuJ67uS3LCxqVOUC81roQzEskxfgRXm3C98AM8ATXmreofKIK2Qdm9Rs46w8QaWiXkAVgcBZys5B/rAQXcL7X7NqvPc1LVJCsbwaYh9osPNbHSUQKVqVVjyDcRp0E/OFXReZWrZ1uSV0S551szb4/qk1i2eWuMsjmqhJs3K7guuBnAmAg8AhqzEyNuX6LsPEPv0biwTWxjEjzVXa/531zUjbaUnvd36SxS+G/a2UvqP8T4zz/UMIpe6P+gWYXjQSdZo+LGKcG4I+LJOSs4yL+5Xmv4wOA9z0+AHjf4wOA9z3+B7R0POxfEocvAAAAAElFTkSuQmCC\" y=\"-6.488136\"/>\n   </g>\n   <g id=\"patch_38\">\n    <path d=\"M 407.920339 54.488136 \nL 407.920339 7.2 \n\" style=\"fill:none;stroke:#000000;stroke-linecap:square;stroke-linejoin:miter;stroke-width:0.8;\"/>\n   </g>\n   <g id=\"patch_39\">\n    <path d=\"M 455.208475 54.488136 \nL 455.208475 7.2 \n\" style=\"fill:none;stroke:#000000;stroke-linecap:square;stroke-linejoin:miter;stroke-width:0.8;\"/>\n   </g>\n   <g id=\"patch_40\">\n    <path d=\"M 407.920339 54.488136 \nL 455.208475 54.488136 \n\" style=\"fill:none;stroke:#000000;stroke-linecap:square;stroke-linejoin:miter;stroke-width:0.8;\"/>\n   </g>\n   <g id=\"patch_41\">\n    <path d=\"M 407.920339 7.2 \nL 455.208475 7.2 \n\" style=\"fill:none;stroke:#000000;stroke-linecap:square;stroke-linejoin:miter;stroke-width:0.8;\"/>\n   </g>\n  </g>\n  <g id=\"axes_9\">\n   <g id=\"patch_42\">\n    <path d=\"M 464.666102 54.488136 \nL 511.954237 54.488136 \nL 511.954237 7.2 \nL 464.666102 7.2 \nz\n\" style=\"fill:#ffffff;\"/>\n   </g>\n   <g clip-path=\"url(#p4e4fd55ae7)\">\n    <image height=\"48\" id=\"image0aae4c743d\" transform=\"scale(1 -1)translate(0 -48)\" width=\"48\" x=\"464.666102\" xlink:href=\"data:image/png;base64,\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\" y=\"-6.488136\"/>\n   </g>\n   <g id=\"patch_43\">\n    <path d=\"M 464.666102 54.488136 \nL 464.666102 7.2 \n\" style=\"fill:none;stroke:#000000;stroke-linecap:square;stroke-linejoin:miter;stroke-width:0.8;\"/>\n   </g>\n   <g id=\"patch_44\">\n    <path d=\"M 511.954237 54.488136 \nL 511.954237 7.2 \n\" style=\"fill:none;stroke:#000000;stroke-linecap:square;stroke-linejoin:miter;stroke-width:0.8;\"/>\n   </g>\n   <g id=\"patch_45\">\n    <path d=\"M 464.666102 54.488136 \nL 511.954237 54.488136 \n\" style=\"fill:none;stroke:#000000;stroke-linecap:square;stroke-linejoin:miter;stroke-width:0.8;\"/>\n   </g>\n   <g id=\"patch_46\">\n    <path d=\"M 464.666102 7.2 \nL 511.954237 7.2 \n\" style=\"fill:none;stroke:#000000;stroke-linecap:square;stroke-linejoin:miter;stroke-width:0.8;\"/>\n   </g>\n  </g>\n  <g id=\"axes_10\">\n   <g id=\"patch_47\">\n    <path d=\"M 521.411864 54.488136 \nL 568.7 54.488136 \nL 568.7 7.2 \nL 521.411864 7.2 \nz\n\" style=\"fill:#ffffff;\"/>\n   </g>\n   <g clip-path=\"url(#p68c0eb09ea)\">\n    <image height=\"48\" id=\"image30f8fac88f\" transform=\"scale(1 -1)translate(0 -48)\" width=\"48\" x=\"521.411864\" xlink:href=\"data:image/png;base64,\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\" y=\"-6.488136\"/>\n   </g>\n   <g id=\"patch_48\">\n    <path d=\"M 521.411864 54.488136 \nL 521.411864 7.2 \n\" style=\"fill:none;stroke:#000000;stroke-linecap:square;stroke-linejoin:miter;stroke-width:0.8;\"/>\n   </g>\n   <g id=\"patch_49\">\n    <path d=\"M 568.7 54.488136 \nL 568.7 7.2 \n\" style=\"fill:none;stroke:#000000;stroke-linecap:square;stroke-linejoin:miter;stroke-width:0.8;\"/>\n   </g>\n   <g id=\"patch_50\">\n    <path d=\"M 521.411864 54.488136 \nL 568.7 54.488136 \n\" style=\"fill:none;stroke:#000000;stroke-linecap:square;stroke-linejoin:miter;stroke-width:0.8;\"/>\n   </g>\n   <g id=\"patch_51\">\n    <path d=\"M 521.411864 7.2 \nL 568.7 7.2 \n\" style=\"fill:none;stroke:#000000;stroke-linecap:square;stroke-linejoin:miter;stroke-width:0.8;\"/>\n   </g>\n  </g>\n </g>\n <defs>\n  <clipPath id=\"p2a94503d24\">\n   <rect height=\"47.288136\" width=\"47.288136\" x=\"10.7\" y=\"7.2\"/>\n  </clipPath>\n  <clipPath id=\"p0ae4c85ee5\">\n   <rect height=\"47.288136\" width=\"47.288136\" x=\"67.445763\" y=\"7.2\"/>\n  </clipPath>\n  <clipPath id=\"p269583c389\">\n   <rect height=\"47.288136\" width=\"47.288136\" x=\"124.191525\" y=\"7.2\"/>\n  </clipPath>\n  <clipPath id=\"p306bb8aa9b\">\n   <rect height=\"47.288136\" width=\"47.288136\" x=\"180.937288\" y=\"7.2\"/>\n  </clipPath>\n  <clipPath id=\"p3460bc446a\">\n   <rect height=\"47.288136\" width=\"47.288136\" x=\"237.683051\" y=\"7.2\"/>\n  </clipPath>\n  <clipPath id=\"p1e498ef244\">\n   <rect height=\"47.288136\" width=\"47.288136\" x=\"294.428814\" y=\"7.2\"/>\n  </clipPath>\n  <clipPath id=\"pfd554f0faf\">\n   <rect height=\"47.288136\" width=\"47.288136\" x=\"351.174576\" y=\"7.2\"/>\n  </clipPath>\n  <clipPath id=\"pde9ccf5c73\">\n   <rect height=\"47.288136\" width=\"47.288136\" x=\"407.920339\" y=\"7.2\"/>\n  </clipPath>\n  <clipPath id=\"p4e4fd55ae7\">\n   <rect height=\"47.288136\" width=\"47.288136\" x=\"464.666102\" y=\"7.2\"/>\n  </clipPath>\n  <clipPath id=\"p68c0eb09ea\">\n   <rect height=\"47.288136\" width=\"47.288136\" x=\"521.411864\" y=\"7.2\"/>\n  </clipPath>\n </defs>\n</svg>\n"
          },
          "metadata": {
            "tags": [],
            "needs_background": "light"
          }
        },
        {
          "output_type": "stream",
          "text": [
            "Class probabilities tensor([0.0987, 0.1124, 0.0993, 0.1022, 0.0974, 0.0904, 0.0986, 0.1044, 0.0975,\n",
            "        0.0992])\n"
          ],
          "name": "stdout"
        }
      ]
    },
    {
      "cell_type": "code",
      "metadata": {
        "id": "asEynMTOWswL",
        "colab_type": "code",
        "colab": {
          "base_uri": "https://localhost:8080/",
          "height": 51
        },
        "outputId": "bc1f94b9-5e18-4e62-f822-d365a04efbe1"
      },
      "source": [
        "data, label = mnist_test[0]\n",
        "data = data.reshape((784,1))\n",
        "\n",
        "# Compute the per pixel conditional probabilities\n",
        "xprob = (px * data + (1-px) * (1-data))\n",
        "\n",
        "xprob = xprob.prod(0) * py\n",
        "print('Unnormalized Probabilities', xprob)\n",
        "# Normalization\n",
        "xprob = xprob / xprob.sum()\n",
        "print('Normalized Probabilities', xprob)"
      ],
      "execution_count": 4,
      "outputs": [
        {
          "output_type": "stream",
          "text": [
            "Unnormalized Probabilities tensor([0., 0., 0., 0., 0., 0., 0., 0., 0., 0.])\n",
            "Normalized Probabilities tensor([nan, nan, nan, nan, nan, nan, nan, nan, nan, nan])\n"
          ],
          "name": "stdout"
        }
      ]
    },
    {
      "cell_type": "code",
      "metadata": {
        "id": "puXh2Nv-W0qn",
        "colab_type": "code",
        "colab": {
          "base_uri": "https://localhost:8080/",
          "height": 262
        },
        "outputId": "2a850438-9c0e-4fed-81ee-52208301d99c"
      },
      "source": [
        "logpx = torch.log(px)\n",
        "logpxneg = torch.log(1-px)\n",
        "logpy = torch.log(py)\n",
        "\n",
        "def bayespost(data):\n",
        "    logpost = logpy.clone()\n",
        "    logpost += (logpx * data + logpxneg * (1-data)).sum(0)\n",
        "    \n",
        "    logpost -= torch.max(logpost)\n",
        "\n",
        "    post = torch.exp(logpost).numpy()\n",
        "    post /= np.sum(post)\n",
        "    return post\n",
        "\n",
        "fig, figarr = plt.subplots(2, 10, figsize=(10, 3))\n",
        "\n",
        "# 10 images\n",
        "ctr = 0\n",
        "for data, label in mnist_test:\n",
        "    x = data.reshape((784,1))\n",
        "    y = int(label)\n",
        "\n",
        "    post = bayespost(x)\n",
        "\n",
        "    # Bar chart and image of digit\n",
        "    figarr[1, ctr].bar(range(10), post)\n",
        "    figarr[1, ctr].axes.get_yaxis().set_visible(False)\n",
        "    figarr[0, ctr].imshow(x.reshape((28, 28)).numpy(), cmap='hot')\n",
        "    figarr[0, ctr].axes.get_xaxis().set_visible(False)\n",
        "    figarr[0, ctr].axes.get_yaxis().set_visible(False)\n",
        "    ctr += 1\n",
        "\n",
        "    if ctr == 10:\n",
        "        break\n",
        "\n",
        "plt.show()"
      ],
      "execution_count": 6,
      "outputs": [
        {
          "output_type": "display_data",
          "data": {
            "text/plain": [
              "<Figure size 720x216 with 20 Axes>"
            ],
            "image/svg+xml": "<?xml version=\"1.0\" encoding=\"utf-8\" standalone=\"no\"?>\n<!DOCTYPE svg PUBLIC \"-//W3C//DTD SVG 1.1//EN\"\n  \"http://www.w3.org/Graphics/SVG/1.1/DTD/svg11.dtd\">\n<!-- Created with matplotlib (https://matplotlib.org/) -->\n<svg height=\"180.738556pt\" version=\"1.1\" viewBox=\"0 0 575.9 180.738556\" width=\"575.9pt\" xmlns=\"http://www.w3.org/2000/svg\" xmlns:xlink=\"http://www.w3.org/1999/xlink\">\n <defs>\n  <style type=\"text/css\">\n*{stroke-linecap:butt;stroke-linejoin:round;}\n  </style>\n </defs>\n <g id=\"figure_1\">\n  <g id=\"patch_1\">\n   <path d=\"M 0 180.738556 \nL 575.9 180.738556 \nL 575.9 0 \nL 0 0 \nz\n\" style=\"fill:none;\"/>\n  </g>\n  <g id=\"axes_1\">\n   <g id=\"patch_2\">\n    <path d=\"M 10.7 54.488136 \nL 57.988136 54.488136 \nL 57.988136 7.2 \nL 10.7 7.2 \nz\n\" style=\"fill:#ffffff;\"/>\n   </g>\n   <g clip-path=\"url(#pb37cc65e16)\">\n    <image height=\"48\" id=\"imagef2d1c681f0\" transform=\"scale(1 -1)translate(0 -48)\" width=\"48\" x=\"10.7\" xlink:href=\"data:image/png;base64,\niVBORw0KGgoAAAANSUhEUgAAADAAAAAwCAYAAABXAvmHAAAABHNCSVQICAgIfAhkiAAABDJJREFUaIHt2G1ollUcBvDfnOZwq9SyJBQjNN9mhlaTVcxloGIRajkwmSWUWdCLiYZFyAozSoQIMijMBKVlL6hMpITMl1DL7M3mhxLRZHNLVpuydNM+nHtoQ+15vO/nGcIuuD88576f8z/X+b9d5+T04IzLGF3jTpCLiRiCyWhEHd7BDzge18D/ICeuB/JxtAdewdxD2I637M3Z4THsR2vsZV4YXRKbJRfyMBJPu3UDu+/lQQxOxMiFTcfHKZyEFgzEVCZ9wBe3KMWNiRg5P2ITOInV/+B9qEZ99GYSyvVH77hGLoLYBE5jN2r2w4f4LnrTE/3kiaIrQ4hNoFXY/Gdgzgpa7os7ZVpIJAdacQh/Lkcl7EUTCozpzqgkjFwAySQxDuJJeBs2oQZXU0apzIVRYgQa8S0Wf4P8lwQ6Q1j5qJvXsQTFSRk7B7EbWXsMxu149xh61QnJXORkzh4LsQLNCdpLzANt+B1VhJWaiwYsdcWZO7w5gPECpaSQOIFTQjhZio9XCdKiKx6nnKfQJ0F7iRMgkBhxhAXT4GUhxWdSMcqdaylM0FZGCBAU6R4o+5FfZwiRX87UYWbgHslUpowRaBSERVWloFTVYBwqTOhOSULGM0YA/sICrFqD5YMwH0V8z7ypQbvGRUYJtApV6UuCF/7eiHqGFlMWVGrcipRRAm3YKCS1WbAQFTxUar7QpeMgKwSahaS2DQc2RiMlppRShm4x5s4KgVYhqX+qFQ7L6jGezdw/UCzJnRUCbViP428Qjvt9yVnLc8zGgEucM6sEfsYGsFkoqw8wkYcxyKVVpcTF3MWQJ8iI6ruwCOPqBFrryF1m9mnWSk/sZdUDbclcvU10hj6MfihnVFCy6SZ0VgkQSMxC1RpCKDWhkOLQndMNo6wTIBw/q2DxPEFeYBGjX2CY9Jpb4gRyhTBoK4vdzvM0CkKv+kWsPoYWer3Ka10Mlp7cTiyJu6E/RghHx/VCvE9Hj3bfNuIE/sB7k/HpVmHft9P/CR8djpp2Ckj5crdvtJA+gt5vwJXC3WhvXIPbUITh11NYyxFML8BV7SZr4PiJcPQ/e+/YN/woprAy1VWlQWCGoFvGDkAdX53gbuSORLmw7WPmRBRKjPUJaqOXBe1ma5Kv1hRbMBpjovECShj+mbBLKSDlEGpCzvOYJvh/n9B9+mHoDRiOmdHXzfgl+tdo/60tLdHThN9wrdCHD2ILRV/buosJqa0/NQ/kImcFHlkiNP4Cxp6PYrVQX1aeM74pBQstHDjCTj7fFdRrqkjZA0eR/yyW3YQ8WvaFjW5EheCRfdTUsyONBbShAccEqVEjlNpUkDKB14Xoua5SKDn7hMU3sHU5O6OhakGqZQspE+jpbBXibI61CjvXHI21Sjn/EkFWxVwm0CFSIkl0EuhodBLoaHQS6Gh0EuhoXPYE/gUaIAooqx+aYQAAAABJRU5ErkJggg==\" y=\"-6.488136\"/>\n   </g>\n   <g id=\"patch_3\">\n    <path d=\"M 10.7 54.488136 \nL 10.7 7.2 \n\" style=\"fill:none;stroke:#000000;stroke-linecap:square;stroke-linejoin:miter;stroke-width:0.8;\"/>\n   </g>\n   <g id=\"patch_4\">\n    <path d=\"M 57.988136 54.488136 \nL 57.988136 7.2 \n\" style=\"fill:none;stroke:#000000;stroke-linecap:square;stroke-linejoin:miter;stroke-width:0.8;\"/>\n   </g>\n   <g id=\"patch_5\">\n    <path d=\"M 10.7 54.488136 \nL 57.988136 54.488136 \n\" style=\"fill:none;stroke:#000000;stroke-linecap:square;stroke-linejoin:miter;stroke-width:0.8;\"/>\n   </g>\n   <g id=\"patch_6\">\n    <path d=\"M 10.7 7.2 \nL 57.988136 7.2 \n\" style=\"fill:none;stroke:#000000;stroke-linecap:square;stroke-linejoin:miter;stroke-width:0.8;\"/>\n   </g>\n  </g>\n  <g id=\"axes_2\">\n   <g id=\"patch_7\">\n    <path d=\"M 67.445763 54.488136 \nL 114.733898 54.488136 \nL 114.733898 7.2 \nL 67.445763 7.2 \nz\n\" style=\"fill:#ffffff;\"/>\n   </g>\n   <g clip-path=\"url(#pd9e511bc64)\">\n    <image height=\"48\" id=\"imagef0cba0a95a\" transform=\"scale(1 -1)translate(0 -48)\" width=\"48\" x=\"67.445763\" xlink:href=\"data:image/png;base64,\niVBORw0KGgoAAAANSUhEUgAAADAAAAAwCAYAAABXAvmHAAAABHNCSVQICAgIfAhkiAAABWdJREFUaIHt2X+M13UdB/DHeZzdHTiQBE6iJCVC1xRR+mFMKyE0QQZO3XAurSlkU6v1Y9Vq9EflcvzBJm4tla1RMapBHQoU6UQ79BwZmXNxFcktfiTnASLc7o5798frc32/nHfE9/v54M2N5/bevu/35/1+f97P7+v3+1PTSPIOxlnDfYC8OENguHGGwHDjDIHhxog8iz+Dj+HsQZ5diImYPgkjyx50s30X7diDvmz4afwDf8fxCs5QkyeQNeNTs9E44EEt5mEWpr6CyWUPj/DyOJ7MTt0To5t+ywasxZsVnKEqAnfiodl4ENMXeqsgR2AK3oNbUV/2rBc/w6v4V9aHx/nP0RBNvwjW4Uk6W3k9G9qBZ7BRTK2KwMP47B6cvwzfqGDlwax1Zf16jMlaV0amq2z+59j5e1ZhXza0gfUHWI4/VUvgj5ienhGqcV4FK29hZzMvZd1LcPF8oTiD4YAS6UxShz/JdSzZxmpVGnEoxGSMKhv9M67hWPfQSrxKyP5vWX8K5jVzZ0Npzkg0XIjbBtmglxYObysJpCoJbMe01J4R6NfvxVbUrPMS/jnEuv3owNGs34h3Y0LWr8NFwsZmrnSik+9DD51f4sPCJrrkdKMnoku7MM2hCHRl7XhZv0NJYLV4DYex+ItvPf9xbMEh/3Ne1RGIxQcM9C49eCM7xKnu07+mH/uEhq07xT2qisSbYc3luKds9DYrlrMeTUId3g5URaANHsCxX4rY2YuL+MpZmm5griDxdqAqAk9g7g7cAUtEQLoS+9kw1cP3saCgA/4/VEXgqDDUN9fiJy3CL/UKr3QFs3mvE1Og04WqCHSJROxH2Hc3kdQcyZ5exvXh4scKz3I6kSud/o0skdi1SiQYvVjAiDWu+w4vYlzuI54cuQi0iaTSr2ClkMIkLOALNNwXBE6nR8pd0BzCkq+zu+Z1PC4MGuevYcUMt2BG3pecBLkJHMfzeAqhVDuElXwQN1giPFK902MPhZSUbWiB1mY8KrLHyVhk5LPcf3nEhYF1TxEorCZ+Ads/gnlP8e/3C2k08fG7eIytWFTUy8pQW8eyIjbqENny+Dau2IubzsVNuJ6mbo3ntujbFLT6TrZRhSj8VuKv6PwFUfYczEYXcf/t5n+abyo2zSicQLvMoF/eKWrfg+LIt7Iwcv0JijPowglswV3o+BC+/FXho+pxLUvvNf4QczC6oPdVZQMjRa7TIIJUt1JZl0Q8rsfU5xi1rEFI4H3o4111ar73F6+K4ifvx4mqJDAal+EDgshgkfaHuB26V+HZbHQuvusT54UUihB/RXucg29jJ1bv54nf0fJ97hY3cQPRAV/D3mUizegdZFY+VESgDjNRcwfGdzLnEb41x2JcJVSrTslAjxJ3HxuJYjG78xkTf0YhaCSdaptAepCUZkkpvZa1XSmlS1NaK32edA1pCmks6RzSlaRXSCnNTymtTyntTemnUrpAGlfBu4dqFRX1PbI7qReIlOFaTMM93PwDj0zcrXNPFJnPi+L+Aky7WDYv8z11iktRq2G9kpS2SSndm1I6VtbeyP7lm1PaKKUHpPSilNLUsjntKS2XUmMxEqjKjR7DJY8ycXwrM1uFZYwVJlWPSUypZdYYmm4UKcWlIk5vZuEmjx2M2jpvWpHrev0Iap7G1auFOhFXTSMEkX4N7b/S+jV+rrlmq4ewTWXfAgZDLgIzsrbiRuGGRosL24/i7PVKdxM/ZvvSyOQ2s6g1IkMl3wGGQi4CxP/8B0yvUyJwlQgYo66OSbu3shRbeK4nfrbleWkZchOgVG31B5XabKy/3ycUqEeoTNfADXKgkMvdIg9UKd7xXynPEBhu/BfLH+3UrBzrtAAAAABJRU5ErkJggg==\" y=\"-6.488136\"/>\n   </g>\n   <g id=\"patch_8\">\n    <path d=\"M 67.445763 54.488136 \nL 67.445763 7.2 \n\" style=\"fill:none;stroke:#000000;stroke-linecap:square;stroke-linejoin:miter;stroke-width:0.8;\"/>\n   </g>\n   <g id=\"patch_9\">\n    <path d=\"M 114.733898 54.488136 \nL 114.733898 7.2 \n\" style=\"fill:none;stroke:#000000;stroke-linecap:square;stroke-linejoin:miter;stroke-width:0.8;\"/>\n   </g>\n   <g id=\"patch_10\">\n    <path d=\"M 67.445763 54.488136 \nL 114.733898 54.488136 \n\" style=\"fill:none;stroke:#000000;stroke-linecap:square;stroke-linejoin:miter;stroke-width:0.8;\"/>\n   </g>\n   <g id=\"patch_11\">\n    <path d=\"M 67.445763 7.2 \nL 114.733898 7.2 \n\" style=\"fill:none;stroke:#000000;stroke-linecap:square;stroke-linejoin:miter;stroke-width:0.8;\"/>\n   </g>\n  </g>\n  <g id=\"axes_3\">\n   <g id=\"patch_12\">\n    <path d=\"M 124.191525 54.488136 \nL 171.479661 54.488136 \nL 171.479661 7.2 \nL 124.191525 7.2 \nz\n\" style=\"fill:#ffffff;\"/>\n   </g>\n   <g clip-path=\"url(#p22f62b1f0a)\">\n    <image height=\"48\" id=\"image4ceaf5935f\" transform=\"scale(1 -1)translate(0 -48)\" width=\"48\" x=\"124.191525\" xlink:href=\"data:image/png;base64,\niVBORw0KGgoAAAANSUhEUgAAADAAAAAwCAYAAABXAvmHAAAABHNCSVQICAgIfAhkiAAAAuhJREFUaIHt2V9ol1Ucx/GXOuXXtJxLaQ00S9pAIiGrCQWDEIJmhhHIoC5GGFkXQl4YSFAXNu8MKRAjvIiCoBAqElwYRS1mpIk4p8IQc4OcjKkVqzXr4jxj3cyb3/c8Pwb7XD2ci/N53pzzPX8+Z149/5rFml/rH6hWcwC11hxArVUX1dEKPFV8j6MXw5iMMphBIQAVdKJ7VPr7QT58nDcwEmFwC4UALMTtsGwV1nB3xQvNR4wO040bESYzKKQGKlgMWvEiPucgO1ppiDC4hUIAxtAPn/Vgf2rseJC9qTYWRJjMoBCACcVcP4zfjxetz7KJZsX0yqSwZXQQPR/hEKmSX6XugLekAs+lMIAxfA2n4LK0PjRpMEtGYATvkqaRbyWk/ArfiS+O4vrL6MNSTZvZFG3yP4UDDMDHU18NbGH9kmiXaYUD/ArfwRDqWImmaJdphQNchmNwBuPcZ3YBfIqtv+HnXpzh3i42R7tMKxxgDOfge/gEj9HO87g/2kwmgAvwJYaOoJ1HW+zGw9Fmcl5oevEFaVfusOp1nshgkw3g0p84SRqTe3gm1XO0sgF8gEsH4Whq2LDWOul4HXk6zQZwGt+APfgBHW57gDbUB/rMy5nMteJEJ95EywTvL/TTS2xTFHqAsqYSf5HOdaeLhm3zPbIzthayAoxjaBhnp1p28Xa65EQpK8AN7CPtZ2ANix5SCfTICvC3Yvb0k06n/+AuFXErUVaACfyIr26S0oo+LLcCjUEe2aPFSfwCB45Ly2mbNqwTMwqlZKN9GNqOK+fRYUMj7UHmpQCMKC78/TDGbl5bwqKAvksBuKYo5gE4xUY8HWOedSee0gIpfjyLO9/DK11cP2T10urD31JGYBJ/KEbhGDRxR4t21e/KpT5wnKDIjeBJ7+C5KvssFaAfPTfhKhosa67+vl8qwKB0UUuJxVUaq48dSyniKS2WfrhTehTplWKYi1X0WSpADs36V8o5gFprDqDW+g99F5wdEJFIsQAAAABJRU5ErkJggg==\" y=\"-6.488136\"/>\n   </g>\n   <g id=\"patch_13\">\n    <path d=\"M 124.191525 54.488136 \nL 124.191525 7.2 \n\" style=\"fill:none;stroke:#000000;stroke-linecap:square;stroke-linejoin:miter;stroke-width:0.8;\"/>\n   </g>\n   <g id=\"patch_14\">\n    <path d=\"M 171.479661 54.488136 \nL 171.479661 7.2 \n\" style=\"fill:none;stroke:#000000;stroke-linecap:square;stroke-linejoin:miter;stroke-width:0.8;\"/>\n   </g>\n   <g id=\"patch_15\">\n    <path d=\"M 124.191525 54.488136 \nL 171.479661 54.488136 \n\" style=\"fill:none;stroke:#000000;stroke-linecap:square;stroke-linejoin:miter;stroke-width:0.8;\"/>\n   </g>\n   <g id=\"patch_16\">\n    <path d=\"M 124.191525 7.2 \nL 171.479661 7.2 \n\" style=\"fill:none;stroke:#000000;stroke-linecap:square;stroke-linejoin:miter;stroke-width:0.8;\"/>\n   </g>\n  </g>\n  <g id=\"axes_4\">\n   <g id=\"patch_17\">\n    <path d=\"M 180.937288 54.488136 \nL 228.225424 54.488136 \nL 228.225424 7.2 \nL 180.937288 7.2 \nz\n\" style=\"fill:#ffffff;\"/>\n   </g>\n   <g clip-path=\"url(#p114adb39fa)\">\n    <image height=\"48\" id=\"image28cee4648b\" transform=\"scale(1 -1)translate(0 -48)\" width=\"48\" x=\"180.937288\" xlink:href=\"data:image/png;base64,\niVBORw0KGgoAAAANSUhEUgAAADAAAAAwCAYAAABXAvmHAAAABHNCSVQICAgIfAhkiAAABYxJREFUaIHt2X1s1dUZB/BPWZu1aCfbQM2Q4LRAwzQu4DCKy9gMm07ZQufcMrZlmKxBZohOIZJshkydDoUF2FTI/sEQX+qAmeDm2xI2N90sIODkrezFdBayKZQVC7Gtz/44v7Z3XaH33l7amPBNntyb+zvnOc/3nuftnF/ZSML7GCOG24DB4jSB4cZpAsON8lIoGYdRmIQxmTSjFbvQkY1rxzvZZ1cpFlYCAhVYhK/hjOcwcyLW0nk5DeyZQ4u01X/ANryEtsEunKEoAmNwCT6Vfc6qx3WYeQVuQC3lC/nGU2rf3af2CEYwYwlPHGKv0hEoK6aQTcGtqJuEenx/Hb6Czkz6ojzJK1XM5nMt/HkQRueiIAIVuBg/xqf348KJuBbzcZ4BCVhE5yruwWPU7U2x0iLFRkc/M0tK4AzMxuqP4O11+ARq9HriQAS2Sw60kt9v8+RnUkxsk4L90KkmMA57RmAV5h9AZY5x+RA4nslRKUdt5eg8buP2NTxUBIGC6sBImCsFrDNzjKqTkugk3ImDGZHyPlKZzTsXtZjDmQu5gwlFGN9tVOQrnycizo6IhyPiWCZNEZPEFkliiex5U86YjkjoyPktV9piZwF25MogKnG3uxy1dS8rJdmwBB+dR+0EPlmV5O4KfBsr8FvJfTrlutzFy3hL2psh2IGfRcThTF6O+waYt4aIXSJiYkQsjIjdOfO7ZUrEb8SVRPXQ7ED+WIb5kzFhH8/cj9f7GXUDV59tMa4vQPeQEGjGWmzejzWwAMslpzmejarFVb5Yk2r5KKnuDIQh7UZvQd1GNpS1MPYuPIV/ZE+vwnKaHnD1Jq7E2Dx0FkSgHTb/C48WMq0H/0YTNuDXLXj9dizNnpZLKXY656eimY9xBRFoI1Wb3S8VMq0HrfgbNuKnpC5k68acEeW4iHNSxSi5C72NDQ24q3uxykwKRzNWvyFFuDuxX09lH/1VD87mxjz0FOxCm0gNfQ/KTcbkbPkP5KmrDb+DP8m+vZXztIZrGJ+HnuKCuIveIjTarPiQxpWpw6gpVNd73bq6pIzUybv3eqA+25wBMMgs1N3vLOKm1GbXSSlwoJ2oxhVwKUzHWb0P/5OCvTUPC0qQRitxG+UvGvseP5jGBZmBJ8M43Dwei0mZ6KKiVi+YwHGydLTd//5H51F2H8/wYj1vjuBpnO//w3wCvgDrMXVW9msrtnCgmnm8JiWNU0Kg6wjpUPhPvf3/ufgeH36B1Yt5jhlzem8qKjKpzAh8FqbeLV0JyHT9ke/y2vqUbvM6Nxfavp5D1BPxQRGvdrfOzT1tccSBrFl7PCJuiviOiNGigXiYWEXESBG3iIjGbPzhiJdFXCPmEpcW0NAVTGBktsAyIu4REXNzev+2PvJqxF4RK0XUiDhLRIWIH3aTb87GHY5YIHYS4wu0pahbCZk7tH5caiyrGqV0cryfkUd73cObkq/fKF0CjMrGdNpXVu3yE2g4GYrOQh144u+YRipE/Z2F6T1CTpcatmsl48uxBV9ic7VNCjeeIu+FcvExNMU0icSJTOg+E+ce+g/iEX5yr+V3sE66rygUg75abIfrX+HmKmbMxJcx5wSjf4Sf83Q7f8Ev2byFxyQnKwaDJtCBv67nwmY8+DxT35Gy/Kh+1D/Lr9pZwrEdNOB56U6oWAzahUgePgaXYcUl2D5Faiwuy0ZkLrSziq/zzd2pirTrvSkqFiU5kR3EHikKGndg1Tbp9qEP2nEkuUuLlI8GYzwlPFJ2SA3YfNy6AMfuL5Xqk6LkZ+JDMp9eSkqdrdK5dwVrebIlHS1LhZK8oclFG96AX+CCXXxrh+RkS2lIgZtPk5YvShLEfVEhvUMYJ13Hd0k706j35UapXjGdEgJDiff9W8rTBIYbpwkMN/4Lo4zFFblur4YAAAAASUVORK5CYII=\" y=\"-6.488136\"/>\n   </g>\n   <g id=\"patch_18\">\n    <path d=\"M 180.937288 54.488136 \nL 180.937288 7.2 \n\" style=\"fill:none;stroke:#000000;stroke-linecap:square;stroke-linejoin:miter;stroke-width:0.8;\"/>\n   </g>\n   <g id=\"patch_19\">\n    <path d=\"M 228.225424 54.488136 \nL 228.225424 7.2 \n\" style=\"fill:none;stroke:#000000;stroke-linecap:square;stroke-linejoin:miter;stroke-width:0.8;\"/>\n   </g>\n   <g id=\"patch_20\">\n    <path d=\"M 180.937288 54.488136 \nL 228.225424 54.488136 \n\" style=\"fill:none;stroke:#000000;stroke-linecap:square;stroke-linejoin:miter;stroke-width:0.8;\"/>\n   </g>\n   <g id=\"patch_21\">\n    <path d=\"M 180.937288 7.2 \nL 228.225424 7.2 \n\" style=\"fill:none;stroke:#000000;stroke-linecap:square;stroke-linejoin:miter;stroke-width:0.8;\"/>\n   </g>\n  </g>\n  <g id=\"axes_5\">\n   <g id=\"patch_22\">\n    <path d=\"M 237.683051 54.488136 \nL 284.971186 54.488136 \nL 284.971186 7.2 \nL 237.683051 7.2 \nz\n\" style=\"fill:#ffffff;\"/>\n   </g>\n   <g clip-path=\"url(#p1a886e2cde)\">\n    <image height=\"48\" id=\"image773175bda2\" transform=\"scale(1 -1)translate(0 -48)\" width=\"48\" x=\"237.683051\" xlink:href=\"data:image/png;base64,\niVBORw0KGgoAAAANSUhEUgAAADAAAAAwCAYAAABXAvmHAAAABHNCSVQICAgIfAhkiAAABH5JREFUaIHt2WuIlUUcBvCfupLsriZlKa7WoqZlmemqXUylC4FSBIVE2AUJg0zE+iALVh+SisBAooxKC0SkC5JiGVG5iJrYmnZRlyxD0zVrbXHTtc3VnT7Ma2kuduYcO0vgA8M5533feWae9z//y8zpVErwP0bnjp5AoTgnoKNRUszBumWtBa04fhY4i2qBLaivZjkeRZezwNmpmFGoeQg2YSL165iG3dhVAGdxfWACyheydqGKcINVw3mqQMriWuAKbC/FGzjAFzMYQ1lb/pxFtcC2OjxxBIcxhao6HiuMs6gCWuAgHBMDYK8YlgpAUQW0EePnXwLK6VoYZ/ETWWfOZvrp+EzckwEoy7N78QW0EZdQ1gZwF3rnSVeQLYdgYPZZ2s79Q1iE5ux3fxgOPf9+aA+r0ZjnHJIFdBHNVoaRGIdbcUE7z/6MT9CQ/e5T7nQBDWxOncRJSBLQTZzsg5g0UyxoBo8XbXB6PKx0WO2xNzmSXegxGfeg6hTSC0RrtSZPPw8Bd2JSXzyD8qm4WyxwmtvpUULJvfQoEd96FSpOHbY3o0UrNLTD8K8oJeTariWE+UIInUMIP4UQngwh9A1hlHDM6S2cJ4QHhPCMENYIoVEIYXAIoTaEcCi2Q0LoJUxJmMfJLWcLdEV3sjU8COv5fC5zWL6Jb9vp0+0PRi2mDwZ2xlAM28HSjbgqeygSdzmQz+tPWEJlMkcdSZzSIm7juia+k5UJZ0IblVsZsZUlSz/AQ3/fK2BjkHMe6IlK6DENVfz4oR1NsZbP1fn2Yyss+xCT0ELJTTwSk1k+yFlAVydi/ZWo4CBNYvTIdWvYInPUGhyoya5czgQuzH3OpyBnAS1OJJsV6MfVW4zumz7gcViHDcRsPJaq8fKgQoKAZvwKx2qwDYO4MYbVnmfq+A+0of4rvA97s94TjMQw6e6Qs4BG/ACL4dV4cSZLe3FZwoAtmI7a12ANzsd0lRNjXuyewEViMdcE87DyF+xn7GAW0C+B47gYcj+Gumq8iHLmcv/EWNSlWCFJQDNq60Q3sBcPMHmM/omD7hFzt/k4+i5KqLqDZ7lI4h4nJet1J4wg1BBCgxDCtBDCkvA9YWp2P1euSwmzCWGWEFEXQngkzCIMTeBJssAJ86+B12AjKgy8nvviy8jZEgfx0QkKX6IXhiuTZoG8NjQrMG8O3voazXw2zc0bYzLK1QlbxQz+6wa4BevFsJqGvAQ0yqxQjfW3o5wxl3heDKsp+AaWNcpydDLyEtAg7qIe2803NxKD42zjqnk4kWszvEC2lpJR0J64Royqdr6CT3luqGtGpHE0ERPM7yuxwH6xPMkVBQnYJXtvq2XfHs/K7TzwA37b7pAcKtuTUNCmvlV20PY0WvcxPWXoiOEwA/tQG3PEwYT+BR+rtGHnXplXH07e2DYQHeFVvJwtqQQUfER2FK9g9jtc/HZ9soC1GPoeq7Ad9Ynjn5Xj9WEYhZe68norsxL6Dsj67xLD8z5pfz0V9f+B/wIdfzZaIM4J6GicE9DROCego/EnuYecWyPc+R8AAAAASUVORK5CYII=\" y=\"-6.488136\"/>\n   </g>\n   <g id=\"patch_23\">\n    <path d=\"M 237.683051 54.488136 \nL 237.683051 7.2 \n\" style=\"fill:none;stroke:#000000;stroke-linecap:square;stroke-linejoin:miter;stroke-width:0.8;\"/>\n   </g>\n   <g id=\"patch_24\">\n    <path d=\"M 284.971186 54.488136 \nL 284.971186 7.2 \n\" style=\"fill:none;stroke:#000000;stroke-linecap:square;stroke-linejoin:miter;stroke-width:0.8;\"/>\n   </g>\n   <g id=\"patch_25\">\n    <path d=\"M 237.683051 54.488136 \nL 284.971186 54.488136 \n\" style=\"fill:none;stroke:#000000;stroke-linecap:square;stroke-linejoin:miter;stroke-width:0.8;\"/>\n   </g>\n   <g id=\"patch_26\">\n    <path d=\"M 237.683051 7.2 \nL 284.971186 7.2 \n\" style=\"fill:none;stroke:#000000;stroke-linecap:square;stroke-linejoin:miter;stroke-width:0.8;\"/>\n   </g>\n  </g>\n  <g id=\"axes_6\">\n   <g id=\"patch_27\">\n    <path d=\"M 294.428814 54.488136 \nL 341.716949 54.488136 \nL 341.716949 7.2 \nL 294.428814 7.2 \nz\n\" style=\"fill:#ffffff;\"/>\n   </g>\n   <g clip-path=\"url(#p01455a65dc)\">\n    <image height=\"48\" id=\"imageb648a4f716\" transform=\"scale(1 -1)translate(0 -48)\" width=\"48\" x=\"294.428814\" xlink:href=\"data:image/png;base64,\niVBORw0KGgoAAAANSUhEUgAAADAAAAAwCAYAAABXAvmHAAAABHNCSVQICAgIfAhkiAAAAyhJREFUaIHt2V9olmUYx/GPOcXZW3v7Y55Ec2ZWm7YwR2GlWJgIoQSpEBUYdNSIiAgKFoRBkUEWUocdRPR3Qf/wRKwopKjeGkqZ2VjFUBaabiUbturgfoYvZR7sve73ZbDf4XXD/Xu+XM91Pfd1PzPm8rcprLMa/QC1ahqg0WqK3nAOZuEvjGM02uBfCsvA2ejCazi8iaESH2FelMH/KAygBbdiTRu24h6WtqaM5FQIwCzciIe2o/8iFv/GU9jC3AiDMygEYKaUAbfAWpRpXkw7syMMzqAwgAvgyhW4uYheT2fKTk6FAIziCBzag8+LaJlz0iuUEyIEYBwj0Af7i2iJcirinK9RWBf6CR7Edx8WkZtoXmehvK00DOAk9OPoRORiLLcZq6NMTqMwgFEMjqkCWIT1rtvKtiiT0ygM4Ajeggr8WUQv5D6a10W5/FdhACPYDXvhmARR5rx7WZ2vE4UBnJAa6GAvhuahV+pBG1hLNzqjzKoUBjDRSivwKqmdNqGVdjZgYZRZlcLngZ0YfADelQCW0NSj60U2R5vJADCMX5DqYEId3MFl0WYyAIyoBpgYZ67h3CdckaGSwwH68Dw8chQdOIwSltCeCjlyRggH+FVRyO/js378Lj3yfBZxtdgZIdtQP7APL5FepTKWs40XVtIe6JMNYD98wak6aKJtGd2xh7tsALtw4Gs4XhV9hY07QrtRNoBP8QZ4DK8X0TIWWIVrg3yyAeyVsuBABR8U0RLmWyEBzAzwyXozNwzP4tDLRaSEBWb38eT6mG6UFWCMlIZKdbTEVSu5fQpk4BieO4jt1dE56OWuS0KO2FkBRhV3FJ+QCvlgsVLG5W7D0ho9sgN8jN1j8DS+KlbSKbUbq2r0yH69PoL3YE0FD1etdLq0h7tr3D87wDi+xTe78OPPTn2ZW9lCR0ttxVyXHxzfo4diUuuVyvsG2n7gfs43+Zm5LgAnMECq4+E7pZPSAB7ly5SlyaouAH9Id16P72OohTRuvkPXm97emQBPTnLvGfX8zbpMGmh2FDe+zxxnj/Stm2wW6gqQQ1P+L+U0QKM1DdBoTQM0Wv8APmGmaVMbhkMAAAAASUVORK5CYII=\" y=\"-6.488136\"/>\n   </g>\n   <g id=\"patch_28\">\n    <path d=\"M 294.428814 54.488136 \nL 294.428814 7.2 \n\" style=\"fill:none;stroke:#000000;stroke-linecap:square;stroke-linejoin:miter;stroke-width:0.8;\"/>\n   </g>\n   <g id=\"patch_29\">\n    <path d=\"M 341.716949 54.488136 \nL 341.716949 7.2 \n\" style=\"fill:none;stroke:#000000;stroke-linecap:square;stroke-linejoin:miter;stroke-width:0.8;\"/>\n   </g>\n   <g id=\"patch_30\">\n    <path d=\"M 294.428814 54.488136 \nL 341.716949 54.488136 \n\" style=\"fill:none;stroke:#000000;stroke-linecap:square;stroke-linejoin:miter;stroke-width:0.8;\"/>\n   </g>\n   <g id=\"patch_31\">\n    <path d=\"M 294.428814 7.2 \nL 341.716949 7.2 \n\" style=\"fill:none;stroke:#000000;stroke-linecap:square;stroke-linejoin:miter;stroke-width:0.8;\"/>\n   </g>\n  </g>\n  <g id=\"axes_7\">\n   <g id=\"patch_32\">\n    <path d=\"M 351.174576 54.488136 \nL 398.462712 54.488136 \nL 398.462712 7.2 \nL 351.174576 7.2 \nz\n\" style=\"fill:#ffffff;\"/>\n   </g>\n   <g clip-path=\"url(#p1a61569a32)\">\n    <image height=\"48\" id=\"image0afcfe919b\" transform=\"scale(1 -1)translate(0 -48)\" width=\"48\" x=\"351.174576\" xlink:href=\"data:image/png;base64,\niVBORw0KGgoAAAANSUhEUgAAADAAAAAwCAYAAABXAvmHAAAABHNCSVQICAgIfAhkiAAABRRJREFUaIHt2X/MlWUZB/APvNJe+VGMH3sZvopDjFakaBgJGNPajEYurVEamf1AyE3mH2X2A8csnFlrtGZhtV7bXFjCXtmkV01HNUNRNkDWDzNKhjDSVAYeIRG+/XE/qDhG57znHJgb13afs/Oc57mu63t/7+u6r+t+Bgwm3sIy8Hg70KycAHC85aR2Ke5QZmdI9Xs/Xqm+WyltY2AOfozti9l+Hc928V28FyPQ2SI7HYNY3CJdh8nXMGcUVg9kZuhiynq69zBYAfFcde+rTdgZ0I402oHdi3DThfgphituvoSd/PEClvK5XjbjySZstS+Ih8AYDMXfsBDTefECTsEcfoRPNWnmGGWhB7jjbi56li4Mw6dHePu9BVYz0rYsdLh00Mn2NXwVl3cx2gsOoLdJze0D8DxsUdb+UEbzT6zCOoWEcdjWpJm2BDE8gTOuQs8jShCv4m03GLK/BDkMUvaFA03YaVsMrMIrd8CfFRYmMYEzK6MHsE9zztNGAIvwCbASWzGOmWWDG9lCO23NQntgYx9uwxjm841JjG+hjbYCqMEK7O3DcCZP42ZO9XocNCttBbALe5comzG4iY9dayEu0RoQbQWwD31w/6GPIbjYRIWFVkhbAbyAebi9D/fNVqiY6ORuTm+R8baXEvuUjcs18EsM5Ubmjy0sDGtS/zGphdbiS//CPQcxnHnzWMm7NJ9SGwLQgbGYhq/g96gNpraC2npqvdS+SG3g4WPlIUdf62Ku5gOfdfcsvtckgLpLiU6F7g9jMi7FKbPwSXxhBWbiT7iGH+44/OHf8dvVfHQTztpbXXyIx2Yzg5H7+19S1A3gUlyGyw5iwOdxMUbhHcpi6FQall3Y+aana9W1szGhuvY0buXLPeYu45EjPNVSAD/DFaPw3NeVLD5ZaVS2VI4/g184coM4BlMxsQLwvuq++1l9lY2zS5m9th8ADCb1jJwjWS/J5iR7q3FtkoHJVkmPbCAPH2H8l2SBZJ0k70yy4Q065iUPy9I6/XjzqL8f6KiGk7AeP+BbvZ5fUprzbbjTkY9NunDusjLeM+jvPHgOHxyr1Kwzmf6qM/X0Z/4bYGCKZIMkf03y82SrPEm6yLA6dYwmk0i6JUslWZbk8SR78o9KV6MMNLYPDDzEQDenjXeq1w+u6pF9ClMXPcPN1+GKBew+D53OeJCdU8oO3bBLdckmVU2zSskg0508gUnKOU89ckBZYutwL2rL8QfYxYfG880S6qfX7ZT6l9AMcj3JEsnLkryY9MpLZGo/qB9PbiS5XJI7q6V5V9Itd7VjCW3DRuhRMdHJx88yZHmZtRGNzJqyMzyKLcuxbC5+jXHMZZbSRQ+qR1Ejs9ZNel+btUNpcHP6+snCYHL+ISYOSvJUskNySQn2eoK6IQAjyJXkZZLMSnJPkm3JQvlP9X+jALrI2SRzFOezONkqj5HPtDoL7cdfVHG3sQ8PlT8WMPLKUiiMaUSh0jc/hd2/UVpnMzjtQue9n3PVcYrd6IwNI+8mV5P8RJL7kqxJsijpkX/3cynNILeQZFqSW5J8Pzm/sDC2VQxQUuFOFQvfxhMfwQPYxUhGKyzUFYBvkKdVtdB31vLoDbieTYWho1WpTZ3MjVdeWPyqV0lFt1Jbynz9qy47Kp1TlUPf25RDjdpRnmkKwDClUVmm1Dvr8TjWYMf/MXw0nWOVWnejcp56tNdSbTsbPVbyln9LeQLA8ZYTAI63nABwvOV/b6e5b8OVfhkAAAAASUVORK5CYII=\" y=\"-6.488136\"/>\n   </g>\n   <g id=\"patch_33\">\n    <path d=\"M 351.174576 54.488136 \nL 351.174576 7.2 \n\" style=\"fill:none;stroke:#000000;stroke-linecap:square;stroke-linejoin:miter;stroke-width:0.8;\"/>\n   </g>\n   <g id=\"patch_34\">\n    <path d=\"M 398.462712 54.488136 \nL 398.462712 7.2 \n\" style=\"fill:none;stroke:#000000;stroke-linecap:square;stroke-linejoin:miter;stroke-width:0.8;\"/>\n   </g>\n   <g id=\"patch_35\">\n    <path d=\"M 351.174576 54.488136 \nL 398.462712 54.488136 \n\" style=\"fill:none;stroke:#000000;stroke-linecap:square;stroke-linejoin:miter;stroke-width:0.8;\"/>\n   </g>\n   <g id=\"patch_36\">\n    <path d=\"M 351.174576 7.2 \nL 398.462712 7.2 \n\" style=\"fill:none;stroke:#000000;stroke-linecap:square;stroke-linejoin:miter;stroke-width:0.8;\"/>\n   </g>\n  </g>\n  <g id=\"axes_8\">\n   <g id=\"patch_37\">\n    <path d=\"M 407.920339 54.488136 \nL 455.208475 54.488136 \nL 455.208475 7.2 \nL 407.920339 7.2 \nz\n\" style=\"fill:#ffffff;\"/>\n   </g>\n   <g clip-path=\"url(#pc7282cd01d)\">\n    <image height=\"48\" id=\"imaged079a5d4ab\" transform=\"scale(1 -1)translate(0 -48)\" width=\"48\" x=\"407.920339\" xlink:href=\"data:image/png;base64,\niVBORw0KGgoAAAANSUhEUgAAADAAAAAwCAYAAABXAvmHAAAABHNCSVQICAgIfAhkiAAABMpJREFUaIHt2H+I33UdB/CHnjfWhjnOHze2fsiiLYZlirNfy3EMgyuW2eHULEVJ8UezmQYjS4Tc6McgK4kYYWgjl8xOE9ThdFw2bzJ/u4FjMzg29ezqutrctN189sf7c+xY87r7fq99F9wT3nzh832/P7ye79fz8349X+9jphD/xzi20QHUiwkC440W3IQ3O3gG1+PkEeYfVQSa8X5cA2tv9ZFlfBnTRlhzVBH4MJ5cyvQeWEgfj2L3CGuOOyKRjQJTMYOin5nt2Mp2tuGtEdYdNQTm4lyY+SsMsOlqm/9IJw6MsK7hBCYrGl+F2R0wBz/iWzxu5OA5CghMwyzMXouO7+E0Bh90WzfrRrG+4R9xO9ZARwsWlLG87P7OUaxvKIGp+AROvAQ60MrGF+nkz0Y+fYbQMAmdjAvxtcVYvRqfwUab5nM3+v13/dPADExXFazzKNL5Ha63Ds8bXfA0iEATTsepnfjK2TiJx5Yxr9+9eGEM7zriEmrG13EDfKld2f0ulvObpxkY4/vGhUBTFVjzsGd7HV4GkxTtzzyfcvrvwjqvbOAnRvfhDkfdEmpWHON96P0ivZ+j96yi70Nd5FS0Yt6l+DGljN3Li7d6HD1Gr/0h1JWBFuVj/Aamz8cKxbj08dV2+vCQg9mYg7PgfHzoY4pgHuDX7DCy53lXTCG1jutIN0nmJnkkyd+r8XrygmSxLCCt1fynSa6T5I4k25OsTL4vN5K5NcZQE4ETyPvI6yQ/UALJzhzE/iSLkl2SY+U+cgbJDIVY1ifZnKQlOaeQnHEkCbSST5Esl2RDkr4k+6rA9w0b25NMSpaVbOVmSZZUz9ckd8sbdSigZgILyB9InlLt/B1JZiWnS9ol35bskOQDSW5PcnGyRfnN5mqcmx5ycyMILFakkd0qzV+cdMsy8kuyheQSSackT1Q7vqEiuy/J6uRtuYW0NYLAz0nWS3JlkU+P5FKZVWl5lqL5G0lyeZLuJLur4PuSLsk5Zd4JdRKoqQ4MwBZKERrkT+gqRWgAvUor+BKKq9+qnNjVqf1eHD/2M/9wqInAs/jbUvzlYezhpzzYw78OmbcXHn0Ndw57OpmPn8mFpQeeWksAw1ATgf14k2oLp7GCRWeXutpUBXWVUtcsoLj+44aNEzm+zG8+9OVjRE0EDqg8y36YzMI2bihVuVXZ2Svw2fmY1K54zyEM4m0OlOCbao8dHDPF2C93T1VawZX34KKXFBPQxaabeBVv4NrZCo0v4KRqvIyNNF3th+8U8/aWah9qRE1e6J/KR+pZXPQALsN5fLJHcTXb8DOVfirswWNY5c53WGvszvNwqCkDlNTvwCmrcOUaVWulSGRQUfgQBvAyz7SxhAu6ecL4EKjZTh9QLp18B7rwVyWhkx0Mfg9uwRxWtLGQ+7t5RY3O8zCoOQOU27R5+EValI5gfvXPYPW7g60fZSmfXl+uSfrrCvc/UVdDsxNPwpn9/LYNdykt+RC26T2N29aP/ppkrKiLwG6FxCPP4buUk//3ymmzC1usxD3V3HpOm3dDXRIaQovSPs7D7XhPJz6PXhZ9kKdUhe9/gHFp6vvxj2qswjeXYDX2Fl90qMUYT4xLBhqJhl/u1osJAo3GBIFGY4JAozFBoNH4N3s53GuvKVXmAAAAAElFTkSuQmCC\" y=\"-6.488136\"/>\n   </g>\n   <g id=\"patch_38\">\n    <path d=\"M 407.920339 54.488136 \nL 407.920339 7.2 \n\" style=\"fill:none;stroke:#000000;stroke-linecap:square;stroke-linejoin:miter;stroke-width:0.8;\"/>\n   </g>\n   <g id=\"patch_39\">\n    <path d=\"M 455.208475 54.488136 \nL 455.208475 7.2 \n\" style=\"fill:none;stroke:#000000;stroke-linecap:square;stroke-linejoin:miter;stroke-width:0.8;\"/>\n   </g>\n   <g id=\"patch_40\">\n    <path d=\"M 407.920339 54.488136 \nL 455.208475 54.488136 \n\" style=\"fill:none;stroke:#000000;stroke-linecap:square;stroke-linejoin:miter;stroke-width:0.8;\"/>\n   </g>\n   <g id=\"patch_41\">\n    <path d=\"M 407.920339 7.2 \nL 455.208475 7.2 \n\" style=\"fill:none;stroke:#000000;stroke-linecap:square;stroke-linejoin:miter;stroke-width:0.8;\"/>\n   </g>\n  </g>\n  <g id=\"axes_9\">\n   <g id=\"patch_42\">\n    <path d=\"M 464.666102 54.488136 \nL 511.954237 54.488136 \nL 511.954237 7.2 \nL 464.666102 7.2 \nz\n\" style=\"fill:#ffffff;\"/>\n   </g>\n   <g clip-path=\"url(#p893a335c68)\">\n    <image height=\"48\" id=\"image0f8fdda69e\" transform=\"scale(1 -1)translate(0 -48)\" width=\"48\" x=\"464.666102\" xlink:href=\"data:image/png;base64,\niVBORw0KGgoAAAANSUhEUgAAADAAAAAwCAYAAABXAvmHAAAABHNCSVQICAgIfAhkiAAABWtJREFUaIHt2Xts1WcZB/BPV0qOhTrCGNSOcZ2MgEbEMbZ2iAN0Cwzi2M3bNJl/jGTe4ohuS0xQE6dOzTY3I3Muy4KbuxgXN9ElxY7GBhcYCcIYsEFAtCKQphsU6yh7/eM5J+f0Mk97eurJEr7JL7/zu73P87zvc/m+z6mqJXkX45xKKzBcnDWg0jhrQKUxaiQHr8bFqMN5eA3t6CqjjBFdgfPxa/xpOk9/l19gDsaUUUbZV2AMzsWduAYTv49LsLTWgnNOefEhnjvES7gfZ4Ypr6rchawB78fGNbgHY3+EeWjCC9jEPT/lXurbOTFcgbWkchx1pEmkR0lphZTSlJTShpTSqymlf6aU/p1SOpxS2ppS+nJKqTalVVIraTLp3BLllm0FanABNqF+L2Y9jM9mn3ajE+OQyV6/xJtXs5Tl29iJjhLkli2Iz8P1qF+DWTtxXcHTzfgIfpW9zqCJ977K1ok2ruGmEuWWzYA6LIYPwUVCyU48iK/zk444W4/jIn9MQxONjC9RbtkMaMCSy3FV7k439vD7tSw/4IHbsegt2r6GHQVfTmN+OFcpGFYaXSjyegZLiNw5/dKCoaex4tOseMGXNnWwtFbExcXDEdsLgzagWixXXcG9xSLXZzC3ASunYHXB0PV4JC6XvtPIPZzm7SEoXYiiBuQUX45luOV3wsVHY+YUYUYmq+wqTBiiCpt4mIND/CqHogZciA/gK7hsKlbeIJwnkz3PHswwfXAye+xl3242BEcqBUUl34Gbb8MD1+KHYoZzn5UaQi9jM6/czWXUn+RUiSMV1WAJ3EsE3+QB3ujGXaIwbY8gqWrgZDtvYA9OZ1+9UKSbjdiFR1h/cnh0omgl7vowtif0ZI9C9OA4rdP5Del+qiaL1NTC/tM8IU+fF2cf/Ri7w+SRJ3NdU3Fwi4jcsaI4rad1Hb9FM4/vCipwQETGOBwTM3u4QMnzxQK9jjeVRh36orgTd0KbPI85iMe5g5e38IyY5WODEHagZDXfGUUNePENPvbsWj7Zg+vouZwvMm9L2HZKREGlUJRKHCZovEMYxajxZMI9Tgj/Hq4fDwdFDdiB9PPcr7G4i1XMFz5daVTXsO5/vVCFo7hi9GEW3YdbmdXlxlH7XNRCC/6jcv3Jolko11HYhapv4Tstoh7sYN71GnewV+XioKgBOS60QHChb76OmSvxEG3v41Os/nvk9M4RV7c/isbAGVFIt+N5uBv7nsNxmmq5MxjR1D7fjZFnrtXZ3zVlUroQQ9oT14iOw6OYm67EFzCX2Qs8uZdb5VnDQlE5NmfP8wWrOKS8WWtIbOy0SKtP4ds3tXB7C5c29KpiubbKsxj9UZG86jCbM81sFTTiWPZRuyiN3WJPMNSuXUldiXGYgadR/3n+8RjN+CoW4UbcfAwT/phVLyMC/xZa/xalextt2/gz/iDipwv/MrQVKsmAnE9fImb7NfkZXSYca3Uajf3y+WmsoNF78AqOxHXP0dD6L4JrNBswpaVWJum/QmXvzC3D53DDKbxnp+g8DMZTf4k2jj4xsB89xgXr+me6shswB424bxm+gY8/L3otxbaa3fINsIHQZFpVRz/SWPbmbqdwqZ3NfHA/fnZNWDVlhshNc0WftF6sTg6ZrDpH5PfYmYLnk1UPQMDLvgJ9UY0r8D3M+4QIkM80igbAbXrPYafYtk4Snb0J8kYsNLPqr470GX/EDSBSa6Oo5nOwpFZE/5XCwhy6BfNdiB+IBNYu8u4zTNz1fwjiwWCGcJBGvalAtyh8q7H22rjY3xFpdjc26J9iK2JAjWgr1fW5f0bsMcaLlTqh975joC1oRQwoJ971/1KeNaDSOGtApfFfUD+klz1qKPIAAAAASUVORK5CYII=\" y=\"-6.488136\"/>\n   </g>\n   <g id=\"patch_43\">\n    <path d=\"M 464.666102 54.488136 \nL 464.666102 7.2 \n\" style=\"fill:none;stroke:#000000;stroke-linecap:square;stroke-linejoin:miter;stroke-width:0.8;\"/>\n   </g>\n   <g id=\"patch_44\">\n    <path d=\"M 511.954237 54.488136 \nL 511.954237 7.2 \n\" style=\"fill:none;stroke:#000000;stroke-linecap:square;stroke-linejoin:miter;stroke-width:0.8;\"/>\n   </g>\n   <g id=\"patch_45\">\n    <path d=\"M 464.666102 54.488136 \nL 511.954237 54.488136 \n\" style=\"fill:none;stroke:#000000;stroke-linecap:square;stroke-linejoin:miter;stroke-width:0.8;\"/>\n   </g>\n   <g id=\"patch_46\">\n    <path d=\"M 464.666102 7.2 \nL 511.954237 7.2 \n\" style=\"fill:none;stroke:#000000;stroke-linecap:square;stroke-linejoin:miter;stroke-width:0.8;\"/>\n   </g>\n  </g>\n  <g id=\"axes_10\">\n   <g id=\"patch_47\">\n    <path d=\"M 521.411864 54.488136 \nL 568.7 54.488136 \nL 568.7 7.2 \nL 521.411864 7.2 \nz\n\" style=\"fill:#ffffff;\"/>\n   </g>\n   <g clip-path=\"url(#pf9816de679)\">\n    <image height=\"48\" id=\"image2ddc706dda\" transform=\"scale(1 -1)translate(0 -48)\" width=\"48\" x=\"521.411864\" xlink:href=\"data:image/png;base64,\niVBORw0KGgoAAAANSUhEUgAAADAAAAAwCAYAAABXAvmHAAAABHNCSVQICAgIfAhkiAAABeFJREFUaIHt2HvMl2UdBvAPchi9HIcgCQlGaqiE2AAb6gh1OCfZjE1qhaSZp9bBuUirt3UY1TykJszyMAxXKi5wRYrNoMWrUFQIUZN0AZNFBgkOEIrD1R/38+59x+DlB78fMjeu7f7jee7n8L2+p/u6705NxDsYXep5+YP4AK7CPvwMf8PK+u2qGZ3qicAT+MgELLoX2xnzdU/+kWsbZt6hUReBHf3xEgYvKTc2Xsj5jFrLP7GjISZ2jBPqensSBs/EcIzg5Ke5jtPR1ADjakF9BDbBn7AdPXE+Xz3BU2O5pH7bakJ9BFZj52z8S+kH/TGF6VyIU9C5XgsPgboIfHc9O5vgmXZ3H2TyRtMmMh296vlBDaiLwArMBS14FXvQHf2ZzrWjGYiudRrZEeoi8CJmw/bFSi20w8XN/I73KZSOFuoisAOvYGEvjPu4tijAVbzrLk9N5Jf12dgh6iKwG1vxOfxkKbyAddXscFzOdxhzLn0dnVSqrwtV2ITnYPp1OKfdzHsYu5Cn+T7GNeJn+6EhBPYqjdTj+MP/lHWhtaDPZsgEUycwTdFOjayJhhCgSIeZGxQSXsWuaubdmMui5abcyvUY0KifonNXvtmID+1V6mHiMnqOeYgzuuH9ygrdBd246G7n7mZZS6mUPQf/XM1oWAR2KG31Poq+NkubmdUq3eVRvjfOKI3TSnWp0QNhAE7Fb9+Lb2HqUoxQMn8zXmbYBI+t5fNKJ6sHDYtAKzZhORauxR0wT9HcFK00nBuY2ocxGFTn/xoegVZ0Vxrqolm4uTf+0262Bd/mxMV+/AZfceSROKItZVf0wEdxgbK17K4U8Va8UT0zjJI9Tt3vC6fhk/xisRtmcMqzzFS2olsP15gmcrhjIBlNXie5TfKGJN2SVyXPSu6WPCCZK8lJSW5Ksvsg47JkljxKziG9DtOWmlOoR+W3F8/EpcqqNGoILsd4bUW6Fa8rwe2C8zC4NRQHQAue4aE7mcXHVpaDgddqDEDNKdRHUTfux8Uj8aTS47tjg7JwDa2uu1fXratxl4pY61zrCtBFScLRfPY5hq1y5SVlD7FJqYu9hzKs1lDNaE2Z3JRkSZKdSZ5P0pzMkHxa8kPJYsm2arwpWS/ZJ8k1SRYk2ZJkYfVu+1R6LcnyJFOTOfKZKqUOZVfNEeiBE6m83F9b8HbxPFlMp8eVej2rmtqLbYqaGD2bcbPLXO/eGKUsdn2rSPavxs1MecwXr+Ye/ONQUag1AneTt0hyb5K1ldeWJLk9b5KvkT4HebcXGUDGk5tI+lXFn+YkTyRZUUWmFXclC6Sleq8ju2omMIncS/JrSUa2C/viZIXky7KiIjLoAN2kFxlakchtkvmSKyU3Su6Q5PZ2BKpU6iMjOnDMYREYSC4gGSFZIMnGJNva1cLU5EuynpxXGXsg7w0lWSpZI3cq7XMFSc6onLKzrS4mFsIdRaFmKfEW1uDS1SybhFUn42osU1TnN7jnYUPSz7IHWDeZfw8sKd+j3Xf2UjTe+tKnpvVk1ErKgeQ6pbv9plazam+jexXF2aJI/g8145b5fPiv+ILSZCdjDzf+gPF/p4Xp15fjo3WVE5oohd6vHOyZgpGXVTc3V2MDXmJN+WdDinj/fB5EriFzSG6VrFal0itVam2pir25pMd8SXOV87mrevakJLdUzy9M8nCZ211SdUYNthzRhibalqlNOHMpA3+O/nMYeD+9XlbaY1+cXLw7fDMTtjBxN52bK483KTvl0/B7/AU/4pEd5j3Cr5Q22iGOJAIHGsOqDvRfkgcVjZMFlXcPpoN2V/Mbq0iNTX4qGVoi3FH3aR0Nk9NdlbPQsxR1+ikM7lfdGI3rcPYwRTvtwQvct6o4fgkvbyhnTGsULTRPbRL7qO0Hxilr9um4CGOuwCcU3bcPf2bHFeU4ZgGWKAcDh4ujRqAruilbvu5KNTRpO1LZpdTPLqU71STcDoCjRuDtQsP3xG83jhM41jhO4FjjOIFjjeMEjjXe8QT+D2CKq5ba+dtxAAAAAElFTkSuQmCC\" y=\"-6.488136\"/>\n   </g>\n   <g id=\"patch_48\">\n    <path d=\"M 521.411864 54.488136 \nL 521.411864 7.2 \n\" style=\"fill:none;stroke:#000000;stroke-linecap:square;stroke-linejoin:miter;stroke-width:0.8;\"/>\n   </g>\n   <g id=\"patch_49\">\n    <path d=\"M 568.7 54.488136 \nL 568.7 7.2 \n\" style=\"fill:none;stroke:#000000;stroke-linecap:square;stroke-linejoin:miter;stroke-width:0.8;\"/>\n   </g>\n   <g id=\"patch_50\">\n    <path d=\"M 521.411864 54.488136 \nL 568.7 54.488136 \n\" style=\"fill:none;stroke:#000000;stroke-linecap:square;stroke-linejoin:miter;stroke-width:0.8;\"/>\n   </g>\n   <g id=\"patch_51\">\n    <path d=\"M 521.411864 7.2 \nL 568.7 7.2 \n\" style=\"fill:none;stroke:#000000;stroke-linecap:square;stroke-linejoin:miter;stroke-width:0.8;\"/>\n   </g>\n  </g>\n  <g id=\"axes_11\">\n   <g id=\"patch_52\">\n    <path d=\"M 10.7 156.860431 \nL 57.988136 156.860431 \nL 57.988136 82.733159 \nL 10.7 82.733159 \nz\n\" style=\"fill:#ffffff;\"/>\n   </g>\n   <g id=\"patch_53\">\n    <path clip-path=\"url(#p2702016472)\" d=\"M 12.849461 156.860431 \nL 16.358784 156.860431 \nL 16.358784 156.860431 \nL 12.849461 156.860431 \nz\n\" style=\"fill:#1f77b4;\"/>\n   </g>\n   <g id=\"patch_54\">\n    <path clip-path=\"url(#p2702016472)\" d=\"M 17.236115 156.860431 \nL 20.745439 156.860431 \nL 20.745439 156.860431 \nL 17.236115 156.860431 \nz\n\" style=\"fill:#1f77b4;\"/>\n   </g>\n   <g id=\"patch_55\">\n    <path clip-path=\"url(#p2702016472)\" d=\"M 21.62277 156.860431 \nL 25.132093 156.860431 \nL 25.132093 156.860431 \nL 21.62277 156.860431 \nz\n\" style=\"fill:#1f77b4;\"/>\n   </g>\n   <g id=\"patch_56\">\n    <path clip-path=\"url(#p2702016472)\" d=\"M 26.009424 156.860431 \nL 29.518748 156.860431 \nL 29.518748 156.860431 \nL 26.009424 156.860431 \nz\n\" style=\"fill:#1f77b4;\"/>\n   </g>\n   <g id=\"patch_57\">\n    <path clip-path=\"url(#p2702016472)\" d=\"M 30.396079 156.860431 \nL 33.905402 156.860431 \nL 33.905402 156.860431 \nL 30.396079 156.860431 \nz\n\" style=\"fill:#1f77b4;\"/>\n   </g>\n   <g id=\"patch_58\">\n    <path clip-path=\"url(#p2702016472)\" d=\"M 34.782733 156.860431 \nL 38.292057 156.860431 \nL 38.292057 156.860431 \nL 34.782733 156.860431 \nz\n\" style=\"fill:#1f77b4;\"/>\n   </g>\n   <g id=\"patch_59\">\n    <path clip-path=\"url(#p2702016472)\" d=\"M 39.169388 156.860431 \nL 42.678711 156.860431 \nL 42.678711 156.860431 \nL 39.169388 156.860431 \nz\n\" style=\"fill:#1f77b4;\"/>\n   </g>\n   <g id=\"patch_60\">\n    <path clip-path=\"url(#p2702016472)\" d=\"M 43.556042 156.860431 \nL 47.065366 156.860431 \nL 47.065366 86.263029 \nL 43.556042 86.263029 \nz\n\" style=\"fill:#1f77b4;\"/>\n   </g>\n   <g id=\"patch_61\">\n    <path clip-path=\"url(#p2702016472)\" d=\"M 47.942697 156.860431 \nL 51.45202 156.860431 \nL 51.45202 156.860431 \nL 47.942697 156.860431 \nz\n\" style=\"fill:#1f77b4;\"/>\n   </g>\n   <g id=\"patch_62\">\n    <path clip-path=\"url(#p2702016472)\" d=\"M 52.329351 156.860431 \nL 55.838675 156.860431 \nL 55.838675 156.860431 \nL 52.329351 156.860431 \nz\n\" style=\"fill:#1f77b4;\"/>\n   </g>\n   <g id=\"matplotlib.axis_1\">\n    <g id=\"xtick_1\">\n     <g id=\"line2d_1\">\n      <defs>\n       <path d=\"M 0 0 \nL 0 3.5 \n\" id=\"m723a4afc53\" style=\"stroke:#000000;stroke-width:0.8;\"/>\n      </defs>\n      <g>\n       <use style=\"stroke:#000000;stroke-width:0.8;\" x=\"14.604123\" xlink:href=\"#m723a4afc53\" y=\"156.860431\"/>\n      </g>\n     </g>\n     <g id=\"text_1\">\n      <!-- 0 -->\n      <defs>\n       <path d=\"M 31.78125 66.40625 \nQ 24.171875 66.40625 20.328125 58.90625 \nQ 16.5 51.421875 16.5 36.375 \nQ 16.5 21.390625 20.328125 13.890625 \nQ 24.171875 6.390625 31.78125 6.390625 \nQ 39.453125 6.390625 43.28125 13.890625 \nQ 47.125 21.390625 47.125 36.375 \nQ 47.125 51.421875 43.28125 58.90625 \nQ 39.453125 66.40625 31.78125 66.40625 \nz\nM 31.78125 74.21875 \nQ 44.046875 74.21875 50.515625 64.515625 \nQ 56.984375 54.828125 56.984375 36.375 \nQ 56.984375 17.96875 50.515625 8.265625 \nQ 44.046875 -1.421875 31.78125 -1.421875 \nQ 19.53125 -1.421875 13.0625 8.265625 \nQ 6.59375 17.96875 6.59375 36.375 \nQ 6.59375 54.828125 13.0625 64.515625 \nQ 19.53125 74.21875 31.78125 74.21875 \nz\n\" id=\"DejaVuSans-48\"/>\n      </defs>\n      <g transform=\"translate(11.422873 171.458869)scale(0.1 -0.1)\">\n       <use xlink:href=\"#DejaVuSans-48\"/>\n      </g>\n     </g>\n    </g>\n    <g id=\"xtick_2\">\n     <g id=\"line2d_2\">\n      <g>\n       <use style=\"stroke:#000000;stroke-width:0.8;\" x=\"36.537395\" xlink:href=\"#m723a4afc53\" y=\"156.860431\"/>\n      </g>\n     </g>\n     <g id=\"text_2\">\n      <!-- 5 -->\n      <defs>\n       <path d=\"M 10.796875 72.90625 \nL 49.515625 72.90625 \nL 49.515625 64.59375 \nL 19.828125 64.59375 \nL 19.828125 46.734375 \nQ 21.96875 47.46875 24.109375 47.828125 \nQ 26.265625 48.1875 28.421875 48.1875 \nQ 40.625 48.1875 47.75 41.5 \nQ 54.890625 34.8125 54.890625 23.390625 \nQ 54.890625 11.625 47.5625 5.09375 \nQ 40.234375 -1.421875 26.90625 -1.421875 \nQ 22.3125 -1.421875 17.546875 -0.640625 \nQ 12.796875 0.140625 7.71875 1.703125 \nL 7.71875 11.625 \nQ 12.109375 9.234375 16.796875 8.0625 \nQ 21.484375 6.890625 26.703125 6.890625 \nQ 35.15625 6.890625 40.078125 11.328125 \nQ 45.015625 15.765625 45.015625 23.390625 \nQ 45.015625 31 40.078125 35.4375 \nQ 35.15625 39.890625 26.703125 39.890625 \nQ 22.75 39.890625 18.8125 39.015625 \nQ 14.890625 38.140625 10.796875 36.28125 \nz\n\" id=\"DejaVuSans-53\"/>\n      </defs>\n      <g transform=\"translate(33.356145 171.458869)scale(0.1 -0.1)\">\n       <use xlink:href=\"#DejaVuSans-53\"/>\n      </g>\n     </g>\n    </g>\n   </g>\n   <g id=\"patch_63\">\n    <path d=\"M 10.7 156.860431 \nL 10.7 82.733159 \n\" style=\"fill:none;stroke:#000000;stroke-linecap:square;stroke-linejoin:miter;stroke-width:0.8;\"/>\n   </g>\n   <g id=\"patch_64\">\n    <path d=\"M 57.988136 156.860431 \nL 57.988136 82.733159 \n\" style=\"fill:none;stroke:#000000;stroke-linecap:square;stroke-linejoin:miter;stroke-width:0.8;\"/>\n   </g>\n   <g id=\"patch_65\">\n    <path d=\"M 10.7 156.860431 \nL 57.988136 156.860431 \n\" style=\"fill:none;stroke:#000000;stroke-linecap:square;stroke-linejoin:miter;stroke-width:0.8;\"/>\n   </g>\n   <g id=\"patch_66\">\n    <path d=\"M 10.7 82.733159 \nL 57.988136 82.733159 \n\" style=\"fill:none;stroke:#000000;stroke-linecap:square;stroke-linejoin:miter;stroke-width:0.8;\"/>\n   </g>\n  </g>\n  <g id=\"axes_12\">\n   <g id=\"patch_67\">\n    <path d=\"M 67.445763 156.860431 \nL 114.733898 156.860431 \nL 114.733898 82.733159 \nL 67.445763 82.733159 \nz\n\" style=\"fill:#ffffff;\"/>\n   </g>\n   <g id=\"patch_68\">\n    <path clip-path=\"url(#p526eed8d38)\" d=\"M 69.595223 156.860431 \nL 73.104547 156.860431 \nL 73.104547 156.860431 \nL 69.595223 156.860431 \nz\n\" style=\"fill:#1f77b4;\"/>\n   </g>\n   <g id=\"patch_69\">\n    <path clip-path=\"url(#p526eed8d38)\" d=\"M 73.981878 156.860431 \nL 77.491202 156.860431 \nL 77.491202 156.860431 \nL 73.981878 156.860431 \nz\n\" style=\"fill:#1f77b4;\"/>\n   </g>\n   <g id=\"patch_70\">\n    <path clip-path=\"url(#p526eed8d38)\" d=\"M 78.368532 156.860431 \nL 81.877856 156.860431 \nL 81.877856 86.263029 \nL 78.368532 86.263029 \nz\n\" style=\"fill:#1f77b4;\"/>\n   </g>\n   <g id=\"patch_71\">\n    <path clip-path=\"url(#p526eed8d38)\" d=\"M 82.755187 156.860431 \nL 86.264511 156.860431 \nL 86.264511 156.860431 \nL 82.755187 156.860431 \nz\n\" style=\"fill:#1f77b4;\"/>\n   </g>\n   <g id=\"patch_72\">\n    <path clip-path=\"url(#p526eed8d38)\" d=\"M 87.141841 156.860431 \nL 90.651165 156.860431 \nL 90.651165 156.860431 \nL 87.141841 156.860431 \nz\n\" style=\"fill:#1f77b4;\"/>\n   </g>\n   <g id=\"patch_73\">\n    <path clip-path=\"url(#p526eed8d38)\" d=\"M 91.528496 156.860431 \nL 95.03782 156.860431 \nL 95.03782 156.860431 \nL 91.528496 156.860431 \nz\n\" style=\"fill:#1f77b4;\"/>\n   </g>\n   <g id=\"patch_74\">\n    <path clip-path=\"url(#p526eed8d38)\" d=\"M 95.91515 156.860431 \nL 99.424474 156.860431 \nL 99.424474 156.860431 \nL 95.91515 156.860431 \nz\n\" style=\"fill:#1f77b4;\"/>\n   </g>\n   <g id=\"patch_75\">\n    <path clip-path=\"url(#p526eed8d38)\" d=\"M 100.301805 156.860431 \nL 103.811129 156.860431 \nL 103.811129 156.860431 \nL 100.301805 156.860431 \nz\n\" style=\"fill:#1f77b4;\"/>\n   </g>\n   <g id=\"patch_76\">\n    <path clip-path=\"url(#p526eed8d38)\" d=\"M 104.688459 156.860431 \nL 108.197783 156.860431 \nL 108.197783 156.860431 \nL 104.688459 156.860431 \nz\n\" style=\"fill:#1f77b4;\"/>\n   </g>\n   <g id=\"patch_77\">\n    <path clip-path=\"url(#p526eed8d38)\" d=\"M 109.075114 156.860431 \nL 112.584438 156.860431 \nL 112.584438 156.860431 \nL 109.075114 156.860431 \nz\n\" style=\"fill:#1f77b4;\"/>\n   </g>\n   <g id=\"matplotlib.axis_2\">\n    <g id=\"xtick_3\">\n     <g id=\"line2d_3\">\n      <g>\n       <use style=\"stroke:#000000;stroke-width:0.8;\" x=\"71.349885\" xlink:href=\"#m723a4afc53\" y=\"156.860431\"/>\n      </g>\n     </g>\n     <g id=\"text_3\">\n      <!-- 0 -->\n      <g transform=\"translate(68.168635 171.458869)scale(0.1 -0.1)\">\n       <use xlink:href=\"#DejaVuSans-48\"/>\n      </g>\n     </g>\n    </g>\n    <g id=\"xtick_4\">\n     <g id=\"line2d_4\">\n      <g>\n       <use style=\"stroke:#000000;stroke-width:0.8;\" x=\"93.283158\" xlink:href=\"#m723a4afc53\" y=\"156.860431\"/>\n      </g>\n     </g>\n     <g id=\"text_4\">\n      <!-- 5 -->\n      <g transform=\"translate(90.101908 171.458869)scale(0.1 -0.1)\">\n       <use xlink:href=\"#DejaVuSans-53\"/>\n      </g>\n     </g>\n    </g>\n   </g>\n   <g id=\"patch_78\">\n    <path d=\"M 67.445763 156.860431 \nL 67.445763 82.733159 \n\" style=\"fill:none;stroke:#000000;stroke-linecap:square;stroke-linejoin:miter;stroke-width:0.8;\"/>\n   </g>\n   <g id=\"patch_79\">\n    <path d=\"M 114.733898 156.860431 \nL 114.733898 82.733159 \n\" style=\"fill:none;stroke:#000000;stroke-linecap:square;stroke-linejoin:miter;stroke-width:0.8;\"/>\n   </g>\n   <g id=\"patch_80\">\n    <path d=\"M 67.445763 156.860431 \nL 114.733898 156.860431 \n\" style=\"fill:none;stroke:#000000;stroke-linecap:square;stroke-linejoin:miter;stroke-width:0.8;\"/>\n   </g>\n   <g id=\"patch_81\">\n    <path d=\"M 67.445763 82.733159 \nL 114.733898 82.733159 \n\" style=\"fill:none;stroke:#000000;stroke-linecap:square;stroke-linejoin:miter;stroke-width:0.8;\"/>\n   </g>\n  </g>\n  <g id=\"axes_13\">\n   <g id=\"patch_82\">\n    <path d=\"M 124.191525 156.860431 \nL 171.479661 156.860431 \nL 171.479661 82.733159 \nL 124.191525 82.733159 \nz\n\" style=\"fill:#ffffff;\"/>\n   </g>\n   <g id=\"patch_83\">\n    <path clip-path=\"url(#pf40620229c)\" d=\"M 126.340986 156.860431 \nL 129.85031 156.860431 \nL 129.85031 156.860431 \nL 126.340986 156.860431 \nz\n\" style=\"fill:#1f77b4;\"/>\n   </g>\n   <g id=\"patch_84\">\n    <path clip-path=\"url(#pf40620229c)\" d=\"M 130.727641 156.860431 \nL 134.236964 156.860431 \nL 134.236964 86.263029 \nL 130.727641 86.263029 \nz\n\" style=\"fill:#1f77b4;\"/>\n   </g>\n   <g id=\"patch_85\">\n    <path clip-path=\"url(#pf40620229c)\" d=\"M 135.114295 156.860431 \nL 138.623619 156.860431 \nL 138.623619 156.860431 \nL 135.114295 156.860431 \nz\n\" style=\"fill:#1f77b4;\"/>\n   </g>\n   <g id=\"patch_86\">\n    <path clip-path=\"url(#pf40620229c)\" d=\"M 139.50095 156.860431 \nL 143.010273 156.860431 \nL 143.010273 156.860431 \nL 139.50095 156.860431 \nz\n\" style=\"fill:#1f77b4;\"/>\n   </g>\n   <g id=\"patch_87\">\n    <path clip-path=\"url(#pf40620229c)\" d=\"M 143.887604 156.860431 \nL 147.396928 156.860431 \nL 147.396928 156.860431 \nL 143.887604 156.860431 \nz\n\" style=\"fill:#1f77b4;\"/>\n   </g>\n   <g id=\"patch_88\">\n    <path clip-path=\"url(#pf40620229c)\" d=\"M 148.274259 156.860431 \nL 151.783582 156.860431 \nL 151.783582 156.860431 \nL 148.274259 156.860431 \nz\n\" style=\"fill:#1f77b4;\"/>\n   </g>\n   <g id=\"patch_89\">\n    <path clip-path=\"url(#pf40620229c)\" d=\"M 152.660913 156.860431 \nL 156.170237 156.860431 \nL 156.170237 156.860431 \nL 152.660913 156.860431 \nz\n\" style=\"fill:#1f77b4;\"/>\n   </g>\n   <g id=\"patch_90\">\n    <path clip-path=\"url(#pf40620229c)\" d=\"M 157.047568 156.860431 \nL 160.556891 156.860431 \nL 160.556891 156.860431 \nL 157.047568 156.860431 \nz\n\" style=\"fill:#1f77b4;\"/>\n   </g>\n   <g id=\"patch_91\">\n    <path clip-path=\"url(#pf40620229c)\" d=\"M 161.434222 156.860431 \nL 164.943546 156.860431 \nL 164.943546 156.860431 \nL 161.434222 156.860431 \nz\n\" style=\"fill:#1f77b4;\"/>\n   </g>\n   <g id=\"patch_92\">\n    <path clip-path=\"url(#pf40620229c)\" d=\"M 165.820877 156.860431 \nL 169.3302 156.860431 \nL 169.3302 156.860431 \nL 165.820877 156.860431 \nz\n\" style=\"fill:#1f77b4;\"/>\n   </g>\n   <g id=\"matplotlib.axis_3\">\n    <g id=\"xtick_5\">\n     <g id=\"line2d_5\">\n      <g>\n       <use style=\"stroke:#000000;stroke-width:0.8;\" x=\"128.095648\" xlink:href=\"#m723a4afc53\" y=\"156.860431\"/>\n      </g>\n     </g>\n     <g id=\"text_5\">\n      <!-- 0 -->\n      <g transform=\"translate(124.914398 171.458869)scale(0.1 -0.1)\">\n       <use xlink:href=\"#DejaVuSans-48\"/>\n      </g>\n     </g>\n    </g>\n    <g id=\"xtick_6\">\n     <g id=\"line2d_6\">\n      <g>\n       <use style=\"stroke:#000000;stroke-width:0.8;\" x=\"150.02892\" xlink:href=\"#m723a4afc53\" y=\"156.860431\"/>\n      </g>\n     </g>\n     <g id=\"text_6\">\n      <!-- 5 -->\n      <g transform=\"translate(146.84767 171.458869)scale(0.1 -0.1)\">\n       <use xlink:href=\"#DejaVuSans-53\"/>\n      </g>\n     </g>\n    </g>\n   </g>\n   <g id=\"patch_93\">\n    <path d=\"M 124.191525 156.860431 \nL 124.191525 82.733159 \n\" style=\"fill:none;stroke:#000000;stroke-linecap:square;stroke-linejoin:miter;stroke-width:0.8;\"/>\n   </g>\n   <g id=\"patch_94\">\n    <path d=\"M 171.479661 156.860431 \nL 171.479661 82.733159 \n\" style=\"fill:none;stroke:#000000;stroke-linecap:square;stroke-linejoin:miter;stroke-width:0.8;\"/>\n   </g>\n   <g id=\"patch_95\">\n    <path d=\"M 124.191525 156.860431 \nL 171.479661 156.860431 \n\" style=\"fill:none;stroke:#000000;stroke-linecap:square;stroke-linejoin:miter;stroke-width:0.8;\"/>\n   </g>\n   <g id=\"patch_96\">\n    <path d=\"M 124.191525 82.733159 \nL 171.479661 82.733159 \n\" style=\"fill:none;stroke:#000000;stroke-linecap:square;stroke-linejoin:miter;stroke-width:0.8;\"/>\n   </g>\n  </g>\n  <g id=\"axes_14\">\n   <g id=\"patch_97\">\n    <path d=\"M 180.937288 156.860431 \nL 228.225424 156.860431 \nL 228.225424 82.733159 \nL 180.937288 82.733159 \nz\n\" style=\"fill:#ffffff;\"/>\n   </g>\n   <g id=\"patch_98\">\n    <path clip-path=\"url(#p8e24c052dd)\" d=\"M 183.086749 156.860431 \nL 186.596072 156.860431 \nL 186.596072 86.263029 \nL 183.086749 86.263029 \nz\n\" style=\"fill:#1f77b4;\"/>\n   </g>\n   <g id=\"patch_99\">\n    <path clip-path=\"url(#p8e24c052dd)\" d=\"M 187.473403 156.860431 \nL 190.982727 156.860431 \nL 190.982727 156.860431 \nL 187.473403 156.860431 \nz\n\" style=\"fill:#1f77b4;\"/>\n   </g>\n   <g id=\"patch_100\">\n    <path clip-path=\"url(#p8e24c052dd)\" d=\"M 191.860058 156.860431 \nL 195.369381 156.860431 \nL 195.369381 156.860431 \nL 191.860058 156.860431 \nz\n\" style=\"fill:#1f77b4;\"/>\n   </g>\n   <g id=\"patch_101\">\n    <path clip-path=\"url(#p8e24c052dd)\" d=\"M 196.246712 156.860431 \nL 199.756036 156.860431 \nL 199.756036 156.860431 \nL 196.246712 156.860431 \nz\n\" style=\"fill:#1f77b4;\"/>\n   </g>\n   <g id=\"patch_102\">\n    <path clip-path=\"url(#p8e24c052dd)\" d=\"M 200.633367 156.860431 \nL 204.14269 156.860431 \nL 204.14269 156.860431 \nL 200.633367 156.860431 \nz\n\" style=\"fill:#1f77b4;\"/>\n   </g>\n   <g id=\"patch_103\">\n    <path clip-path=\"url(#p8e24c052dd)\" d=\"M 205.020021 156.860431 \nL 208.529345 156.860431 \nL 208.529345 156.860431 \nL 205.020021 156.860431 \nz\n\" style=\"fill:#1f77b4;\"/>\n   </g>\n   <g id=\"patch_104\">\n    <path clip-path=\"url(#p8e24c052dd)\" d=\"M 209.406676 156.860431 \nL 212.915999 156.860431 \nL 212.915999 156.860431 \nL 209.406676 156.860431 \nz\n\" style=\"fill:#1f77b4;\"/>\n   </g>\n   <g id=\"patch_105\">\n    <path clip-path=\"url(#p8e24c052dd)\" d=\"M 213.79333 156.860431 \nL 217.302654 156.860431 \nL 217.302654 156.860431 \nL 213.79333 156.860431 \nz\n\" style=\"fill:#1f77b4;\"/>\n   </g>\n   <g id=\"patch_106\">\n    <path clip-path=\"url(#p8e24c052dd)\" d=\"M 218.179985 156.860431 \nL 221.689309 156.860431 \nL 221.689309 156.860431 \nL 218.179985 156.860431 \nz\n\" style=\"fill:#1f77b4;\"/>\n   </g>\n   <g id=\"patch_107\">\n    <path clip-path=\"url(#p8e24c052dd)\" d=\"M 222.566639 156.860431 \nL 226.075963 156.860431 \nL 226.075963 156.860431 \nL 222.566639 156.860431 \nz\n\" style=\"fill:#1f77b4;\"/>\n   </g>\n   <g id=\"matplotlib.axis_4\">\n    <g id=\"xtick_7\">\n     <g id=\"line2d_7\">\n      <g>\n       <use style=\"stroke:#000000;stroke-width:0.8;\" x=\"184.841411\" xlink:href=\"#m723a4afc53\" y=\"156.860431\"/>\n      </g>\n     </g>\n     <g id=\"text_7\">\n      <!-- 0 -->\n      <g transform=\"translate(181.660161 171.458869)scale(0.1 -0.1)\">\n       <use xlink:href=\"#DejaVuSans-48\"/>\n      </g>\n     </g>\n    </g>\n    <g id=\"xtick_8\">\n     <g id=\"line2d_8\">\n      <g>\n       <use style=\"stroke:#000000;stroke-width:0.8;\" x=\"206.774683\" xlink:href=\"#m723a4afc53\" y=\"156.860431\"/>\n      </g>\n     </g>\n     <g id=\"text_8\">\n      <!-- 5 -->\n      <g transform=\"translate(203.593433 171.458869)scale(0.1 -0.1)\">\n       <use xlink:href=\"#DejaVuSans-53\"/>\n      </g>\n     </g>\n    </g>\n   </g>\n   <g id=\"patch_108\">\n    <path d=\"M 180.937288 156.860431 \nL 180.937288 82.733159 \n\" style=\"fill:none;stroke:#000000;stroke-linecap:square;stroke-linejoin:miter;stroke-width:0.8;\"/>\n   </g>\n   <g id=\"patch_109\">\n    <path d=\"M 228.225424 156.860431 \nL 228.225424 82.733159 \n\" style=\"fill:none;stroke:#000000;stroke-linecap:square;stroke-linejoin:miter;stroke-width:0.8;\"/>\n   </g>\n   <g id=\"patch_110\">\n    <path d=\"M 180.937288 156.860431 \nL 228.225424 156.860431 \n\" style=\"fill:none;stroke:#000000;stroke-linecap:square;stroke-linejoin:miter;stroke-width:0.8;\"/>\n   </g>\n   <g id=\"patch_111\">\n    <path d=\"M 180.937288 82.733159 \nL 228.225424 82.733159 \n\" style=\"fill:none;stroke:#000000;stroke-linecap:square;stroke-linejoin:miter;stroke-width:0.8;\"/>\n   </g>\n  </g>\n  <g id=\"axes_15\">\n   <g id=\"patch_112\">\n    <path d=\"M 237.683051 156.860431 \nL 284.971186 156.860431 \nL 284.971186 82.733159 \nL 237.683051 82.733159 \nz\n\" style=\"fill:#ffffff;\"/>\n   </g>\n   <g id=\"patch_113\">\n    <path clip-path=\"url(#p5fb16d0284)\" d=\"M 239.832512 156.860431 \nL 243.341835 156.860431 \nL 243.341835 156.860431 \nL 239.832512 156.860431 \nz\n\" style=\"fill:#1f77b4;\"/>\n   </g>\n   <g id=\"patch_114\">\n    <path clip-path=\"url(#p5fb16d0284)\" d=\"M 244.219166 156.860431 \nL 247.72849 156.860431 \nL 247.72849 156.860431 \nL 244.219166 156.860431 \nz\n\" style=\"fill:#1f77b4;\"/>\n   </g>\n   <g id=\"patch_115\">\n    <path clip-path=\"url(#p5fb16d0284)\" d=\"M 248.605821 156.860431 \nL 252.115144 156.860431 \nL 252.115144 156.860431 \nL 248.605821 156.860431 \nz\n\" style=\"fill:#1f77b4;\"/>\n   </g>\n   <g id=\"patch_116\">\n    <path clip-path=\"url(#p5fb16d0284)\" d=\"M 252.992475 156.860431 \nL 256.501799 156.860431 \nL 256.501799 156.860431 \nL 252.992475 156.860431 \nz\n\" style=\"fill:#1f77b4;\"/>\n   </g>\n   <g id=\"patch_117\">\n    <path clip-path=\"url(#p5fb16d0284)\" d=\"M 257.37913 156.860431 \nL 260.888453 156.860431 \nL 260.888453 86.263029 \nL 257.37913 86.263029 \nz\n\" style=\"fill:#1f77b4;\"/>\n   </g>\n   <g id=\"patch_118\">\n    <path clip-path=\"url(#p5fb16d0284)\" d=\"M 261.765784 156.860431 \nL 265.275108 156.860431 \nL 265.275108 156.860431 \nL 261.765784 156.860431 \nz\n\" style=\"fill:#1f77b4;\"/>\n   </g>\n   <g id=\"patch_119\">\n    <path clip-path=\"url(#p5fb16d0284)\" d=\"M 266.152439 156.860431 \nL 269.661762 156.860431 \nL 269.661762 156.860431 \nL 266.152439 156.860431 \nz\n\" style=\"fill:#1f77b4;\"/>\n   </g>\n   <g id=\"patch_120\">\n    <path clip-path=\"url(#p5fb16d0284)\" d=\"M 270.539093 156.860431 \nL 274.048417 156.860431 \nL 274.048417 156.860431 \nL 270.539093 156.860431 \nz\n\" style=\"fill:#1f77b4;\"/>\n   </g>\n   <g id=\"patch_121\">\n    <path clip-path=\"url(#p5fb16d0284)\" d=\"M 274.925748 156.860431 \nL 278.435071 156.860431 \nL 278.435071 156.860431 \nL 274.925748 156.860431 \nz\n\" style=\"fill:#1f77b4;\"/>\n   </g>\n   <g id=\"patch_122\">\n    <path clip-path=\"url(#p5fb16d0284)\" d=\"M 279.312402 156.860431 \nL 282.821726 156.860431 \nL 282.821726 156.860431 \nL 279.312402 156.860431 \nz\n\" style=\"fill:#1f77b4;\"/>\n   </g>\n   <g id=\"matplotlib.axis_5\">\n    <g id=\"xtick_9\">\n     <g id=\"line2d_9\">\n      <g>\n       <use style=\"stroke:#000000;stroke-width:0.8;\" x=\"241.587173\" xlink:href=\"#m723a4afc53\" y=\"156.860431\"/>\n      </g>\n     </g>\n     <g id=\"text_9\">\n      <!-- 0 -->\n      <g transform=\"translate(238.405923 171.458869)scale(0.1 -0.1)\">\n       <use xlink:href=\"#DejaVuSans-48\"/>\n      </g>\n     </g>\n    </g>\n    <g id=\"xtick_10\">\n     <g id=\"line2d_10\">\n      <g>\n       <use style=\"stroke:#000000;stroke-width:0.8;\" x=\"263.520446\" xlink:href=\"#m723a4afc53\" y=\"156.860431\"/>\n      </g>\n     </g>\n     <g id=\"text_10\">\n      <!-- 5 -->\n      <g transform=\"translate(260.339196 171.458869)scale(0.1 -0.1)\">\n       <use xlink:href=\"#DejaVuSans-53\"/>\n      </g>\n     </g>\n    </g>\n   </g>\n   <g id=\"patch_123\">\n    <path d=\"M 237.683051 156.860431 \nL 237.683051 82.733159 \n\" style=\"fill:none;stroke:#000000;stroke-linecap:square;stroke-linejoin:miter;stroke-width:0.8;\"/>\n   </g>\n   <g id=\"patch_124\">\n    <path d=\"M 284.971186 156.860431 \nL 284.971186 82.733159 \n\" style=\"fill:none;stroke:#000000;stroke-linecap:square;stroke-linejoin:miter;stroke-width:0.8;\"/>\n   </g>\n   <g id=\"patch_125\">\n    <path d=\"M 237.683051 156.860431 \nL 284.971186 156.860431 \n\" style=\"fill:none;stroke:#000000;stroke-linecap:square;stroke-linejoin:miter;stroke-width:0.8;\"/>\n   </g>\n   <g id=\"patch_126\">\n    <path d=\"M 237.683051 82.733159 \nL 284.971186 82.733159 \n\" style=\"fill:none;stroke:#000000;stroke-linecap:square;stroke-linejoin:miter;stroke-width:0.8;\"/>\n   </g>\n  </g>\n  <g id=\"axes_16\">\n   <g id=\"patch_127\">\n    <path d=\"M 294.428814 156.860431 \nL 341.716949 156.860431 \nL 341.716949 82.733159 \nL 294.428814 82.733159 \nz\n\" style=\"fill:#ffffff;\"/>\n   </g>\n   <g id=\"patch_128\">\n    <path clip-path=\"url(#p81fc5e40b7)\" d=\"M 296.578274 156.860431 \nL 300.087598 156.860431 \nL 300.087598 156.860431 \nL 296.578274 156.860431 \nz\n\" style=\"fill:#1f77b4;\"/>\n   </g>\n   <g id=\"patch_129\">\n    <path clip-path=\"url(#p81fc5e40b7)\" d=\"M 300.964929 156.860431 \nL 304.474252 156.860431 \nL 304.474252 86.263029 \nL 300.964929 86.263029 \nz\n\" style=\"fill:#1f77b4;\"/>\n   </g>\n   <g id=\"patch_130\">\n    <path clip-path=\"url(#p81fc5e40b7)\" d=\"M 305.351583 156.860431 \nL 308.860907 156.860431 \nL 308.860907 156.860431 \nL 305.351583 156.860431 \nz\n\" style=\"fill:#1f77b4;\"/>\n   </g>\n   <g id=\"patch_131\">\n    <path clip-path=\"url(#p81fc5e40b7)\" d=\"M 309.738238 156.860431 \nL 313.247561 156.860431 \nL 313.247561 156.860431 \nL 309.738238 156.860431 \nz\n\" style=\"fill:#1f77b4;\"/>\n   </g>\n   <g id=\"patch_132\">\n    <path clip-path=\"url(#p81fc5e40b7)\" d=\"M 314.124892 156.860431 \nL 317.634216 156.860431 \nL 317.634216 156.860431 \nL 314.124892 156.860431 \nz\n\" style=\"fill:#1f77b4;\"/>\n   </g>\n   <g id=\"patch_133\">\n    <path clip-path=\"url(#p81fc5e40b7)\" d=\"M 318.511547 156.860431 \nL 322.02087 156.860431 \nL 322.02087 156.860431 \nL 318.511547 156.860431 \nz\n\" style=\"fill:#1f77b4;\"/>\n   </g>\n   <g id=\"patch_134\">\n    <path clip-path=\"url(#p81fc5e40b7)\" d=\"M 322.898201 156.860431 \nL 326.407525 156.860431 \nL 326.407525 156.860431 \nL 322.898201 156.860431 \nz\n\" style=\"fill:#1f77b4;\"/>\n   </g>\n   <g id=\"patch_135\">\n    <path clip-path=\"url(#p81fc5e40b7)\" d=\"M 327.284856 156.860431 \nL 330.794179 156.860431 \nL 330.794179 156.860431 \nL 327.284856 156.860431 \nz\n\" style=\"fill:#1f77b4;\"/>\n   </g>\n   <g id=\"patch_136\">\n    <path clip-path=\"url(#p81fc5e40b7)\" d=\"M 331.67151 156.860431 \nL 335.180834 156.860431 \nL 335.180834 156.860431 \nL 331.67151 156.860431 \nz\n\" style=\"fill:#1f77b4;\"/>\n   </g>\n   <g id=\"patch_137\">\n    <path clip-path=\"url(#p81fc5e40b7)\" d=\"M 336.058165 156.860431 \nL 339.567488 156.860431 \nL 339.567488 156.860431 \nL 336.058165 156.860431 \nz\n\" style=\"fill:#1f77b4;\"/>\n   </g>\n   <g id=\"matplotlib.axis_6\">\n    <g id=\"xtick_11\">\n     <g id=\"line2d_11\">\n      <g>\n       <use style=\"stroke:#000000;stroke-width:0.8;\" x=\"298.332936\" xlink:href=\"#m723a4afc53\" y=\"156.860431\"/>\n      </g>\n     </g>\n     <g id=\"text_11\">\n      <!-- 0 -->\n      <g transform=\"translate(295.151686 171.458869)scale(0.1 -0.1)\">\n       <use xlink:href=\"#DejaVuSans-48\"/>\n      </g>\n     </g>\n    </g>\n    <g id=\"xtick_12\">\n     <g id=\"line2d_12\">\n      <g>\n       <use style=\"stroke:#000000;stroke-width:0.8;\" x=\"320.266209\" xlink:href=\"#m723a4afc53\" y=\"156.860431\"/>\n      </g>\n     </g>\n     <g id=\"text_12\">\n      <!-- 5 -->\n      <g transform=\"translate(317.084959 171.458869)scale(0.1 -0.1)\">\n       <use xlink:href=\"#DejaVuSans-53\"/>\n      </g>\n     </g>\n    </g>\n   </g>\n   <g id=\"patch_138\">\n    <path d=\"M 294.428814 156.860431 \nL 294.428814 82.733159 \n\" style=\"fill:none;stroke:#000000;stroke-linecap:square;stroke-linejoin:miter;stroke-width:0.8;\"/>\n   </g>\n   <g id=\"patch_139\">\n    <path d=\"M 341.716949 156.860431 \nL 341.716949 82.733159 \n\" style=\"fill:none;stroke:#000000;stroke-linecap:square;stroke-linejoin:miter;stroke-width:0.8;\"/>\n   </g>\n   <g id=\"patch_140\">\n    <path d=\"M 294.428814 156.860431 \nL 341.716949 156.860431 \n\" style=\"fill:none;stroke:#000000;stroke-linecap:square;stroke-linejoin:miter;stroke-width:0.8;\"/>\n   </g>\n   <g id=\"patch_141\">\n    <path d=\"M 294.428814 82.733159 \nL 341.716949 82.733159 \n\" style=\"fill:none;stroke:#000000;stroke-linecap:square;stroke-linejoin:miter;stroke-width:0.8;\"/>\n   </g>\n  </g>\n  <g id=\"axes_17\">\n   <g id=\"patch_142\">\n    <path d=\"M 351.174576 156.860431 \nL 398.462712 156.860431 \nL 398.462712 82.733159 \nL 351.174576 82.733159 \nz\n\" style=\"fill:#ffffff;\"/>\n   </g>\n   <g id=\"patch_143\">\n    <path clip-path=\"url(#p97e8c2ee8d)\" d=\"M 353.324037 156.860431 \nL 356.833361 156.860431 \nL 356.833361 156.860431 \nL 353.324037 156.860431 \nz\n\" style=\"fill:#1f77b4;\"/>\n   </g>\n   <g id=\"patch_144\">\n    <path clip-path=\"url(#p97e8c2ee8d)\" d=\"M 357.710691 156.860431 \nL 361.220015 156.860431 \nL 361.220015 156.860431 \nL 357.710691 156.860431 \nz\n\" style=\"fill:#1f77b4;\"/>\n   </g>\n   <g id=\"patch_145\">\n    <path clip-path=\"url(#p97e8c2ee8d)\" d=\"M 362.097346 156.860431 \nL 365.60667 156.860431 \nL 365.60667 156.860431 \nL 362.097346 156.860431 \nz\n\" style=\"fill:#1f77b4;\"/>\n   </g>\n   <g id=\"patch_146\">\n    <path clip-path=\"url(#p97e8c2ee8d)\" d=\"M 366.484001 156.860431 \nL 369.993324 156.860431 \nL 369.993324 156.860431 \nL 366.484001 156.860431 \nz\n\" style=\"fill:#1f77b4;\"/>\n   </g>\n   <g id=\"patch_147\">\n    <path clip-path=\"url(#p97e8c2ee8d)\" d=\"M 370.870655 156.860431 \nL 374.379979 156.860431 \nL 374.379979 86.263029 \nL 370.870655 86.263029 \nz\n\" style=\"fill:#1f77b4;\"/>\n   </g>\n   <g id=\"patch_148\">\n    <path clip-path=\"url(#p97e8c2ee8d)\" d=\"M 375.25731 156.860431 \nL 378.766633 156.860431 \nL 378.766633 156.860431 \nL 375.25731 156.860431 \nz\n\" style=\"fill:#1f77b4;\"/>\n   </g>\n   <g id=\"patch_149\">\n    <path clip-path=\"url(#p97e8c2ee8d)\" d=\"M 379.643964 156.860431 \nL 383.153288 156.860431 \nL 383.153288 156.860431 \nL 379.643964 156.860431 \nz\n\" style=\"fill:#1f77b4;\"/>\n   </g>\n   <g id=\"patch_150\">\n    <path clip-path=\"url(#p97e8c2ee8d)\" d=\"M 384.030619 156.860431 \nL 387.539942 156.860431 \nL 387.539942 156.860431 \nL 384.030619 156.860431 \nz\n\" style=\"fill:#1f77b4;\"/>\n   </g>\n   <g id=\"patch_151\">\n    <path clip-path=\"url(#p97e8c2ee8d)\" d=\"M 388.417273 156.860431 \nL 391.926597 156.860431 \nL 391.926597 156.860431 \nL 388.417273 156.860431 \nz\n\" style=\"fill:#1f77b4;\"/>\n   </g>\n   <g id=\"patch_152\">\n    <path clip-path=\"url(#p97e8c2ee8d)\" d=\"M 392.803928 156.860431 \nL 396.313251 156.860431 \nL 396.313251 156.860431 \nL 392.803928 156.860431 \nz\n\" style=\"fill:#1f77b4;\"/>\n   </g>\n   <g id=\"matplotlib.axis_7\">\n    <g id=\"xtick_13\">\n     <g id=\"line2d_13\">\n      <g>\n       <use style=\"stroke:#000000;stroke-width:0.8;\" x=\"355.078699\" xlink:href=\"#m723a4afc53\" y=\"156.860431\"/>\n      </g>\n     </g>\n     <g id=\"text_13\">\n      <!-- 0 -->\n      <g transform=\"translate(351.897449 171.458869)scale(0.1 -0.1)\">\n       <use xlink:href=\"#DejaVuSans-48\"/>\n      </g>\n     </g>\n    </g>\n    <g id=\"xtick_14\">\n     <g id=\"line2d_14\">\n      <g>\n       <use style=\"stroke:#000000;stroke-width:0.8;\" x=\"377.011971\" xlink:href=\"#m723a4afc53\" y=\"156.860431\"/>\n      </g>\n     </g>\n     <g id=\"text_14\">\n      <!-- 5 -->\n      <g transform=\"translate(373.830721 171.458869)scale(0.1 -0.1)\">\n       <use xlink:href=\"#DejaVuSans-53\"/>\n      </g>\n     </g>\n    </g>\n   </g>\n   <g id=\"patch_153\">\n    <path d=\"M 351.174576 156.860431 \nL 351.174576 82.733159 \n\" style=\"fill:none;stroke:#000000;stroke-linecap:square;stroke-linejoin:miter;stroke-width:0.8;\"/>\n   </g>\n   <g id=\"patch_154\">\n    <path d=\"M 398.462712 156.860431 \nL 398.462712 82.733159 \n\" style=\"fill:none;stroke:#000000;stroke-linecap:square;stroke-linejoin:miter;stroke-width:0.8;\"/>\n   </g>\n   <g id=\"patch_155\">\n    <path d=\"M 351.174576 156.860431 \nL 398.462712 156.860431 \n\" style=\"fill:none;stroke:#000000;stroke-linecap:square;stroke-linejoin:miter;stroke-width:0.8;\"/>\n   </g>\n   <g id=\"patch_156\">\n    <path d=\"M 351.174576 82.733159 \nL 398.462712 82.733159 \n\" style=\"fill:none;stroke:#000000;stroke-linecap:square;stroke-linejoin:miter;stroke-width:0.8;\"/>\n   </g>\n  </g>\n  <g id=\"axes_18\">\n   <g id=\"patch_157\">\n    <path d=\"M 407.920339 156.860431 \nL 455.208475 156.860431 \nL 455.208475 82.733159 \nL 407.920339 82.733159 \nz\n\" style=\"fill:#ffffff;\"/>\n   </g>\n   <g id=\"patch_158\">\n    <path clip-path=\"url(#pe6698a3821)\" d=\"M 410.0698 156.860431 \nL 413.579123 156.860431 \nL 413.579123 156.860431 \nL 410.0698 156.860431 \nz\n\" style=\"fill:#1f77b4;\"/>\n   </g>\n   <g id=\"patch_159\">\n    <path clip-path=\"url(#pe6698a3821)\" d=\"M 414.456454 156.860431 \nL 417.965778 156.860431 \nL 417.965778 156.860431 \nL 414.456454 156.860431 \nz\n\" style=\"fill:#1f77b4;\"/>\n   </g>\n   <g id=\"patch_160\">\n    <path clip-path=\"url(#pe6698a3821)\" d=\"M 418.843109 156.860431 \nL 422.352432 156.860431 \nL 422.352432 156.860431 \nL 418.843109 156.860431 \nz\n\" style=\"fill:#1f77b4;\"/>\n   </g>\n   <g id=\"patch_161\">\n    <path clip-path=\"url(#pe6698a3821)\" d=\"M 423.229763 156.860431 \nL 426.739087 156.860431 \nL 426.739087 156.860431 \nL 423.229763 156.860431 \nz\n\" style=\"fill:#1f77b4;\"/>\n   </g>\n   <g id=\"patch_162\">\n    <path clip-path=\"url(#pe6698a3821)\" d=\"M 427.616418 156.860431 \nL 431.125741 156.860431 \nL 431.125741 156.860383 \nL 427.616418 156.860383 \nz\n\" style=\"fill:#1f77b4;\"/>\n   </g>\n   <g id=\"patch_163\">\n    <path clip-path=\"url(#pe6698a3821)\" d=\"M 432.003072 156.860431 \nL 435.512396 156.860431 \nL 435.512396 156.860431 \nL 432.003072 156.860431 \nz\n\" style=\"fill:#1f77b4;\"/>\n   </g>\n   <g id=\"patch_164\">\n    <path clip-path=\"url(#pe6698a3821)\" d=\"M 436.389727 156.860431 \nL 439.89905 156.860431 \nL 439.89905 156.860431 \nL 436.389727 156.860431 \nz\n\" style=\"fill:#1f77b4;\"/>\n   </g>\n   <g id=\"patch_165\">\n    <path clip-path=\"url(#pe6698a3821)\" d=\"M 440.776381 156.860431 \nL 444.285705 156.860431 \nL 444.285705 156.860431 \nL 440.776381 156.860431 \nz\n\" style=\"fill:#1f77b4;\"/>\n   </g>\n   <g id=\"patch_166\">\n    <path clip-path=\"url(#pe6698a3821)\" d=\"M 445.163036 156.860431 \nL 448.672359 156.860431 \nL 448.672359 156.860431 \nL 445.163036 156.860431 \nz\n\" style=\"fill:#1f77b4;\"/>\n   </g>\n   <g id=\"patch_167\">\n    <path clip-path=\"url(#pe6698a3821)\" d=\"M 449.54969 156.860431 \nL 453.059014 156.860431 \nL 453.059014 86.263029 \nL 449.54969 86.263029 \nz\n\" style=\"fill:#1f77b4;\"/>\n   </g>\n   <g id=\"matplotlib.axis_8\">\n    <g id=\"xtick_15\">\n     <g id=\"line2d_15\">\n      <g>\n       <use style=\"stroke:#000000;stroke-width:0.8;\" x=\"411.824461\" xlink:href=\"#m723a4afc53\" y=\"156.860431\"/>\n      </g>\n     </g>\n     <g id=\"text_15\">\n      <!-- 0 -->\n      <g transform=\"translate(408.643211 171.458869)scale(0.1 -0.1)\">\n       <use xlink:href=\"#DejaVuSans-48\"/>\n      </g>\n     </g>\n    </g>\n    <g id=\"xtick_16\">\n     <g id=\"line2d_16\">\n      <g>\n       <use style=\"stroke:#000000;stroke-width:0.8;\" x=\"433.757734\" xlink:href=\"#m723a4afc53\" y=\"156.860431\"/>\n      </g>\n     </g>\n     <g id=\"text_16\">\n      <!-- 5 -->\n      <g transform=\"translate(430.576484 171.458869)scale(0.1 -0.1)\">\n       <use xlink:href=\"#DejaVuSans-53\"/>\n      </g>\n     </g>\n    </g>\n   </g>\n   <g id=\"patch_168\">\n    <path d=\"M 407.920339 156.860431 \nL 407.920339 82.733159 \n\" style=\"fill:none;stroke:#000000;stroke-linecap:square;stroke-linejoin:miter;stroke-width:0.8;\"/>\n   </g>\n   <g id=\"patch_169\">\n    <path d=\"M 455.208475 156.860431 \nL 455.208475 82.733159 \n\" style=\"fill:none;stroke:#000000;stroke-linecap:square;stroke-linejoin:miter;stroke-width:0.8;\"/>\n   </g>\n   <g id=\"patch_170\">\n    <path d=\"M 407.920339 156.860431 \nL 455.208475 156.860431 \n\" style=\"fill:none;stroke:#000000;stroke-linecap:square;stroke-linejoin:miter;stroke-width:0.8;\"/>\n   </g>\n   <g id=\"patch_171\">\n    <path d=\"M 407.920339 82.733159 \nL 455.208475 82.733159 \n\" style=\"fill:none;stroke:#000000;stroke-linecap:square;stroke-linejoin:miter;stroke-width:0.8;\"/>\n   </g>\n  </g>\n  <g id=\"axes_19\">\n   <g id=\"patch_172\">\n    <path d=\"M 464.666102 156.860431 \nL 511.954237 156.860431 \nL 511.954237 82.733159 \nL 464.666102 82.733159 \nz\n\" style=\"fill:#ffffff;\"/>\n   </g>\n   <g id=\"patch_173\">\n    <path clip-path=\"url(#p5e31917491)\" d=\"M 466.815562 156.860431 \nL 470.324886 156.860431 \nL 470.324886 156.860431 \nL 466.815562 156.860431 \nz\n\" style=\"fill:#1f77b4;\"/>\n   </g>\n   <g id=\"patch_174\">\n    <path clip-path=\"url(#p5e31917491)\" d=\"M 471.202217 156.860431 \nL 474.711541 156.860431 \nL 474.711541 156.860431 \nL 471.202217 156.860431 \nz\n\" style=\"fill:#1f77b4;\"/>\n   </g>\n   <g id=\"patch_175\">\n    <path clip-path=\"url(#p5e31917491)\" d=\"M 475.588871 156.860431 \nL 479.098195 156.860431 \nL 479.098195 156.860431 \nL 475.588871 156.860431 \nz\n\" style=\"fill:#1f77b4;\"/>\n   </g>\n   <g id=\"patch_176\">\n    <path clip-path=\"url(#p5e31917491)\" d=\"M 479.975526 156.860431 \nL 483.48485 156.860431 \nL 483.48485 156.860431 \nL 479.975526 156.860431 \nz\n\" style=\"fill:#1f77b4;\"/>\n   </g>\n   <g id=\"patch_177\">\n    <path clip-path=\"url(#p5e31917491)\" d=\"M 484.36218 156.860431 \nL 487.871504 156.860431 \nL 487.871504 86.263029 \nL 484.36218 86.263029 \nz\n\" style=\"fill:#1f77b4;\"/>\n   </g>\n   <g id=\"patch_178\">\n    <path clip-path=\"url(#p5e31917491)\" d=\"M 488.748835 156.860431 \nL 492.258159 156.860431 \nL 492.258159 156.860423 \nL 488.748835 156.860423 \nz\n\" style=\"fill:#1f77b4;\"/>\n   </g>\n   <g id=\"patch_179\">\n    <path clip-path=\"url(#p5e31917491)\" d=\"M 493.135489 156.860431 \nL 496.644813 156.860431 \nL 496.644813 156.860431 \nL 493.135489 156.860431 \nz\n\" style=\"fill:#1f77b4;\"/>\n   </g>\n   <g id=\"patch_180\">\n    <path clip-path=\"url(#p5e31917491)\" d=\"M 497.522144 156.860431 \nL 501.031468 156.860431 \nL 501.031468 156.860431 \nL 497.522144 156.860431 \nz\n\" style=\"fill:#1f77b4;\"/>\n   </g>\n   <g id=\"patch_181\">\n    <path clip-path=\"url(#p5e31917491)\" d=\"M 501.908798 156.860431 \nL 505.418122 156.860431 \nL 505.418122 156.860431 \nL 501.908798 156.860431 \nz\n\" style=\"fill:#1f77b4;\"/>\n   </g>\n   <g id=\"patch_182\">\n    <path clip-path=\"url(#p5e31917491)\" d=\"M 506.295453 156.860431 \nL 509.804777 156.860431 \nL 509.804777 156.860431 \nL 506.295453 156.860431 \nz\n\" style=\"fill:#1f77b4;\"/>\n   </g>\n   <g id=\"matplotlib.axis_9\">\n    <g id=\"xtick_17\">\n     <g id=\"line2d_17\">\n      <g>\n       <use style=\"stroke:#000000;stroke-width:0.8;\" x=\"468.570224\" xlink:href=\"#m723a4afc53\" y=\"156.860431\"/>\n      </g>\n     </g>\n     <g id=\"text_17\">\n      <!-- 0 -->\n      <g transform=\"translate(465.388974 171.458869)scale(0.1 -0.1)\">\n       <use xlink:href=\"#DejaVuSans-48\"/>\n      </g>\n     </g>\n    </g>\n    <g id=\"xtick_18\">\n     <g id=\"line2d_18\">\n      <g>\n       <use style=\"stroke:#000000;stroke-width:0.8;\" x=\"490.503497\" xlink:href=\"#m723a4afc53\" y=\"156.860431\"/>\n      </g>\n     </g>\n     <g id=\"text_18\">\n      <!-- 5 -->\n      <g transform=\"translate(487.322247 171.458869)scale(0.1 -0.1)\">\n       <use xlink:href=\"#DejaVuSans-53\"/>\n      </g>\n     </g>\n    </g>\n   </g>\n   <g id=\"patch_183\">\n    <path d=\"M 464.666102 156.860431 \nL 464.666102 82.733159 \n\" style=\"fill:none;stroke:#000000;stroke-linecap:square;stroke-linejoin:miter;stroke-width:0.8;\"/>\n   </g>\n   <g id=\"patch_184\">\n    <path d=\"M 511.954237 156.860431 \nL 511.954237 82.733159 \n\" style=\"fill:none;stroke:#000000;stroke-linecap:square;stroke-linejoin:miter;stroke-width:0.8;\"/>\n   </g>\n   <g id=\"patch_185\">\n    <path d=\"M 464.666102 156.860431 \nL 511.954237 156.860431 \n\" style=\"fill:none;stroke:#000000;stroke-linecap:square;stroke-linejoin:miter;stroke-width:0.8;\"/>\n   </g>\n   <g id=\"patch_186\">\n    <path d=\"M 464.666102 82.733159 \nL 511.954237 82.733159 \n\" style=\"fill:none;stroke:#000000;stroke-linecap:square;stroke-linejoin:miter;stroke-width:0.8;\"/>\n   </g>\n  </g>\n  <g id=\"axes_20\">\n   <g id=\"patch_187\">\n    <path d=\"M 521.411864 156.860431 \nL 568.7 156.860431 \nL 568.7 82.733159 \nL 521.411864 82.733159 \nz\n\" style=\"fill:#ffffff;\"/>\n   </g>\n   <g id=\"patch_188\">\n    <path clip-path=\"url(#p4f2d9f290b)\" d=\"M 523.561325 156.860431 \nL 527.070649 156.860431 \nL 527.070649 156.860431 \nL 523.561325 156.860431 \nz\n\" style=\"fill:#1f77b4;\"/>\n   </g>\n   <g id=\"patch_189\">\n    <path clip-path=\"url(#p4f2d9f290b)\" d=\"M 527.94798 156.860431 \nL 531.457303 156.860431 \nL 531.457303 156.860431 \nL 527.94798 156.860431 \nz\n\" style=\"fill:#1f77b4;\"/>\n   </g>\n   <g id=\"patch_190\">\n    <path clip-path=\"url(#p4f2d9f290b)\" d=\"M 532.334634 156.860431 \nL 535.843958 156.860431 \nL 535.843958 156.860431 \nL 532.334634 156.860431 \nz\n\" style=\"fill:#1f77b4;\"/>\n   </g>\n   <g id=\"patch_191\">\n    <path clip-path=\"url(#p4f2d9f290b)\" d=\"M 536.721289 156.860431 \nL 540.230612 156.860431 \nL 540.230612 156.860431 \nL 536.721289 156.860431 \nz\n\" style=\"fill:#1f77b4;\"/>\n   </g>\n   <g id=\"patch_192\">\n    <path clip-path=\"url(#p4f2d9f290b)\" d=\"M 541.107943 156.860431 \nL 544.617267 156.860431 \nL 544.617267 156.860431 \nL 541.107943 156.860431 \nz\n\" style=\"fill:#1f77b4;\"/>\n   </g>\n   <g id=\"patch_193\">\n    <path clip-path=\"url(#p4f2d9f290b)\" d=\"M 545.494598 156.860431 \nL 549.003921 156.860431 \nL 549.003921 156.860431 \nL 545.494598 156.860431 \nz\n\" style=\"fill:#1f77b4;\"/>\n   </g>\n   <g id=\"patch_194\">\n    <path clip-path=\"url(#p4f2d9f290b)\" d=\"M 549.881252 156.860431 \nL 553.390576 156.860431 \nL 553.390576 156.860431 \nL 549.881252 156.860431 \nz\n\" style=\"fill:#1f77b4;\"/>\n   </g>\n   <g id=\"patch_195\">\n    <path clip-path=\"url(#p4f2d9f290b)\" d=\"M 554.267907 156.860431 \nL 557.77723 156.860431 \nL 557.77723 156.744596 \nL 554.267907 156.744596 \nz\n\" style=\"fill:#1f77b4;\"/>\n   </g>\n   <g id=\"patch_196\">\n    <path clip-path=\"url(#p4f2d9f290b)\" d=\"M 558.654561 156.860431 \nL 562.163885 156.860431 \nL 562.163885 156.860431 \nL 558.654561 156.860431 \nz\n\" style=\"fill:#1f77b4;\"/>\n   </g>\n   <g id=\"patch_197\">\n    <path clip-path=\"url(#p4f2d9f290b)\" d=\"M 563.041216 156.860431 \nL 566.550539 156.860431 \nL 566.550539 86.263029 \nL 563.041216 86.263029 \nz\n\" style=\"fill:#1f77b4;\"/>\n   </g>\n   <g id=\"matplotlib.axis_10\">\n    <g id=\"xtick_19\">\n     <g id=\"line2d_19\">\n      <g>\n       <use style=\"stroke:#000000;stroke-width:0.8;\" x=\"525.315987\" xlink:href=\"#m723a4afc53\" y=\"156.860431\"/>\n      </g>\n     </g>\n     <g id=\"text_19\">\n      <!-- 0 -->\n      <g transform=\"translate(522.134737 171.458869)scale(0.1 -0.1)\">\n       <use xlink:href=\"#DejaVuSans-48\"/>\n      </g>\n     </g>\n    </g>\n    <g id=\"xtick_20\">\n     <g id=\"line2d_20\">\n      <g>\n       <use style=\"stroke:#000000;stroke-width:0.8;\" x=\"547.249259\" xlink:href=\"#m723a4afc53\" y=\"156.860431\"/>\n      </g>\n     </g>\n     <g id=\"text_20\">\n      <!-- 5 -->\n      <g transform=\"translate(544.068009 171.458869)scale(0.1 -0.1)\">\n       <use xlink:href=\"#DejaVuSans-53\"/>\n      </g>\n     </g>\n    </g>\n   </g>\n   <g id=\"patch_198\">\n    <path d=\"M 521.411864 156.860431 \nL 521.411864 82.733159 \n\" style=\"fill:none;stroke:#000000;stroke-linecap:square;stroke-linejoin:miter;stroke-width:0.8;\"/>\n   </g>\n   <g id=\"patch_199\">\n    <path d=\"M 568.7 156.860431 \nL 568.7 82.733159 \n\" style=\"fill:none;stroke:#000000;stroke-linecap:square;stroke-linejoin:miter;stroke-width:0.8;\"/>\n   </g>\n   <g id=\"patch_200\">\n    <path d=\"M 521.411864 156.860431 \nL 568.7 156.860431 \n\" style=\"fill:none;stroke:#000000;stroke-linecap:square;stroke-linejoin:miter;stroke-width:0.8;\"/>\n   </g>\n   <g id=\"patch_201\">\n    <path d=\"M 521.411864 82.733159 \nL 568.7 82.733159 \n\" style=\"fill:none;stroke:#000000;stroke-linecap:square;stroke-linejoin:miter;stroke-width:0.8;\"/>\n   </g>\n  </g>\n </g>\n <defs>\n  <clipPath id=\"pb37cc65e16\">\n   <rect height=\"47.288136\" width=\"47.288136\" x=\"10.7\" y=\"7.2\"/>\n  </clipPath>\n  <clipPath id=\"pd9e511bc64\">\n   <rect height=\"47.288136\" width=\"47.288136\" x=\"67.445763\" y=\"7.2\"/>\n  </clipPath>\n  <clipPath id=\"p22f62b1f0a\">\n   <rect height=\"47.288136\" width=\"47.288136\" x=\"124.191525\" y=\"7.2\"/>\n  </clipPath>\n  <clipPath id=\"p114adb39fa\">\n   <rect height=\"47.288136\" width=\"47.288136\" x=\"180.937288\" y=\"7.2\"/>\n  </clipPath>\n  <clipPath id=\"p1a886e2cde\">\n   <rect height=\"47.288136\" width=\"47.288136\" x=\"237.683051\" y=\"7.2\"/>\n  </clipPath>\n  <clipPath id=\"p01455a65dc\">\n   <rect height=\"47.288136\" width=\"47.288136\" x=\"294.428814\" y=\"7.2\"/>\n  </clipPath>\n  <clipPath id=\"p1a61569a32\">\n   <rect height=\"47.288136\" width=\"47.288136\" x=\"351.174576\" y=\"7.2\"/>\n  </clipPath>\n  <clipPath id=\"pc7282cd01d\">\n   <rect height=\"47.288136\" width=\"47.288136\" x=\"407.920339\" y=\"7.2\"/>\n  </clipPath>\n  <clipPath id=\"p893a335c68\">\n   <rect height=\"47.288136\" width=\"47.288136\" x=\"464.666102\" y=\"7.2\"/>\n  </clipPath>\n  <clipPath id=\"pf9816de679\">\n   <rect height=\"47.288136\" width=\"47.288136\" x=\"521.411864\" y=\"7.2\"/>\n  </clipPath>\n  <clipPath id=\"p2702016472\">\n   <rect height=\"74.127273\" width=\"47.288136\" x=\"10.7\" y=\"82.733159\"/>\n  </clipPath>\n  <clipPath id=\"p526eed8d38\">\n   <rect height=\"74.127273\" width=\"47.288136\" x=\"67.445763\" y=\"82.733159\"/>\n  </clipPath>\n  <clipPath id=\"pf40620229c\">\n   <rect height=\"74.127273\" width=\"47.288136\" x=\"124.191525\" y=\"82.733159\"/>\n  </clipPath>\n  <clipPath id=\"p8e24c052dd\">\n   <rect height=\"74.127273\" width=\"47.288136\" x=\"180.937288\" y=\"82.733159\"/>\n  </clipPath>\n  <clipPath id=\"p5fb16d0284\">\n   <rect height=\"74.127273\" width=\"47.288136\" x=\"237.683051\" y=\"82.733159\"/>\n  </clipPath>\n  <clipPath id=\"p81fc5e40b7\">\n   <rect height=\"74.127273\" width=\"47.288136\" x=\"294.428814\" y=\"82.733159\"/>\n  </clipPath>\n  <clipPath id=\"p97e8c2ee8d\">\n   <rect height=\"74.127273\" width=\"47.288136\" x=\"351.174576\" y=\"82.733159\"/>\n  </clipPath>\n  <clipPath id=\"pe6698a3821\">\n   <rect height=\"74.127273\" width=\"47.288136\" x=\"407.920339\" y=\"82.733159\"/>\n  </clipPath>\n  <clipPath id=\"p5e31917491\">\n   <rect height=\"74.127273\" width=\"47.288136\" x=\"464.666102\" y=\"82.733159\"/>\n  </clipPath>\n  <clipPath id=\"p4f2d9f290b\">\n   <rect height=\"74.127273\" width=\"47.288136\" x=\"521.411864\" y=\"82.733159\"/>\n  </clipPath>\n </defs>\n</svg>\n"
          },
          "metadata": {
            "tags": [],
            "needs_background": "light"
          }
        }
      ]
    },
    {
      "cell_type": "code",
      "metadata": {
        "id": "S0Zn48nKW_LS",
        "colab_type": "code",
        "colab": {
          "base_uri": "https://localhost:8080/",
          "height": 34
        },
        "outputId": "804da582-4842-4fb5-9c8c-b761228f6cb4"
      },
      "source": [
        "ctr = 0\n",
        "err = 0\n",
        "\n",
        "for data, label in mnist_test:\n",
        "    ctr += 1\n",
        "    x = data.reshape((784,1))\n",
        "    y = int(label)\n",
        "\n",
        "    post = bayespost(x)\n",
        "    if (post[y] < post.max()):\n",
        "        err += 1\n",
        "\n",
        "print('Naive Bayes has an error rate of', err/ctr)\n"
      ],
      "execution_count": 7,
      "outputs": [
        {
          "output_type": "stream",
          "text": [
            "Naive Bayes has an error rate of 0.1553\n"
          ],
          "name": "stdout"
        }
      ]
    }
  ]
}